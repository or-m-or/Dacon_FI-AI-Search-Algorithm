{
 "cells": [
  {
   "cell_type": "markdown",
   "metadata": {},
   "source": [
    "# Question - Answering with Retrieval\n",
    "\n",
    "본 대회의 과제는 중앙정부 재정 정보에 대한 **검색 기능**을 개선하고 활용도를 높이는 질의응답 알고리즘을 개발하는 것입니다. <br>이를 통해 방대한 재정 데이터를 일반 국민과 전문가 모두가 쉽게 접근하고 활용할 수 있도록 하는 것이 목표입니다. <br><br>\n",
    "베이스라인에서는 평가 데이터셋만을 활용하여 source pdf 마다 Vector DB를 구축한 뒤 langchain 라이브러리와 llama-2-ko-7b 모델을 사용하여 RAG 프로세스를 통해 추론하는 과정을 담고 있습니다. <br>( train_set을 활용한 훈련 과정은 포함하지 않으며, test_set  에 대한 추론만 진행합니다. )"
   ]
  },
  {
   "cell_type": "markdown",
   "metadata": {},
   "source": [
    "# Download Library"
   ]
  },
  {
   "cell_type": "code",
   "execution_count": 1,
   "metadata": {},
   "outputs": [],
   "source": [
    "!pip install accelerate\n",
    "!pip install -i https://pypi.org/simple/ bitsandbytes\n",
    "!pip install transformers[torch] -U\n",
    "\n",
    "!pip install datasets\n",
    "!pip install langchain\n",
    "!pip install langchain_community\n",
    "!pip install PyMuPDF\n",
    "!pip install sentence-transformers\n",
    "!pip install faiss-cpu"
   ]
  },
  {
   "cell_type": "markdown",
   "metadata": {},
   "source": [
    "# Import Library"
   ]
  },
  {
   "cell_type": "code",
   "execution_count": 2,
   "metadata": {},
   "outputs": [],
   "source": [
    "import os\n",
    "import unicodedata\n",
    "\n",
    "import torch\n",
    "import pandas as pd\n",
    "from tqdm import tqdm\n",
    "import fitz  # PyMuPDF\n",
    "\n",
    "from transformers import (\n",
    "    AutoTokenizer,\n",
    "    AutoModelForCausalLM,\n",
    "    pipeline,\n",
    "    BitsAndBytesConfig,\n",
    "    Gemma2ForCausalLM\n",
    ")\n",
    "from accelerate import Accelerator\n",
    "\n",
    "# Langchain 관련\n",
    "from langchain.llms import HuggingFacePipeline\n",
    "from langchain.embeddings import HuggingFaceEmbeddings\n",
    "from langchain.vectorstores import FAISS\n",
    "from langchain.schema import Document\n",
    "from langchain.text_splitter import RecursiveCharacterTextSplitter\n",
    "from langchain.prompts import PromptTemplate\n",
    "from langchain.schema.runnable import RunnablePassthrough\n",
    "from langchain.schema.output_parser import StrOutputParser\n",
    "\n",
    "from peft import PeftModel"
   ]
  },
  {
   "cell_type": "markdown",
   "metadata": {},
   "source": [
    "# Vector DB"
   ]
  },
  {
   "cell_type": "code",
   "execution_count": 3,
   "metadata": {},
   "outputs": [],
   "source": [
    "def process_pdf(file_path, chunk_size=512, chunk_overlap=32):\n",
    "    \"\"\"PDF 텍스트 추출 후 chunk 단위로 나누기\"\"\"\n",
    "    # PDF 파일 열기\n",
    "    doc = fitz.open(file_path)\n",
    "    text = ''\n",
    "    # 모든 페이지의 텍스트 추출\n",
    "    for page in doc:\n",
    "        text += page.get_text()\n",
    "    # 텍스트를 chunk로 분할\n",
    "    splitter = RecursiveCharacterTextSplitter(\n",
    "        chunk_size=chunk_size,\n",
    "        chunk_overlap=chunk_overlap\n",
    "    )\n",
    "    chunk_temp = splitter.split_text(text)\n",
    "    # Document 객체 리스트 생성\n",
    "    chunks = [Document(page_content=t) for t in chunk_temp]\n",
    "    return chunks\n",
    "\n",
    "\n",
    "def create_vector_db(chunks, model_path=\"intfloat/multilingual-e5-base\"):\n",
    "    \"\"\"FAISS DB 생성\"\"\"\n",
    "    # 임베딩 모델 설정\n",
    "    model_kwargs = {'device': 'cuda'}\n",
    "    encode_kwargs = {'normalize_embeddings': True}\n",
    "    embeddings = HuggingFaceEmbeddings(\n",
    "        model_name=model_path,\n",
    "        model_kwargs=model_kwargs,\n",
    "        encode_kwargs=encode_kwargs\n",
    "    )\n",
    "    # FAISS DB 생성 및 반환\n",
    "    db = FAISS.from_documents(chunks, embedding=embeddings)\n",
    "    return db\n",
    "\n",
    "def normalize_path(path):\n",
    "    \"\"\"경로 유니코드 정규화\"\"\"\n",
    "    return unicodedata.normalize('NFC', path)\n",
    "\n",
    "\n",
    "def process_pdfs_from_dataframe(df, base_directory):\n",
    "    \"\"\"딕셔너리에 pdf명을 키로해서 DB, retriever 저장\"\"\"\n",
    "    pdf_databases = {}\n",
    "    unique_paths = df['Source_path'].unique()\n",
    "    \n",
    "    for path in tqdm(unique_paths, desc=\"Processing PDFs\"):\n",
    "        # 경로 정규화 및 절대 경로 생성\n",
    "        normalized_path = normalize_path(path)\n",
    "        full_path = os.path.normpath(os.path.join(base_directory, normalized_path.lstrip('./'))) if not os.path.isabs(normalized_path) else normalized_path\n",
    "        \n",
    "        pdf_title = os.path.splitext(os.path.basename(full_path))[0]\n",
    "        print(f\"Processing {pdf_title}...\")\n",
    "        \n",
    "        # PDF 처리 및 벡터 DB 생성\n",
    "        chunks = process_pdf(full_path)\n",
    "        db = create_vector_db(chunks)\n",
    "        \n",
    "        # Retriever 생성\n",
    "        retriever = db.as_retriever(search_type=\"mmr\", \n",
    "                                    search_kwargs={'k': 3, 'fetch_k': 8})\n",
    "        \n",
    "        # 결과 저장\n",
    "        pdf_databases[pdf_title] = {\n",
    "                'db': db,\n",
    "                'retriever': retriever\n",
    "        }\n",
    "    return pdf_databases\n"
   ]
  },
  {
   "cell_type": "markdown",
   "metadata": {},
   "source": [
    "# DB 생성"
   ]
  },
  {
   "cell_type": "code",
   "execution_count": 4,
   "metadata": {},
   "outputs": [
    {
     "name": "stderr",
     "output_type": "stream",
     "text": [
      "Processing PDFs:   0%|                                                                    | 0/9 [00:00<?, ?it/s]/home/elicer/.local/lib/python3.10/site-packages/langchain_core/_api/deprecation.py:139: LangChainDeprecationWarning: The class `HuggingFaceEmbeddings` was deprecated in LangChain 0.2.2 and will be removed in 0.3.0. An updated version of the class exists in the langchain-huggingface package and should be used instead. To use it run `pip install -U langchain-huggingface` and import as `from langchain_huggingface import HuggingFaceEmbeddings`.\n",
      "  warn_deprecated(\n"
     ]
    },
    {
     "name": "stdout",
     "output_type": "stream",
     "text": [
      "Processing 중소벤처기업부_혁신창업사업화자금(융자)...\n"
     ]
    },
    {
     "data": {
      "application/vnd.jupyter.widget-view+json": {
       "model_id": "7c9fb335fc0b446ba8f1faf1ba189b9c",
       "version_major": 2,
       "version_minor": 0
      },
      "text/plain": [
       "modules.json:   0%|          | 0.00/387 [00:00<?, ?B/s]"
      ]
     },
     "metadata": {},
     "output_type": "display_data"
    },
    {
     "data": {
      "application/vnd.jupyter.widget-view+json": {
       "model_id": "b8ab915772cf4c3ca547b59564d794fc",
       "version_major": 2,
       "version_minor": 0
      },
      "text/plain": [
       "README.md:   0%|          | 0.00/179k [00:00<?, ?B/s]"
      ]
     },
     "metadata": {},
     "output_type": "display_data"
    },
    {
     "data": {
      "application/vnd.jupyter.widget-view+json": {
       "model_id": "67d1137c259a4d87bd091c9189f927fd",
       "version_major": 2,
       "version_minor": 0
      },
      "text/plain": [
       "sentence_bert_config.json:   0%|          | 0.00/57.0 [00:00<?, ?B/s]"
      ]
     },
     "metadata": {},
     "output_type": "display_data"
    },
    {
     "data": {
      "application/vnd.jupyter.widget-view+json": {
       "model_id": "d1f2c32354dd481dbeb4d0f1ff2d1c43",
       "version_major": 2,
       "version_minor": 0
      },
      "text/plain": [
       "config.json:   0%|          | 0.00/694 [00:00<?, ?B/s]"
      ]
     },
     "metadata": {},
     "output_type": "display_data"
    },
    {
     "data": {
      "application/vnd.jupyter.widget-view+json": {
       "model_id": "69de5d5ca3af465e91075609781eddff",
       "version_major": 2,
       "version_minor": 0
      },
      "text/plain": [
       "model.safetensors:   0%|          | 0.00/1.11G [00:00<?, ?B/s]"
      ]
     },
     "metadata": {},
     "output_type": "display_data"
    },
    {
     "data": {
      "application/vnd.jupyter.widget-view+json": {
       "model_id": "e5e9793d264c4008a9abb9193e5f4606",
       "version_major": 2,
       "version_minor": 0
      },
      "text/plain": [
       "tokenizer_config.json:   0%|          | 0.00/418 [00:00<?, ?B/s]"
      ]
     },
     "metadata": {},
     "output_type": "display_data"
    },
    {
     "data": {
      "application/vnd.jupyter.widget-view+json": {
       "model_id": "7d2fc8136ce74090808a15c0550e49c7",
       "version_major": 2,
       "version_minor": 0
      },
      "text/plain": [
       "sentencepiece.bpe.model:   0%|          | 0.00/5.07M [00:00<?, ?B/s]"
      ]
     },
     "metadata": {},
     "output_type": "display_data"
    },
    {
     "data": {
      "application/vnd.jupyter.widget-view+json": {
       "model_id": "7effa400b28d424da36c054bbf2971fd",
       "version_major": 2,
       "version_minor": 0
      },
      "text/plain": [
       "tokenizer.json:   0%|          | 0.00/17.1M [00:00<?, ?B/s]"
      ]
     },
     "metadata": {},
     "output_type": "display_data"
    },
    {
     "data": {
      "application/vnd.jupyter.widget-view+json": {
       "model_id": "100e43519a9342a595217e7c8af28873",
       "version_major": 2,
       "version_minor": 0
      },
      "text/plain": [
       "special_tokens_map.json:   0%|          | 0.00/280 [00:00<?, ?B/s]"
      ]
     },
     "metadata": {},
     "output_type": "display_data"
    },
    {
     "data": {
      "application/vnd.jupyter.widget-view+json": {
       "model_id": "bad773c557dc4cd78e83adddcd239bf8",
       "version_major": 2,
       "version_minor": 0
      },
      "text/plain": [
       "1_Pooling/config.json:   0%|          | 0.00/200 [00:00<?, ?B/s]"
      ]
     },
     "metadata": {},
     "output_type": "display_data"
    },
    {
     "name": "stderr",
     "output_type": "stream",
     "text": [
      "\r\n",
      "Processing PDFs:  11%|██████▋                                                     | 1/9 [00:30<04:06, 30.82s/it]"
     ]
    },
    {
     "name": "stdout",
     "output_type": "stream",
     "text": [
      "Processing 보건복지부_부모급여(영아수당) 지원...\n"
     ]
    },
    {
     "name": "stderr",
     "output_type": "stream",
     "text": [
      "\r\n",
      "Processing PDFs:  22%|█████████████▎                                              | 2/9 [00:35<01:46, 15.19s/it]"
     ]
    },
    {
     "name": "stdout",
     "output_type": "stream",
     "text": [
      "Processing 보건복지부_노인장기요양보험 사업운영...\n"
     ]
    },
    {
     "name": "stderr",
     "output_type": "stream",
     "text": [
      "\r\n",
      "Processing PDFs:  33%|████████████████████                                        | 3/9 [00:39<01:00, 10.07s/it]"
     ]
    },
    {
     "name": "stdout",
     "output_type": "stream",
     "text": [
      "Processing 산업통상자원부_에너지바우처...\n"
     ]
    },
    {
     "name": "stderr",
     "output_type": "stream",
     "text": [
      "\r\n",
      "Processing PDFs:  44%|██████████████████████████▋                                 | 4/9 [00:43<00:38,  7.66s/it]"
     ]
    },
    {
     "name": "stdout",
     "output_type": "stream",
     "text": [
      "Processing 국토교통부_행복주택출자...\n"
     ]
    },
    {
     "name": "stderr",
     "output_type": "stream",
     "text": [
      "\r\n",
      "Processing PDFs:  56%|█████████████████████████████████▎                          | 5/9 [00:47<00:26,  6.61s/it]"
     ]
    },
    {
     "name": "stdout",
     "output_type": "stream",
     "text": [
      "Processing 「FIS 이슈 & 포커스」 22-4호 《중앙-지방 간 재정조정제도》...\n"
     ]
    },
    {
     "name": "stderr",
     "output_type": "stream",
     "text": [
      "\r\n",
      "Processing PDFs:  67%|████████████████████████████████████████                    | 6/9 [00:51<00:17,  5.68s/it]"
     ]
    },
    {
     "name": "stdout",
     "output_type": "stream",
     "text": [
      "Processing 「FIS 이슈 & 포커스」 23-2호 《핵심재정사업 성과관리》...\n"
     ]
    },
    {
     "name": "stderr",
     "output_type": "stream",
     "text": [
      "\r\n",
      "Processing PDFs:  78%|██████████████████████████████████████████████▋             | 7/9 [00:56<00:10,  5.42s/it]"
     ]
    },
    {
     "name": "stdout",
     "output_type": "stream",
     "text": [
      "Processing 「FIS 이슈&포커스」 22-2호 《재정성과관리제도》...\n"
     ]
    },
    {
     "name": "stderr",
     "output_type": "stream",
     "text": [
      "\r\n",
      "Processing PDFs:  89%|█████████████████████████████████████████████████████▎      | 8/9 [01:00<00:04,  4.99s/it]"
     ]
    },
    {
     "name": "stdout",
     "output_type": "stream",
     "text": [
      "Processing 「FIS 이슈 & 포커스」(신규) 통권 제1호 《우발부채》...\n"
     ]
    },
    {
     "name": "stderr",
     "output_type": "stream",
     "text": [
      "Processing PDFs: 100%|████████████████████████████████████████████████████████████| 9/9 [01:04<00:00,  7.15s/it]\n"
     ]
    }
   ],
   "source": [
    "base_directory = './' # Your Base Directory\n",
    "df = pd.read_csv('./test.csv')\n",
    "pdf_databases = process_pdfs_from_dataframe(df, base_directory)"
   ]
  },
  {
   "cell_type": "markdown",
   "metadata": {},
   "source": [
    "# MODEL Import"
   ]
  },
  {
   "cell_type": "code",
   "execution_count": 5,
   "metadata": {},
   "outputs": [],
   "source": [
    "def setup_llm_pipeline():\n",
    "    # 4비트 양자화 설정\n",
    "    bnb_config = BitsAndBytesConfig(\n",
    "        load_in_4bit=True,\n",
    "        bnb_4bit_use_double_quant=True,\n",
    "        bnb_4bit_quant_type=\"nf4\",\n",
    "        bnb_4bit_compute_dtype=torch.bfloat16\n",
    "    )\n",
    "\n",
    "    # 모델 ID \n",
    "    model_id = \"rtzr/ko-gemma-2-9b-it\"\n",
    "\n",
    "    # 토크나이저 로드 및 설정\n",
    "    tokenizer = AutoTokenizer.from_pretrained(model_id)\n",
    "    tokenizer.use_default_system_prompt = False\n",
    "\n",
    "    # 모델 로드 및 양자화 설정 적용\n",
    "    model = Gemma2ForCausalLM.from_pretrained(\n",
    "        model_id,\n",
    "        #quantization_config=bnb_config,\n",
    "        device_map=\"auto\",\n",
    "        trust_remote_code=True )\n",
    "\n",
    "#     model = PeftModel.from_pretrained(model, \"./persona/checkpoint-200\",is_trainable=True)\n",
    "\n",
    "    # HuggingFacePipeline 객체 생성\n",
    "    text_generation_pipeline = pipeline(\n",
    "        model=model,\n",
    "        tokenizer=tokenizer,\n",
    "        task=\"text-generation\",\n",
    "        #temperature=0.2,\n",
    "        return_full_text=False,\n",
    "        max_new_tokens=450,\n",
    "    )\n",
    "\n",
    "    hf = HuggingFacePipeline(pipeline=text_generation_pipeline)\n",
    "\n",
    "    return hf"
   ]
  },
  {
   "cell_type": "code",
   "execution_count": 6,
   "metadata": {},
   "outputs": [
    {
     "name": "stderr",
     "output_type": "stream",
     "text": [
      "The argument `trust_remote_code` is to be used with Auto classes. It has no effect here and is ignored.\n"
     ]
    },
    {
     "data": {
      "application/vnd.jupyter.widget-view+json": {
       "model_id": "2655492236e74106ba8261d73eadeb11",
       "version_major": 2,
       "version_minor": 0
      },
      "text/plain": [
       "Loading checkpoint shards:   0%|          | 0/10 [00:00<?, ?it/s]"
      ]
     },
     "metadata": {},
     "output_type": "display_data"
    },
    {
     "name": "stderr",
     "output_type": "stream",
     "text": [
      "/home/elicer/.local/lib/python3.10/site-packages/langchain_core/_api/deprecation.py:139: LangChainDeprecationWarning: The class `HuggingFacePipeline` was deprecated in LangChain 0.0.37 and will be removed in 0.3. An updated version of the class exists in the langchain-huggingface package and should be used instead. To use it run `pip install -U langchain-huggingface` and import as `from langchain_huggingface import HuggingFacePipeline`.\n",
      "  warn_deprecated(\n"
     ]
    }
   ],
   "source": [
    "# LLM 파이프라인\n",
    "llm = setup_llm_pipeline()"
   ]
  },
  {
   "cell_type": "markdown",
   "metadata": {},
   "source": [
    "# Langchain 을 이용한 추론"
   ]
  },
  {
   "cell_type": "code",
   "execution_count": 7,
   "metadata": {
    "scrolled": false
   },
   "outputs": [
    {
     "name": "stderr",
     "output_type": "stream",
     "text": [
      "\r\n",
      "Answering Questions:   0%|                                                               | 0/98 [00:00<?, ?it/s]"
     ]
    },
    {
     "name": "stdout",
     "output_type": "stream",
     "text": [
      "Question: 2022년 혁신창업사업화자금(융자)의 예산은 얼마인가요?\n"
     ]
    },
    {
     "name": "stderr",
     "output_type": "stream",
     "text": [
      "\r\n",
      "Answering Questions:   1%|▌                                                      | 1/98 [00:07<12:55,  8.00s/it]"
     ]
    },
    {
     "name": "stdout",
     "output_type": "stream",
     "text": [
      "Answer: 2022년 혁신창업사업화자금(융자)의 예산은 2,300,000 백만원입니다. \n",
      "\n",
      "\n",
      "\n",
      "\n",
      "Question: 중소벤처기업부의 혁신창업사업화자금(융자) 사업목적은 무엇인가요?\n"
     ]
    },
    {
     "name": "stderr",
     "output_type": "stream",
     "text": [
      "\r\n",
      "Answering Questions:   2%|█                                                      | 2/98 [00:24<20:43, 12.95s/it]"
     ]
    },
    {
     "name": "stdout",
     "output_type": "stream",
     "text": [
      "Answer: 중소벤처기업부의 혁신창업사업화자금(융자) 사업목적은 기술력과 사업성이 우수하고 미래 성장가능성이 높은 중소벤처기업의 창업을 활성화하고 고용창출 도모, 중소기업이 보유한 우수 기술의 사장을 방지하고 개발기술의 제품화·사업화를 촉진하여 기술기반 중소기업을 육성하는 것입니다. \n",
      "\n",
      "\n",
      "\n",
      "\n",
      "Question: 중소벤처기업부의 혁신창업사업화자금(융자) 사업근거는 어떤 법률에 근거하고 있나요?\n"
     ]
    },
    {
     "name": "stderr",
     "output_type": "stream",
     "text": [
      "\r\n",
      "Answering Questions:   3%|█▋                                                     | 3/98 [00:35<19:18, 12.19s/it]"
     ]
    },
    {
     "name": "stdout",
     "output_type": "stream",
     "text": [
      "Answer: 중소벤처기업부의 혁신창업사업화자금(융자) 사업근거는 중소기업진흥에 관한 법률 제66조, 제67조, 제74조 및 중소기업창업지원법 제35조에 근거하고 있습니다. \n",
      "\n",
      "\n",
      "\n",
      "\n",
      "Question: 2010년에 신규 지원된 혁신창업사업화자금은 무엇인가요?\n"
     ]
    },
    {
     "name": "stderr",
     "output_type": "stream",
     "text": [
      "\r\n",
      "Answering Questions:   4%|██▏                                                    | 4/98 [00:42<15:38,  9.99s/it]"
     ]
    },
    {
     "name": "stdout",
     "output_type": "stream",
     "text": [
      "Answer: 2010년에 신규 지원된 혁신창업사업화자금은 재창업자금입니다. \n",
      "\n",
      "\n",
      "\n",
      "\n",
      "Question: 혁신창업사업화자금 중 2020년에 신규 지원된 자금은 무엇인가요?\n"
     ]
    },
    {
     "name": "stderr",
     "output_type": "stream",
     "text": [
      "\r\n",
      "Answering Questions:   5%|██▊                                                    | 5/98 [00:50<14:29,  9.35s/it]"
     ]
    },
    {
     "name": "stdout",
     "output_type": "stream",
     "text": [
      "Answer: 혁신창업사업화자금 중 2020년에 신규 지원된 자금은 미래기술육성자금, 고성장촉진자금 입니다. \n",
      "\n",
      "\n",
      "\n",
      "\n",
      "Question: 재창업자금이 재도약지원자금으로 이관된 연도는 언제인가요?\n"
     ]
    },
    {
     "name": "stderr",
     "output_type": "stream",
     "text": [
      "\r\n",
      "Answering Questions:   6%|███▎                                                   | 6/98 [00:56<12:48,  8.35s/it]"
     ]
    },
    {
     "name": "stdout",
     "output_type": "stream",
     "text": [
      "Answer: 주어진 정보에 따르면 재창업자금(실패 경영인에 대한 재기지원)이 신규 지원된 것은 2010년 3월입니다.  \n",
      "\n",
      "\n",
      "\n",
      "\n",
      "Question: 창업기반지원과 신청 대상이 중복인 자금이 어떤 것이며, 이 자금이 폐지된 연도는 언제인가요?\n"
     ]
    },
    {
     "name": "stderr",
     "output_type": "stream",
     "text": [
      "\r\n",
      "Answering Questions:   7%|███▉                                                   | 7/98 [01:07<13:42,  9.04s/it]"
     ]
    },
    {
     "name": "stdout",
     "output_type": "stream",
     "text": [
      "Answer: 주어진 정보에 따르면, 창업기반지원과 신청 대상이 중복인 자금은 '혁신창업사업화자금(융자)'이며, 이 자금은 폐지된 연도는 언급되어 있지 않습니다. \n",
      "\n",
      "\n",
      "\n",
      "\n",
      "Question: 혁신창업사업화자금(융자) 사업을 시행하는 주체는 누구인가요?\n"
     ]
    },
    {
     "name": "stderr",
     "output_type": "stream",
     "text": [
      "\r\n",
      "Answering Questions:   8%|████▍                                                  | 8/98 [01:15<12:53,  8.59s/it]"
     ]
    },
    {
     "name": "stdout",
     "output_type": "stream",
     "text": [
      "Answer: 혁신창업사업화자금(융자) 사업을 시행하는 주체는 중소벤처기업부중소기업정책실입니다. \n",
      "\n",
      "\n",
      "\n",
      "\n",
      "Question: 혁신창업사업화자금(융자) 사업 집행절차는 어떻게 되나요?\n"
     ]
    },
    {
     "name": "stderr",
     "output_type": "stream",
     "text": [
      "\r\n",
      "Answering Questions:   9%|█████                                                  | 9/98 [01:28<15:11, 10.24s/it]"
     ]
    },
    {
     "name": "stdout",
     "output_type": "stream",
     "text": [
      "Answer: 혁신창업사업화자금(융자) 사업 집행절차는 사업계획수립/공고 후 중소기업이 사전상담 및 신청‧접수를 하고, 중진공이 서류 및 현장실사를 진행한 후 평가 및 승인을 결정합니다.  중진공은 지원결정통보를 하고, 융자 실행이 이루어집니다. \n",
      "\n",
      "\n",
      "\n",
      "\n",
      "Question: 부모급여 지원 사업의 목적은 무엇인가요?\n"
     ]
    },
    {
     "name": "stderr",
     "output_type": "stream",
     "text": [
      "Answering Questions:  10%|█████▌                                                | 10/98 [01:38<14:30,  9.89s/it]You seem to be using the pipelines sequentially on GPU. In order to maximize efficiency please use a dataset\n"
     ]
    },
    {
     "name": "stdout",
     "output_type": "stream",
     "text": [
      "Answer: 부모급여 지원 사업의 목적은 출산 및 양육으로 손실되는 소득을 보전하고, 주 양육자의 직접 돌봄이 가능하도록 지원하는 것입니다. \n",
      "\n",
      "\n",
      "\n",
      "\n",
      "Question: 부모급여(영아수당)의 2024년 확정된 예산은 몇백만원인가요?\n"
     ]
    },
    {
     "name": "stderr",
     "output_type": "stream",
     "text": [
      "\r\n",
      "Answering Questions:  11%|██████                                                | 11/98 [01:44<13:03,  9.00s/it]"
     ]
    },
    {
     "name": "stdout",
     "output_type": "stream",
     "text": [
      "Answer: 2024년 확정된 예산은 2,888,694백만원입니다. \n",
      "\n",
      "\n",
      "\n",
      "\n",
      "Question: 부모급여 지원 사업은 어떤 법령상 근거를 갖고 추진되고 있나요?\n"
     ]
    },
    {
     "name": "stderr",
     "output_type": "stream",
     "text": [
      "\r\n",
      "Answering Questions:  12%|██████▌                                               | 12/98 [01:53<12:53,  9.00s/it]"
     ]
    },
    {
     "name": "stdout",
     "output_type": "stream",
     "text": [
      "Answer: 부모급여 지원 사업은 보조금 관리에 관한 법률 시행령 제4조 제1항 (별표 1)에 근거하여 추진되고 있습니다. \n",
      "\n",
      "\n",
      "\n",
      "\n",
      "Question: 영아수당 도입에 대한 추진경위는 어떻게 되나요?\n"
     ]
    },
    {
     "name": "stderr",
     "output_type": "stream",
     "text": [
      "\r\n",
      "Answering Questions:  13%|███████▏                                              | 13/98 [02:19<19:57, 14.09s/it]"
     ]
    },
    {
     "name": "stdout",
     "output_type": "stream",
     "text": [
      "Answer: 영아수당 도입에 대한 추진경위는 2020년 12월 제4차 저출산‧고령사회 기본계획의 5대 핵심과제로 영아수당 도입이 결정된 것을 시작으로, 2021년 8월 예비타당성조사가 통과하고, 2021년 12월 근거법이 마련되었습니다. 이후 2022년 1월부터 영아수당 지원사업이 시행되고, 2022년 5월에는 '부모급여 도입'이 대통령 공약사항 및 국정과제에 포함되었습니다. 2023년 1월부터 부모급여 지급이 시작되었습니다. \n",
      "\n",
      "\n",
      "\n",
      "\n",
      "Question: 부모급여 지원사업은 언제부터 시행되었나요?\n"
     ]
    },
    {
     "name": "stderr",
     "output_type": "stream",
     "text": [
      "\r\n",
      "Answering Questions:  14%|███████▋                                              | 14/98 [02:26<16:34, 11.84s/it]"
     ]
    },
    {
     "name": "stdout",
     "output_type": "stream",
     "text": [
      "Answer: 부모급여 지원사업은 2023년 1월부터 시행되었습니다. \n",
      "\n",
      "\n",
      "\n",
      "\n",
      "Question: 보건복지부의 부모급여(영아수당) 지원 사업시행방법은 무엇이며, 사업 수혜자는 누구인가?\n"
     ]
    },
    {
     "name": "stderr",
     "output_type": "stream",
     "text": [
      "\r\n",
      "Answering Questions:  15%|████████▎                                             | 15/98 [02:39<16:48, 12.15s/it]"
     ]
    },
    {
     "name": "stdout",
     "output_type": "stream",
     "text": [
      "Answer: 보건복지부는 지방자치단체에 국고보조금을 지원하고, 시·도는 국고보조금에 지방비를 가산하여 시·군·구에 보조금을 교부하는 방식으로 사업을 시행합니다. 사업 수혜자는 만 0~1세 아동입니다. \n",
      "\n",
      "\n",
      "\n",
      "\n",
      "Question: 노인장기요양보험 사업 운영에 대한 목적은 무엇인가요?\n"
     ]
    },
    {
     "name": "stderr",
     "output_type": "stream",
     "text": [
      "\r\n",
      "Answering Questions:  16%|████████▊                                             | 16/98 [02:49<15:39, 11.46s/it]"
     ]
    },
    {
     "name": "stdout",
     "output_type": "stream",
     "text": [
      "Answer: 노인장기요양보험 사업 운영의 목적은 고령이나 노인성 질병으로 인해 일상생활을 혼자서 수행하기 어려운 노인들을 위해 지원을 제공하는 것입니다. \n",
      "\n",
      "\n",
      "\n",
      "\n",
      "Question: 노인장기요양보험 운영지원에 대한 사업 내용을 설명해줘.\n"
     ]
    },
    {
     "name": "stderr",
     "output_type": "stream",
     "text": [
      "\r\n",
      "Answering Questions:  17%|█████████▎                                            | 17/98 [03:02<16:14, 12.03s/it]"
     ]
    },
    {
     "name": "stdout",
     "output_type": "stream",
     "text": [
      "Answer: 노인장기요양보험 운영지원은 「노인장기요양보험법」제58조에 따라 국가가 국민건강보험공단에 지원하는 법정지원금(장기요양보험료 예상수입액의 20% 상당)을 통해 이루어집니다. \n",
      "\n",
      "\n",
      "\n",
      "\n",
      "Question: 국고지원을 받는 기타 의료급여수급권자는 누구인가요?\n"
     ]
    },
    {
     "name": "stderr",
     "output_type": "stream",
     "text": [
      "\r\n",
      "Answering Questions:  18%|█████████▉                                            | 18/98 [03:12<15:04, 11.30s/it]"
     ]
    },
    {
     "name": "stdout",
     "output_type": "stream",
     "text": [
      "Answer: 기타 의료급여수급권자는 이재민, 의사상자, 국가유공자, 입양아동, 국가무형문화재보유자, 북한이탈주민 등입니다. \n",
      "\n",
      "\n",
      "\n",
      "\n",
      "Question: 장기요양보험가입자 및 피부양자의 자격취득과 관련하여 어떤 법률을 준용해야 하는가?\n"
     ]
    },
    {
     "name": "stderr",
     "output_type": "stream",
     "text": [
      "\r\n",
      "Answering Questions:  19%|██████████▍                                           | 19/98 [03:25<15:47, 11.99s/it]"
     ]
    },
    {
     "name": "stdout",
     "output_type": "stream",
     "text": [
      "Answer: 장기요양보험가입자 및 피부양자의 자격취득과 관련하여는 국민건강보험법 제5조, 제6조, 제8조부터 제11조까지, 제69조제1항부터 제3항까지, 제76조부터 제86조까지 및 제110조를 준용해야 합니다. \n",
      "\n",
      "\n",
      "\n",
      "\n",
      "Question: 노인장기요양보험법이 언제 제정되고 공포되었나?\n"
     ]
    },
    {
     "name": "stderr",
     "output_type": "stream",
     "text": [
      "\r\n",
      "Answering Questions:  20%|███████████                                           | 20/98 [03:32<13:30, 10.40s/it]"
     ]
    },
    {
     "name": "stdout",
     "output_type": "stream",
     "text": [
      "Answer: 노인장기요양보험법은 2007년 4월에 제정되고 공포되었습니다. \n",
      "\n",
      "\n",
      "\n",
      "\n",
      "Question: 장기요양인정점수 완화가 언제 이루어졌으며, 어떤 변화가 있었나?\n"
     ]
    },
    {
     "name": "stderr",
     "output_type": "stream",
     "text": [
      "\r\n",
      "Answering Questions:  21%|███████████▌                                          | 21/98 [03:48<15:23, 11.99s/it]"
     ]
    },
    {
     "name": "stdout",
     "output_type": "stream",
     "text": [
      "Answer: 장기요양인정점수 완화는 2012년 7월과 2013년 7월에 이루어졌습니다. 2012년 7월에는 3등급 인정점수가 55~75점에서 53~75점으로 완화되었고, 2013년 7월에는 51~75점으로 다시 완화되었습니다. \n",
      "\n",
      "\n",
      "\n",
      "\n",
      "Question: 장기요양기관 지정갱신제의 법적 근거가 언제 마련되었는가?\n"
     ]
    },
    {
     "name": "stderr",
     "output_type": "stream",
     "text": [
      "\r\n",
      "Answering Questions:  22%|████████████                                          | 22/98 [03:55<13:15, 10.46s/it]"
     ]
    },
    {
     "name": "stdout",
     "output_type": "stream",
     "text": [
      "Answer: 장기요양기관 지정갱신제의 법적 근거는 2018년 12월에 마련되었습니다. \n",
      "\n",
      "\n",
      "\n",
      "\n",
      "Question: 22.10월에 요양보호사 1명당 시설수급자 인력배치기준이 개선된 내용은 무엇인가?\n"
     ]
    },
    {
     "name": "stderr",
     "output_type": "stream",
     "text": [
      "\r\n",
      "Answering Questions:  23%|████████████▋                                         | 23/98 [04:06<13:24, 10.73s/it]"
     ]
    },
    {
     "name": "stdout",
     "output_type": "stream",
     "text": [
      "Answer: 22.10월에 요양보호사 1명당 시설수급자 인력배치기준이 개선되어 요양보호사 1명당 시설수급자 2.5명에서 2.3명으로 변경되었습니다. \n",
      "\n",
      "\n",
      "\n",
      "\n",
      "Question: 에너지 바우처 제도의 주요 내용은 무엇인가요?\n"
     ]
    },
    {
     "name": "stderr",
     "output_type": "stream",
     "text": [
      "\r\n",
      "Answering Questions:  24%|█████████████▏                                        | 24/98 [04:18<13:38, 11.06s/it]"
     ]
    },
    {
     "name": "stdout",
     "output_type": "stream",
     "text": [
      "Answer: 에너지 바우처 제도는 경제적 부담 등으로 에너지 이용에 어려움을 겪는 에너지 소외 계층에게 전기, 가스, 지역난방 등 에너지 이용에 필요한 비용을 지원하는 제도입니다. \n",
      "\n",
      "\n",
      "\n",
      "\n",
      "Question: 에너지바우처 사업의 주요 수혜자는 누구인가요?\n"
     ]
    },
    {
     "name": "stderr",
     "output_type": "stream",
     "text": [
      "\r\n",
      "Answering Questions:  26%|█████████████▊                                        | 25/98 [04:27<12:46, 10.50s/it]"
     ]
    },
    {
     "name": "stdout",
     "output_type": "stream",
     "text": [
      "Answer: 에너지바우처 사업의 주요 수혜자는 경제적 부담 등으로 에너지 이용에 어려움을 겪는 에너지 소외 계층입니다. \n",
      "\n",
      "\n",
      "\n",
      "\n",
      "Question: 2024년 에너지바우처 사업의 사업시행주체는 무엇인가요?\n"
     ]
    },
    {
     "name": "stderr",
     "output_type": "stream",
     "text": [
      "\r\n",
      "Answering Questions:  27%|██████████████▎                                       | 26/98 [04:35<11:49,  9.85s/it]"
     ]
    },
    {
     "name": "stdout",
     "output_type": "stream",
     "text": [
      "Answer: 2024년 에너지바우처 사업의 사업시행주체는 한국에너지공단, 한국광해광업공단 입니다. \n",
      "\n",
      "\n",
      "\n",
      "\n",
      "Question: 하절기바우처와 동절기바우처의 2024년 예산 규모는 각각 얼마인가요?\n"
     ]
    },
    {
     "name": "stderr",
     "output_type": "stream",
     "text": [
      "\r\n",
      "Answering Questions:  28%|██████████████▉                                       | 27/98 [04:47<12:12, 10.32s/it]"
     ]
    },
    {
     "name": "stdout",
     "output_type": "stream",
     "text": [
      "Answer: 하절기바우처의 2024년 예산 규모는 36,851백만원이고, 동절기바우처의 2024년 예산 규모는 129,656백만원입니다. \n",
      "\n",
      "\n",
      "\n",
      "\n",
      "Question: 2023년 에너지바우처 사업 예산에서 사업운영비 중 에너지복지 홍보에 얼마가 할당되었나요?\n"
     ]
    },
    {
     "name": "stderr",
     "output_type": "stream",
     "text": [
      "\r\n",
      "Answering Questions:  29%|███████████████▍                                      | 28/98 [04:56<11:37,  9.96s/it]"
     ]
    },
    {
     "name": "stdout",
     "output_type": "stream",
     "text": [
      "Answer: 2023년 에너지바우처 사업 예산에서 사업운영비 중 에너지복지 홍보에 328백만원이 할당되었습니다. \n",
      "\n",
      "\n",
      "\n",
      "\n",
      "Question: 2023년 에너지바우처 사업 예산에서 사업운영비 중 시스템 고도화에 얼마가 할당되었나요?\n"
     ]
    },
    {
     "name": "stderr",
     "output_type": "stream",
     "text": [
      "\r\n",
      "Answering Questions:  30%|███████████████▉                                      | 29/98 [05:05<11:02,  9.61s/it]"
     ]
    },
    {
     "name": "stdout",
     "output_type": "stream",
     "text": [
      "Answer: 2023년 에너지바우처 사업 예산에서 사업운영비 중 시스템 고도화에 705백만원이 할당되었습니다. \n",
      "\n",
      "\n",
      "\n",
      "\n",
      "Question: 2023년 에너지바우처 사업 예산에서 콜센터 운영에 얼마가 할당되었나요?\n"
     ]
    },
    {
     "name": "stderr",
     "output_type": "stream",
     "text": [
      "\r\n",
      "Answering Questions:  31%|████████████████▌                                     | 30/98 [05:13<10:24,  9.19s/it]"
     ]
    },
    {
     "name": "stdout",
     "output_type": "stream",
     "text": [
      "Answer: 2023년 에너지바우처 사업 예산에서 콜센터 운영에 502.7백만원이 할당되었습니다. \n",
      "\n",
      "\n",
      "\n",
      "\n",
      "Question: 2023년 에너지바우처 사업 예산에서 패널조사에 얼마가 할당되었나요?\n"
     ]
    },
    {
     "name": "stderr",
     "output_type": "stream",
     "text": [
      "\r\n",
      "Answering Questions:  32%|█████████████████                                     | 31/98 [05:21<10:02,  8.99s/it]"
     ]
    },
    {
     "name": "stdout",
     "output_type": "stream",
     "text": [
      "Answer: 2023년 에너지바우처 사업 예산에서 패널조사에 1억 3,350만원이 할당되었습니다. \n",
      "\n",
      "\n",
      "\n",
      "\n",
      "Question: 2023년 에너지바우처 사업 예산에서 에너지바우처 전달체계 구축에 얼마가 할당되었나요?\n"
     ]
    },
    {
     "name": "stderr",
     "output_type": "stream",
     "text": [
      "\r\n",
      "Answering Questions:  33%|█████████████████▋                                    | 32/98 [05:30<09:54,  9.01s/it]"
     ]
    },
    {
     "name": "stdout",
     "output_type": "stream",
     "text": [
      "Answer: 2023년 에너지바우처 사업 예산에서 에너지바우처 전달체계 구축에 3460만원이 할당되었습니다. \n",
      "\n",
      "\n",
      "\n",
      "\n",
      "Question: 2023년 에너지바우처 사업 예산에서 주택관리공단 운영지원에 얼마가 할당되었나요?\n"
     ]
    },
    {
     "name": "stderr",
     "output_type": "stream",
     "text": [
      "\r\n",
      "Answering Questions:  34%|██████████████████▏                                   | 33/98 [05:39<09:31,  8.80s/it]"
     ]
    },
    {
     "name": "stdout",
     "output_type": "stream",
     "text": [
      "Answer: 2023년 에너지바우처 사업 예산에서 주택관리공단 운영지원에 50백만원이 할당되었습니다. \n",
      "\n",
      "\n",
      "\n",
      "\n",
      "Question: 에너지바우처 사업의 향후 기대효과는 무엇인가요?\n"
     ]
    },
    {
     "name": "stderr",
     "output_type": "stream",
     "text": [
      "\r\n",
      "Answering Questions:  35%|██████████████████▋                                   | 34/98 [05:50<10:12,  9.57s/it]"
     ]
    },
    {
     "name": "stdout",
     "output_type": "stream",
     "text": [
      "Answer: 에너지바우처 사업의 향후 기대효과는 에너지 소외 계층의 경제적 부담 완화 및 에너지 이용 접근성 향상을 통한 삶의 질 향상에 기여할 것으로 예상됩니다. \n",
      "\n",
      "\n",
      "\n",
      "\n",
      "Question: 에너지바우처 사업에 대한 예비타당성조사를 어떤 조사기관이 수행했나요?\n"
     ]
    },
    {
     "name": "stderr",
     "output_type": "stream",
     "text": [
      "\r\n",
      "Answering Questions:  36%|███████████████████▎                                  | 35/98 [05:59<09:48,  9.35s/it]"
     ]
    },
    {
     "name": "stdout",
     "output_type": "stream",
     "text": [
      "Answer: 에너지바우처 사업에 대한 예비타당성조사는 KDI(한국개발연구원 공공투자관리센터)가 수행했습니다. \n",
      "\n",
      "\n",
      "\n",
      "\n",
      "Question: 21년 국정감사에서 에너지 바우처 사업에 대한 주요 지적사항은 무엇이었나요?\n"
     ]
    },
    {
     "name": "stderr",
     "output_type": "stream",
     "text": [
      "\r\n",
      "Answering Questions:  37%|███████████████████▊                                  | 36/98 [06:12<10:43, 10.38s/it]"
     ]
    },
    {
     "name": "stdout",
     "output_type": "stream",
     "text": [
      "Answer: 2021년 국정감사에서 에너지 바우처 사업에 대한 주요 지적사항은 저소득층의 폭염 피해 최소화를 위해 동절기 에너지바우처 일부를 하절기에 사용할 수 있도록 제도 개선해야 한다는 점이었습니다. \n",
      "\n",
      "\n",
      "\n",
      "\n",
      "Question: 21년 에너지바우처 사업에 대한 결산 지적사항은 무엇이었나요?\n"
     ]
    },
    {
     "name": "stderr",
     "output_type": "stream",
     "text": [
      "\r\n",
      "Answering Questions:  38%|████████████████████▍                                 | 37/98 [06:25<11:35, 11.40s/it]"
     ]
    },
    {
     "name": "stdout",
     "output_type": "stream",
     "text": [
      "Answer: 21년 에너지바우처 사업에 대한 결산 지적사항은 수급자 변경 등으로 예산부족이 발생하지 않도록 급여 선정기준 등의 변경계획에 대하여 보건복지부·지자체와 면밀히 소통하여 예산을 편성하고 사업을 추진해야 한다는 것이었습니다. \n",
      "\n",
      "\n",
      "\n",
      "\n",
      "Question: 에너지 바우처 사업의 향후 추진방향 중 '취약계층의 에너지 비용 부담 완화'를 위한 계획은 무엇이었나요?\n"
     ]
    },
    {
     "name": "stderr",
     "output_type": "stream",
     "text": [
      "\r\n",
      "Answering Questions:  39%|████████████████████▉                                 | 38/98 [06:41<12:38, 12.65s/it]"
     ]
    },
    {
     "name": "stdout",
     "output_type": "stream",
     "text": [
      "Answer: 취약계층의 에너지 비용 부담 완화를 위해 에너지바우처 지원대상을 주거·교육급여 수급세대 중 더위·추위민감계층까지 영구적 확대하고, 하절기 에너지바우처 지원단가를 0.3만원 인상하여 하절기 평균 4만원으로 책정하는 계획이었습니다. \n",
      "\n",
      "\n",
      "\n",
      "\n",
      "Question: 행복주택출자 사업은 어떤 근거로 추진되고 있는가?\n"
     ]
    },
    {
     "name": "stderr",
     "output_type": "stream",
     "text": [
      "\r\n",
      "Answering Questions:  40%|█████████████████████▍                                | 39/98 [06:47<10:35, 10.77s/it]"
     ]
    },
    {
     "name": "stdout",
     "output_type": "stream",
     "text": [
      "Answer: 행복주택출자 사업은 주택도시기금의 지원을 받아 추진되고 있습니다. \n",
      "\n",
      "\n",
      "\n",
      "\n",
      "Question: 행복주택출자 사업은 어떤 목적으로 시행되는가?\n"
     ]
    },
    {
     "name": "stderr",
     "output_type": "stream",
     "text": [
      "\r\n",
      "Answering Questions:  41%|██████████████████████                                | 40/98 [06:53<09:02,  9.36s/it]"
     ]
    },
    {
     "name": "stdout",
     "output_type": "stream",
     "text": [
      "Answer: 행복주택출자 사업은 임대주택 지원을 목적으로 시행됩니다. \n",
      "\n",
      "\n",
      "\n",
      "\n",
      "Question: 행복주택출자 사업의 주요 수혜자는 누구인가?\n"
     ]
    },
    {
     "name": "stderr",
     "output_type": "stream",
     "text": [
      "\r\n",
      "Answering Questions:  42%|██████████████████████▌                               | 41/98 [07:01<08:18,  8.75s/it]"
     ]
    },
    {
     "name": "stdout",
     "output_type": "stream",
     "text": [
      "Answer: 행복주택출자 사업의 주요 수혜자는 서민 및 취약계층이다. \n",
      "\n",
      "\n",
      "\n",
      "\n",
      "Question: 행복주택출자 사업의 사업비 추이는 어떠한가?\n"
     ]
    },
    {
     "name": "stderr",
     "output_type": "stream",
     "text": [
      "\r\n",
      "Answering Questions:  43%|███████████████████████▏                              | 42/98 [07:09<07:58,  8.54s/it]"
     ]
    },
    {
     "name": "stdout",
     "output_type": "stream",
     "text": [
      "Answer: 행복주택출자 사업의 총 사업비는 775,293이며, 이 중 564,342가 집행되었다. \n",
      "\n",
      "\n",
      "\n",
      "\n",
      "Question: 행복주택출자 사업의 사업시행주체는 누구인가?\n"
     ]
    },
    {
     "name": "stderr",
     "output_type": "stream",
     "text": [
      "\r\n",
      "Answering Questions:  44%|███████████████████████▋                              | 43/98 [07:15<07:04,  7.72s/it]"
     ]
    },
    {
     "name": "stdout",
     "output_type": "stream",
     "text": [
      "Answer: 행복주택출자 사업의 사업시행주체는 국토교통부입니다. \n",
      "\n",
      "\n",
      "\n",
      "\n",
      "Question: 국고보조사업의 보조율은 어떠한 기준에 따라 운용되는가?\n"
     ]
    },
    {
     "name": "stderr",
     "output_type": "stream",
     "text": [
      "\r\n",
      "Answering Questions:  45%|████████████████████████▏                             | 44/98 [07:28<08:23,  9.33s/it]"
     ]
    },
    {
     "name": "stdout",
     "output_type": "stream",
     "text": [
      "Answer: 국고보조사업의 보조율은 「보조금법」과 함께 일부 개별 법령에 근거하여 운영되며, 보조금법에 의해 지방자치단체의 재정여건을 고려하여 기준보조율과 차등보조율을 적용하여 운용된다. \n",
      "\n",
      "\n",
      "\n",
      "\n",
      "Question: 프랑스의 재정조정제도에서 최근 강조되는 형평교부금은 어떤 역할을 하는가?\n"
     ]
    },
    {
     "name": "stderr",
     "output_type": "stream",
     "text": [
      "\r\n",
      "Answering Questions:  46%|████████████████████████▊                             | 45/98 [07:37<08:21,  9.46s/it]"
     ]
    },
    {
     "name": "stdout",
     "output_type": "stream",
     "text": [
      "Answer: 프랑스의 재정조정제도에서 최근 강조되는 형평교부금은 중앙정부의 재정적자로 인해 발생하는 재정 불균형을 조정하는 역할을 한다. \n",
      "\n",
      "\n",
      "\n",
      "\n",
      "Question: 지방재정조정제도의 목적은 무엇인가?\n"
     ]
    },
    {
     "name": "stderr",
     "output_type": "stream",
     "text": [
      "\r\n",
      "Answering Questions:  47%|█████████████████████████▎                            | 46/98 [07:51<09:18, 10.75s/it]"
     ]
    },
    {
     "name": "stdout",
     "output_type": "stream",
     "text": [
      "Answer: 지방재정조정제도의 목적은 지방자치단체 간 재정력 격차의 시정, 지역 간 외부 효과의 내부화를 통한 지방공공재 공급, 중앙정부의 위임사무에 대한 비용 부담 등을 목적으로 재정을 조정하는 일련의 조치를 의미합니다. \n",
      "\n",
      "\n",
      "\n",
      "\n",
      "Question: 국제적으로 성과중심 재정관리 강화 움직임이 확산된 시기는 언제인가?\n"
     ]
    },
    {
     "name": "stderr",
     "output_type": "stream",
     "text": [
      "\r\n",
      "Answering Questions:  48%|█████████████████████████▉                            | 47/98 [07:59<08:24,  9.89s/it]"
     ]
    },
    {
     "name": "stdout",
     "output_type": "stream",
     "text": [
      "Answer: 국제적으로 성과중심 재정관리 강화 움직임이 확산된 시기는 2000년대 후반 금융위기 이후입니다. \n",
      "\n",
      "\n",
      "\n",
      "\n",
      "Question: 한국의 재정사업 성과관리제도는 어떠한 법을 통해 운영되고 있으며, 성과관리 기본계획과 추진계획은 어떻게 의무화되었는가?\n"
     ]
    },
    {
     "name": "stderr",
     "output_type": "stream",
     "text": [
      "\r\n",
      "Answering Questions:  49%|██████████████████████████▍                           | 48/98 [08:11<08:46, 10.53s/it]"
     ]
    },
    {
     "name": "stdout",
     "output_type": "stream",
     "text": [
      "Answer: 한국은 2021년 12월 국가재정법 개정을 통해 재정사업 성과관리제도를 운영하고 있으며, 개정된 국가재정법은 성과관리 기본계획(5개년) 및 추진계획(연간) 수립을 의무화했습니다. \n",
      "\n",
      "\n",
      "\n",
      "\n",
      "Question: 핵심재정사업 성과관리제도를 안착시키기 위해 필요한 노력과 성과 정보를 학습의 도구로 활용하는 방안은 무엇인가?\n"
     ]
    },
    {
     "name": "stderr",
     "output_type": "stream",
     "text": [
      "\r\n",
      "Answering Questions:  50%|███████████████████████████                           | 49/98 [08:25<09:18, 11.40s/it]"
     ]
    },
    {
     "name": "stdout",
     "output_type": "stream",
     "text": [
      "Answer: 핵심재정사업 성과관리제도를 안착시키기 위해서는 작업반 간 모범사례 등의 공유를 위한 교훈 저장소 생성 등으로 성과정보가 사업추진기관에 의해 학습의 도구로서 유용하게 쓰이게끔 하고 성과중심의 조직문화를 형성해 가는 것이 필요합니다. \n",
      "\n",
      "\n",
      "\n",
      "\n",
      "Question: 사회보험 사각지대 발생의 주요 원인과 이로 인해 발생하는 문제는 무엇인가요?\n"
     ]
    },
    {
     "name": "stderr",
     "output_type": "stream",
     "text": [
      "\r\n",
      "Answering Questions:  51%|███████████████████████████▌                          | 50/98 [08:45<11:18, 14.13s/it]"
     ]
    },
    {
     "name": "stdout",
     "output_type": "stream",
     "text": [
      "Answer: 사회보험 사각지대 발생의 주요 원인은 사업주의 비용 절감, 보험 가입에 따른 근로자의 실질 가처분 소득 감소 등 현실적인 이유로 고용 취약계층 및 소규모 사업장일수록 사회보험 가입이 저조하기 때문입니다. 이로 인해 저임금 근로자 등 고용 취약계층은 잦은 이직, 영세사업장의 빈번한 신생·소멸 등으로 소득단절 위험이 높아 사회보험 가입이 특히 중요해집니다. \n",
      "\n",
      "\n",
      "\n",
      "\n",
      "Question: 청년일자리도약장려금은 어떤 대상을 지원하며, 어떤 방식으로 지원되는가?\n"
     ]
    },
    {
     "name": "stderr",
     "output_type": "stream",
     "text": [
      "\r\n",
      "Answering Questions:  52%|████████████████████████████                          | 51/98 [08:55<10:07, 12.93s/it]"
     ]
    },
    {
     "name": "stdout",
     "output_type": "stream",
     "text": [
      "Answer: 청년일자리도약장려금은 만 15~34세의 취업애로청년을 정규직으로 채용 후 6개월 고용유지하는 경우 최장 2년간 지원됩니다. \n",
      "\n",
      "\n",
      "\n",
      "\n",
      "Question: 수직적 재정조정제도와 수평적 재정조정제도의 차이는 무엇인가요?\n"
     ]
    },
    {
     "name": "stderr",
     "output_type": "stream",
     "text": [
      "\r\n",
      "Answering Questions:  53%|████████████████████████████▋                         | 52/98 [09:06<09:20, 12.19s/it]"
     ]
    },
    {
     "name": "stdout",
     "output_type": "stream",
     "text": [
      "Answer: 수직적 재정조정제도는 중앙정부에서 지방자치단체로 재원을 이전하는 방식이고, 수평적 재정조정제도는 지방자치단체 간에 재원을 이전하는 방식입니다. \n",
      "\n",
      "\n",
      "\n",
      "\n",
      "Question: 지방재정조정제도는 어떤 목적을 가지고 있나요?\n"
     ]
    },
    {
     "name": "stderr",
     "output_type": "stream",
     "text": [
      "\r\n",
      "Answering Questions:  54%|█████████████████████████████▏                        | 53/98 [09:19<09:26, 12.59s/it]"
     ]
    },
    {
     "name": "stdout",
     "output_type": "stream",
     "text": [
      "Answer: 지방재정조정제도는 지방자치단체 간 재정력 격차의 시정, 지역 간 외부 효과의 내부화를 통한 지방공공재 공급, 그리고 중앙정부의 위임사무에 대한 비용 부담 등을 목적으로 재정을 조정하는 일련의 조치를 의미합니다. \n",
      "\n",
      "\n",
      "\n",
      "\n",
      "Question: 중앙-지방 간 재정조정제도에서 어떤 재원을 이전하여 수직적 재정 불균형을 해소하는가?\n"
     ]
    },
    {
     "name": "stderr",
     "output_type": "stream",
     "text": [
      "\r\n",
      "Answering Questions:  55%|█████████████████████████████▊                        | 54/98 [09:28<08:28, 11.56s/it]"
     ]
    },
    {
     "name": "stdout",
     "output_type": "stream",
     "text": [
      "Answer: 중앙-지방 간 재정조정제도에서는 지방교부세, 국고보조금, 조정교부금을 이전하여 수직적 재정 불균형을 해소합니다. \n",
      "\n",
      "\n",
      "\n",
      "\n",
      "Question: 중앙정부의 예산편성은 어떤 재원 배분 문제를 결정하며, 중앙-지방 간 재정조정제도를 통해 어떤 재원을 이전하고, 이의 목적은 무엇인가?\n"
     ]
    },
    {
     "name": "stderr",
     "output_type": "stream",
     "text": [
      "\r\n",
      "Answering Questions:  56%|██████████████████████████████▎                       | 55/98 [09:46<09:35, 13.37s/it]"
     ]
    },
    {
     "name": "stdout",
     "output_type": "stream",
     "text": [
      "Answer: 중앙정부의 예산편성은 결국 민간과 공공 부문 사이의 재원 배분의 문제이며 중앙과 지방 사이의 재원 배분 문제입니다. 중앙-지방 간 재정조정제도를 통해 지방교부세와 국고보조금을 이전하며, 이는 중앙-지방 간 수직적 불균형 완화 또는 재정력 격차 완화를 통해 국가의 재정 안정을 도모하는 것을 목표로 합니다. \n",
      "\n",
      "\n",
      "\n",
      "\n",
      "Question: 재정사업 성과관리제도의 필요성이 대두된 시기와 한국의 재정사업 성과관리제도가 어떤 법에 근거하여 운영되고 있는지 설명하시오.\n"
     ]
    },
    {
     "name": "stderr",
     "output_type": "stream",
     "text": [
      "\r\n",
      "Answering Questions:  57%|██████████████████████████████▊                       | 56/98 [10:02<09:57, 14.23s/it]"
     ]
    },
    {
     "name": "stdout",
     "output_type": "stream",
     "text": [
      "Answer: 1990년대 이후 체계적인 성과관리제도 도입에 대한 필요성이 대두되었습니다. 한국의 재정사업 성과관리제도는 2007년 「국가재정법」 시행 이후 최소한의 법 조항으로 운영되어 오다가 2021년 12월 법 개정을 통한 별도의 장(章) 신설로 개념 및 체계 명확화되었습니다. \n",
      "\n",
      "\n",
      "\n",
      "\n",
      "Question: 청년일자리도약장려금은 어떤 대상을 지원하며, 어떤 방식으로 지원되는가?\n"
     ]
    },
    {
     "name": "stderr",
     "output_type": "stream",
     "text": [
      "\r\n",
      "Answering Questions:  58%|███████████████████████████████▍                      | 57/98 [10:12<08:48, 12.89s/it]"
     ]
    },
    {
     "name": "stdout",
     "output_type": "stream",
     "text": [
      "Answer: 청년일자리도약장려금은 만 15~34세의 취업애로청년을 정규직으로 채용 후 6개월 고용유지하는 경우 최장 2년간 지원됩니다. \n",
      "\n",
      "\n",
      "\n",
      "\n",
      "Question: 재정성과관리제도는 어떤 측면에서 국정운영과 연결되는가?\n"
     ]
    },
    {
     "name": "stderr",
     "output_type": "stream",
     "text": [
      "\r\n",
      "Answering Questions:  59%|███████████████████████████████▉                      | 58/98 [10:25<08:36, 12.92s/it]"
     ]
    },
    {
     "name": "stdout",
     "output_type": "stream",
     "text": [
      "Answer: 재정성과관리제도는 정부가 110대 국정과제 중 재정 정상화 및 재정의 지속 가능성 확보를 위해 강화하고 있는 체계로, 재정 운용의 결과 또는 산출을 중심으로 관리하여 국정운영의 효율성을 높이는 데 연결됩니다. \n",
      "\n",
      "\n",
      "\n",
      "\n",
      "Question: 성과관리의 실효성 강화를 위해 정부가 취한 조치는 무엇인가?\n"
     ]
    },
    {
     "name": "stderr",
     "output_type": "stream",
     "text": [
      "\r\n",
      "Answering Questions:  60%|████████████████████████████████▌                     | 59/98 [10:39<08:42, 13.41s/it]"
     ]
    },
    {
     "name": "stdout",
     "output_type": "stream",
     "text": [
      "Answer: 정부는 성과관리의 실효성 강화를 위해 각 부처의 목표 체계와 프로그램 예산 체계를 2016년부터 일치하도록 하여 업무 중복을 경감하고, 재정성과관리제도를 전면 개편하여 평가 부담을 완화하고 지출구조를 조정하는 방안을 마련했습니다. \n",
      "\n",
      "\n",
      "\n",
      "\n",
      "Question: 재정성과관리 관련 주요 쟁점은 무엇인가?\n"
     ]
    },
    {
     "name": "stderr",
     "output_type": "stream",
     "text": [
      "\r\n",
      "Answering Questions:  61%|█████████████████████████████████                     | 60/98 [10:52<08:20, 13.17s/it]"
     ]
    },
    {
     "name": "stdout",
     "output_type": "stream",
     "text": [
      "Answer: 재정성과관리 관련 주요 쟁점은 국가재정법 개정으로 인한 성과관리 강화, 재정성과관리의 전 과정 수행, 그리고 투명성, 책임성, 효율성, 효과성을 향상시키는 목적을 달성하는 것이다. \n",
      "\n",
      "\n",
      "\n",
      "\n",
      "Question: 재정성과관리가 왜 중요한가?\n"
     ]
    },
    {
     "name": "stderr",
     "output_type": "stream",
     "text": [
      "\r\n",
      "Answering Questions:  62%|█████████████████████████████████▌                    | 61/98 [11:00<07:04, 11.48s/it]"
     ]
    },
    {
     "name": "stdout",
     "output_type": "stream",
     "text": [
      "Answer: 재정성과관리는 대국민 재정 책임성을 강화하고 재정의 효율성을 제고하는 방향으로 개선될 수 있기 때문에 중요합니다. \n",
      "\n",
      "\n",
      "\n",
      "\n",
      "Question: 재정성과관리는 무엇을 목표로 하는가?\n"
     ]
    },
    {
     "name": "stderr",
     "output_type": "stream",
     "text": [
      "\r\n",
      "Answering Questions:  63%|██████████████████████████████████▏                   | 62/98 [11:07<06:13, 10.37s/it]"
     ]
    },
    {
     "name": "stdout",
     "output_type": "stream",
     "text": [
      "Answer: 재정성과관리는 정부 재정의 투명성·책임성, 효율성·효과성, 예산재분배 등을 목표로 한다. \n",
      "\n",
      "\n",
      "\n",
      "\n",
      "Question: 어떤 국제기구들이 사업을 기준으로 예산을 나누어 성과 정보를 생산하고 있는가?\n"
     ]
    },
    {
     "name": "stderr",
     "output_type": "stream",
     "text": [
      "\r\n",
      "Answering Questions:  64%|██████████████████████████████████▋                   | 63/98 [11:13<05:16,  9.03s/it]"
     ]
    },
    {
     "name": "stdout",
     "output_type": "stream",
     "text": [
      "Answer: OECD와 World Bank가 사업을 기준으로 예산을 나누어 성과 정보를 생산하고 있습니다. \n",
      "\n",
      "\n",
      "\n",
      "\n",
      "Question: 재정성과관리의 목적은 무엇인가?\n"
     ]
    },
    {
     "name": "stderr",
     "output_type": "stream",
     "text": [
      "\r\n",
      "Answering Questions:  65%|███████████████████████████████████▎                  | 64/98 [11:21<04:52,  8.61s/it]"
     ]
    },
    {
     "name": "stdout",
     "output_type": "stream",
     "text": [
      "Answer: 재정성과관리의 목적은 정부 재정의 투명성·책임성, 효율성·효과성, 예산재분배 등이 있습니다. \n",
      "\n",
      "\n",
      "\n",
      "\n",
      "Question: 2021년 「국가재정법」 개정으로 어떤 규정이 신설되었는가?\n"
     ]
    },
    {
     "name": "stderr",
     "output_type": "stream",
     "text": [
      "\r\n",
      "Answering Questions:  66%|███████████████████████████████████▊                  | 65/98 [11:31<05:01,  9.12s/it]"
     ]
    },
    {
     "name": "stdout",
     "output_type": "stream",
     "text": [
      "Answer: 2021년 「국가재정법」 개정으로 동 법에 의한 재정사업 평가와 개별 법령에 따라 실시되는 평가 대상 중복이 최소화되도록 하는 규정이 신설되었습니다. \n",
      "\n",
      "\n",
      "\n",
      "\n",
      "Question: 성과관리제도는 지출 구조조정을 위해 어떤 방향으로 추진되고 있는가?\n"
     ]
    },
    {
     "name": "stderr",
     "output_type": "stream",
     "text": [
      "\r\n",
      "Answering Questions:  67%|████████████████████████████████████▎                 | 66/98 [11:39<04:42,  8.84s/it]"
     ]
    },
    {
     "name": "stdout",
     "output_type": "stream",
     "text": [
      "Answer: 성과관리제도는 평가부담 완화를 위한 개선과 함께 지출구조조정을 강화하는 방향으로 추진되고 있습니다. \n",
      "\n",
      "\n",
      "\n",
      "\n",
      "Question: 재정사업 자율평가의 목적은 무엇이며, 어떤 방식으로 제도 개선이 이루어졌는가?\n"
     ]
    },
    {
     "name": "stderr",
     "output_type": "stream",
     "text": [
      "\r\n",
      "Answering Questions:  68%|████████████████████████████████████▉                 | 67/98 [12:17<08:58, 17.36s/it]"
     ]
    },
    {
     "name": "stdout",
     "output_type": "stream",
     "text": [
      "Answer: 재정사업 자율평가의 목적은 재정관리 합리성 제고를 위해 평가 대상 사업의 범위, 평가 주기, 상위 평가 방식 등을 지속적으로 개선하는 것입니다.  제도 개선은 2015년까지 기획재정부가 정한 공통 평가지침과 양식을 기본으로 각 부처가 사업을 3년 주기로 점검하고, 기획재정부가 메타 평가 방식으로 전수를 평가하는 방식이었습니다. 그 후 2016년부터 2017년까지는 연구개발사업을 포함시키고 평가 주기를 전 사업에 걸쳐 매년 평가하는 통합재정사업 평가제도로 변경되었습니다. 2018년에는 연구개발사업 평가를 분리하고 기존의 재정사업 자율평가 제도로 환원하면서, 공통 평가지침과 평가보고서 표준서식을 폐지하고 상위 평가 방식을 메타 평가 방식의 전수 점검에서 80여 개 주요 핵심 사업에 대한 평가로 전환했습니다. \n",
      "\n",
      "\n",
      "\n",
      "\n",
      "Question: 2016년 재정성과관리제도의 환류 개선사항은 무엇인가?\n"
     ]
    },
    {
     "name": "stderr",
     "output_type": "stream",
     "text": [
      "\r\n",
      "Answering Questions:  69%|█████████████████████████████████████▍                | 68/98 [12:32<08:22, 16.76s/it]"
     ]
    },
    {
     "name": "stdout",
     "output_type": "stream",
     "text": [
      "Answer: 2016년 재정성과관리제도의 환류 개선사항은 평가 대상 사업 전체 예산의 1% 이내에서 부처에서 자율적으로 세출구조조정을 마련하도록 하고 우수 등급 사업도 지출구조조정이 가능하게 하는 한편, 구조조정이 어려운 사업에 대해서는 성과관리 개선대책을 제출하게 하였다는 것입니다. \n",
      "\n",
      "\n",
      "\n",
      "\n",
      "Question: 2018년도에 재정성과관리제도 개선사항과, 이로 인해 어떤 효과가 발생했는가?\n"
     ]
    },
    {
     "name": "stderr",
     "output_type": "stream",
     "text": [
      "\r\n",
      "Answering Questions:  70%|██████████████████████████████████████                | 69/98 [12:40<06:46, 14.01s/it]"
     ]
    },
    {
     "name": "stdout",
     "output_type": "stream",
     "text": [
      "Answer: 주어진 텍스트에는 2018년도 재정성과관리제도 개선사항과 그 효과에 대한 내용이 없습니다. \n",
      "\n",
      "\n",
      "\n",
      "\n",
      "Question: 재정사업 자율평가의 전면 개편을 통해 어떤 중점 추진과제가 제시되었는가?\n"
     ]
    },
    {
     "name": "stderr",
     "output_type": "stream",
     "text": [
      "\r\n",
      "Answering Questions:  71%|██████████████████████████████████████▌               | 70/98 [12:50<05:58, 12.81s/it]"
     ]
    },
    {
     "name": "stdout",
     "output_type": "stream",
     "text": [
      "Answer: 재정사업 자율평가의 전면 개편을 통해 성과관리 사각지대 해소, 사업성과평가의 예산편성 활용 확대를 위한 중점 추진과제가 제시되었다. \n",
      "\n",
      "\n",
      "\n",
      "\n",
      "Question: 재정성과관리제도의 중요성과 국정운영과의 연결성은 무엇인가?\n"
     ]
    },
    {
     "name": "stderr",
     "output_type": "stream",
     "text": [
      "\r\n",
      "Answering Questions:  72%|███████████████████████████████████████               | 71/98 [13:00<05:23, 11.99s/it]"
     ]
    },
    {
     "name": "stdout",
     "output_type": "stream",
     "text": [
      "Answer: 재정성과관리제도는 재정을 프로그램 단위로 관리하고 사전 목표와 사후 평가 결과를 중심으로 관리하는 제도로, 국정운영의 효율성과 효과성을 높이는 데 중요한 역할을 합니다. \n",
      "\n",
      "\n",
      "\n",
      "\n",
      "Question: 재정성과관리체계 강화를 위해 정부가 어떤 제도를 제시했으며, 재정성과관리는 무엇을 목표로 하는가?\n"
     ]
    },
    {
     "name": "stderr",
     "output_type": "stream",
     "text": [
      "\r\n",
      "Answering Questions:  73%|███████████████████████████████████████▋              | 72/98 [13:12<05:12, 12.00s/it]"
     ]
    },
    {
     "name": "stdout",
     "output_type": "stream",
     "text": [
      "Answer: 정부는 110대 국정과제 중 재정 정상화 및 재정의 지속 가능성 확보를 위해 재정성과관리체계 강화를 제시했습니다. 재정성과관리는 재정을 결과 또는 산출 지향적으로 운영하는 것을 목표로 합니다. \n",
      "\n",
      "\n",
      "\n",
      "\n",
      "Question: 재정성과관리는 어떤 과정에서 수행되며, 무엇을 증진하기 위해 활동하는가?\n"
     ]
    },
    {
     "name": "stderr",
     "output_type": "stream",
     "text": [
      "\r\n",
      "Answering Questions:  74%|████████████████████████████████████████▏             | 73/98 [13:26<05:15, 12.64s/it]"
     ]
    },
    {
     "name": "stdout",
     "output_type": "stream",
     "text": [
      "Answer: 재정성과관리는 재정사업의 기획, 집행, 환류, 종료에 이르는 전 주기를 체계적으로 관리하여 효율적 재정 운용을 뒷받침하고, 관련 정보를 국민에게 공개하여 책임성을 확보하는 것을 통해 재정의 효율성을 증진하고 대국민 재정 책임성을 강화하기 위해 활동한다. \n",
      "\n",
      "\n",
      "\n",
      "\n",
      "Question: 재정성과관리의 목적과 우리나라의 재정성과관리제도가 프로그램 예산제도로 전환된 시기는?\n"
     ]
    },
    {
     "name": "stderr",
     "output_type": "stream",
     "text": [
      "\r\n",
      "Answering Questions:  76%|████████████████████████████████████████▊             | 74/98 [13:37<04:51, 12.14s/it]"
     ]
    },
    {
     "name": "stdout",
     "output_type": "stream",
     "text": [
      "Answer: 재정성과관리의 목적은 정부 재정의 투명성·책임성, 효율성·효과성, 예산재분배 등이 있습니다. 우리나라는 2006년에 프로그램 예산제도로 전환했습니다. \n",
      "\n",
      "\n",
      "\n",
      "\n",
      "Question: 2007년과 2021년에 각각 「국가재정법」이 개정되면서 성과관리 제도는 어떻게 강화되고 구체화되었으며, 이 개정의 주된 목적은 무엇인가?\n"
     ]
    },
    {
     "name": "stderr",
     "output_type": "stream",
     "text": [
      "\r\n",
      "Answering Questions:  77%|█████████████████████████████████████████▎            | 75/98 [14:14<07:28, 19.52s/it]"
     ]
    },
    {
     "name": "stdout",
     "output_type": "stream",
     "text": [
      "Answer: 2007년 「국가재정법」 시행으로 과거 단발적인 성과관리 제도를 종합하여 기관 전략 목표-성과 지표에 의한 부처의 자율적 성과관리, 재정당국의 감독 및 심층 평가 체계를 구축했습니다. 이를 통해 정보화 기반을 마련하고 성과 중심 운영을 위한 제도적 기반을 마련하여 공개를 통한 투명성과 책임성을 향상시켰습니다. 2021년 「국가재정법」 개정은 이전 체계 운영 결과를 종합하고 발전시키기 위해 추진되었습니다. 이 개정을 통해 성과관리는 성과 목표 관리 및 성과 평가로 구체화되었고, 재정사업 성과관리 기본계획 수립, 성과 보고서 작성, 성과 평가 근거 마련, 성과 목표 관리 추진체계 마련, 성과 정보 관리 시스템 구축 및 운영, 국무회의에 성과 목표 관리 결과 보고 등의 조치를 통해 성과 중심 재정 운용을 확대하고 강화하는 것을 목표로 했습니다. \n",
      "\n",
      "\n",
      "\n",
      "\n",
      "Question: 재정사업 자율평가의 목적과 제도 개선 방식은 무엇인가?\n"
     ]
    },
    {
     "name": "stderr",
     "output_type": "stream",
     "text": [
      "\r\n",
      "Answering Questions:  78%|█████████████████████████████████████████▉            | 76/98 [14:34<07:14, 19.76s/it]"
     ]
    },
    {
     "name": "stdout",
     "output_type": "stream",
     "text": [
      "Answer: 재정사업 자율평가의 목적은 재정관리 합리성 제고를 위해 프로그램 단위의 성과관리, 사업 또는 사업군별로 수행되는 평가를 통해 거시적 재정총량 위주의 관리와 개별 부처의 재정사업 최하단부의 재정사업 관리체계를 연결하는 것이다. 재정사업 자율평가 제도는 평가 대상 사업의 범위, 평가 주기, 상위 평가 방식 등에서 지속적인 제도 개선을 통해 평가 실효성을 높이고자 노력하고 있다. \n",
      "\n",
      "\n",
      "\n",
      "\n",
      "Question: 2015년 이전과 2016년에 재정성과 평가 결과 처리 방식과 환류 개선 방식은 어떻게 달라졌는가?\n"
     ]
    },
    {
     "name": "stderr",
     "output_type": "stream",
     "text": [
      "\r\n",
      "Answering Questions:  79%|██████████████████████████████████████████▍           | 77/98 [14:52<06:45, 19.31s/it]"
     ]
    },
    {
     "name": "stdout",
     "output_type": "stream",
     "text": [
      "Answer: 2015년 이전에는 평가 결과 미흡 등급을 강제 배정하고 해당 단위 사업에 대한 일률적 삭감을 실시했습니다. 반면 2016년에는 평가 대상 사업 전체 예산의 1% 이내에서 부처에서 자율적으로 세출구조조정을 마련하도록 하고 우수 등급 사업도 지출구조조정이 가능하게 하였으며, 구조조정이 어려운 사업에 대해서는 성과관리 개선대책을 제출하게 했습니다. \n",
      "\n",
      "\n",
      "\n",
      "\n",
      "Question: 재정관리시스템 구축과 성과관리 개편을 추진하는 주된 목적은 무엇인가?\n"
     ]
    },
    {
     "name": "stderr",
     "output_type": "stream",
     "text": [
      "\r\n",
      "Answering Questions:  80%|██████████████████████████████████████████▉           | 78/98 [15:02<05:29, 16.49s/it]"
     ]
    },
    {
     "name": "stdout",
     "output_type": "stream",
     "text": [
      "Answer: 재정관리시스템 구축과 성과관리 개편을 추진하는 주된 목적은 효율적 재정 운용을 뒷받침하고, 관련 정보를 국민에게 공개하여 책임성을 확보하는 것이다. \n",
      "\n",
      "\n",
      "\n",
      "\n",
      "Question: 우리나라에서는 언제부터 발생주의 기준을 적용한 국가결산보고서에서 우발부채를 보고하고 있는가?\n"
     ]
    },
    {
     "name": "stderr",
     "output_type": "stream",
     "text": [
      "\r\n",
      "Answering Questions:  81%|███████████████████████████████████████████▌          | 79/98 [15:10<04:24, 13.92s/it]"
     ]
    },
    {
     "name": "stdout",
     "output_type": "stream",
     "text": [
      "Answer: 우리나라는 10년간 발생주의 회계기준을 적용한 국가결산보고서에서 우발부채를 보고하고 있습니다. \n",
      "\n",
      "\n",
      "\n",
      "\n",
      "Question: 우발부채 관련 주요 쟁점은 무엇인가?\n"
     ]
    },
    {
     "name": "stderr",
     "output_type": "stream",
     "text": [
      "\r\n",
      "Answering Questions:  82%|████████████████████████████████████████████          | 80/98 [15:18<03:39, 12.21s/it]"
     ]
    },
    {
     "name": "stdout",
     "output_type": "stream",
     "text": [
      "Answer: 우발부채 관련 주요 쟁점은 우발부채 개념 및 용어 사용의 혼란, 우발부채 분류기준 재검토, 새로운 분류기준 정립입니다. \n",
      "\n",
      "\n",
      "\n",
      "\n",
      "Question: 우발부채의 관리는 왜 중요한 이슈로 여겨지는가?\n"
     ]
    },
    {
     "name": "stderr",
     "output_type": "stream",
     "text": [
      "\r\n",
      "Answering Questions:  83%|████████████████████████████████████████████▋         | 81/98 [15:30<03:27, 12.18s/it]"
     ]
    },
    {
     "name": "stdout",
     "output_type": "stream",
     "text": [
      "Answer: 우발부채의 관리는 국제기준 재정통계 산출에 발생주의 회계기준이 적용되면서 미래의 다양한 의무를 포괄하는 우발부채 관리에 대한 중요성 인식이 높아지면서 중요한 이슈로 여겨지고 있습니다. \n",
      "\n",
      "\n",
      "\n",
      "\n",
      "Question: 우발부채와 부채의 차이점은 무엇인가?\n"
     ]
    },
    {
     "name": "stderr",
     "output_type": "stream",
     "text": [
      "\r\n",
      "Answering Questions:  84%|█████████████████████████████████████████████▏        | 82/98 [15:40<03:04, 11.52s/it]"
     ]
    },
    {
     "name": "stdout",
     "output_type": "stream",
     "text": [
      "Answer: 우발부채는 미래에 특정 사건이 일어나지 않는 한 발생하지 않는 의무이고, 하나 또는 그 이상의 조건이 충족되어야 금융거래로 인식된다는 점에서 부채와 차이가 있습니다. \n",
      "\n",
      "\n",
      "\n",
      "\n",
      "Question: 발생주의와 현금주의의 차이는 무엇인가?\n"
     ]
    },
    {
     "name": "stderr",
     "output_type": "stream",
     "text": [
      "\r\n",
      "Answering Questions:  85%|█████████████████████████████████████████████▋        | 83/98 [15:50<02:44, 10.95s/it]"
     ]
    },
    {
     "name": "stdout",
     "output_type": "stream",
     "text": [
      "Answer: 발생주의는 경제적 거래가 발생하는 시점에 거래를 기록하는 방식이고, 현금주의는 현금을 수취하거나 지급한 시점에 거래를 기록하는 방식이다. \n",
      "\n",
      "\n",
      "\n",
      "\n",
      "Question: 채무지속가능성분석은 어떤 목적을 가지고 도입되었는가?\n"
     ]
    },
    {
     "name": "stderr",
     "output_type": "stream",
     "text": [
      "\r\n",
      "Answering Questions:  86%|██████████████████████████████████████████████▎       | 84/98 [15:58<02:19,  9.98s/it]"
     ]
    },
    {
     "name": "stdout",
     "output_type": "stream",
     "text": [
      "Answer: 채무지속가능성분석은 잠재적 재정위기 감지, 예방, 해결을 위한 IMF의 노력으로 도입되었다. \n",
      "\n",
      "\n",
      "\n",
      "\n",
      "Question: 의제의무란 무엇인가?\n"
     ]
    },
    {
     "name": "stderr",
     "output_type": "stream",
     "text": [
      "\r\n",
      "Answering Questions:  87%|██████████████████████████████████████████████▊       | 85/98 [16:11<02:24, 11.14s/it]"
     ]
    },
    {
     "name": "stdout",
     "output_type": "stream",
     "text": [
      "Answer: 의제의무란 발표된 정부방침 또는 구체적이고 유효한 약속이나 과거의 실무관행 등을 통해 중앙관서 또는 기금이 특정 책임을 부담한다는 것을 표명함으로써 상대방이 그 책임을 이행할 것이라는 정당한 기대를 가지게 되는 경우 발생하는 의무를 말한다. \n",
      "\n",
      "\n",
      "\n",
      "\n",
      "Question: 국제통화기금이 재정통계 작성의 국제기준을 제시하기 위해 발간한 매뉴얼은 무엇인가?\n"
     ]
    },
    {
     "name": "stderr",
     "output_type": "stream",
     "text": [
      "\r\n",
      "Answering Questions:  88%|███████████████████████████████████████████████▍      | 86/98 [16:20<02:03, 10.29s/it]"
     ]
    },
    {
     "name": "stdout",
     "output_type": "stream",
     "text": [
      "Answer: 국제통화기금은 재정통계 작성의 국제기준을 제시하기 위해 재정통계 매뉴얼(Government Finance Statistics Manual, GFSM)을 발간했습니다. \n",
      "\n",
      "\n",
      "\n",
      "\n",
      "Question: 계류중인 소송사건이란 무엇인가?\n"
     ]
    },
    {
     "name": "stderr",
     "output_type": "stream",
     "text": [
      "\r\n",
      "Answering Questions:  89%|███████████████████████████████████████████████▉      | 87/98 [16:31<01:57, 10.64s/it]"
     ]
    },
    {
     "name": "stdout",
     "output_type": "stream",
     "text": [
      "Answer: 계류중인 소송사건은 정부가 원고인 경우와 피고인 경우 각각을 주석으로 공시하며, 다만 자원의 유출가능성이 매우 높은 경우(정부가 피고로 2심 패소 등)에는 소송충당부채로 공시된다. \n",
      "\n",
      "\n",
      "\n",
      "\n",
      "Question: 최소운영수입보장(BTO 등) 제도란 무엇을 의미하는가?\n"
     ]
    },
    {
     "name": "stderr",
     "output_type": "stream",
     "text": [
      "\r\n",
      "Answering Questions:  90%|████████████████████████████████████████████████▍     | 88/98 [16:43<01:51, 11.12s/it]"
     ]
    },
    {
     "name": "stdout",
     "output_type": "stream",
     "text": [
      "Answer: 최소운영수입보장(BTO 등) 제도란 주로 BTO 민간투자사업 중 실시협약서 상 추정 수입보다 실제 수입이 미치지 못하는 경우 정부가 최소운영수입을 보장해 주는 제도를 말합니다. \n",
      "\n",
      "\n",
      "\n",
      "\n",
      "Question: 우발부채에 대한 내용으로 대표적으로 어떤 사항이 해당되는가?\n"
     ]
    },
    {
     "name": "stderr",
     "output_type": "stream",
     "text": [
      "\r\n",
      "Answering Questions:  91%|█████████████████████████████████████████████████     | 89/98 [16:52<01:32, 10.32s/it]"
     ]
    },
    {
     "name": "stdout",
     "output_type": "stream",
     "text": [
      "Answer: 우발부채에 대한 내용으로 대표적으로 미래 발생이 불확실한 잠재적 의무 또는 부채 인식 기준을 충족하지 못한 현재의무가 해당된다. \n",
      "\n",
      "\n",
      "\n",
      "\n",
      "Question: GFSM2014에서는 우발부채를 어떻게 구분하는가?\n"
     ]
    },
    {
     "name": "stderr",
     "output_type": "stream",
     "text": [
      "\r\n",
      "Answering Questions:  92%|█████████████████████████████████████████████████▌    | 90/98 [16:59<01:15,  9.41s/it]"
     ]
    },
    {
     "name": "stdout",
     "output_type": "stream",
     "text": [
      "Answer: GFSM2014에서는 우발부채를 명시적 우발부채와 암묵적 우발부채로 구분합니다. \n",
      "\n",
      "\n",
      "\n",
      "\n",
      "Question: GFSM은 몇 차례의 개정을 거쳤으며, 어떠한 목적으로 GFSM 2001이 개정되었는가?\n"
     ]
    },
    {
     "name": "stderr",
     "output_type": "stream",
     "text": [
      "\r\n",
      "Answering Questions:  93%|██████████████████████████████████████████████████▏   | 91/98 [17:08<01:04,  9.26s/it]"
     ]
    },
    {
     "name": "stdout",
     "output_type": "stream",
     "text": [
      "Answer: GFSM은 총 2차례의 개정을 거쳤으며, GFSM 2001은 현재의 발생주의 기준 GFS체계를 구축하기 위해 전면 개정되었습니다. \n",
      "\n",
      "\n",
      "\n",
      "\n",
      "Question: 표준화 보증이란 무엇인가?\n"
     ]
    },
    {
     "name": "stderr",
     "output_type": "stream",
     "text": [
      "\r\n",
      "Answering Questions:  94%|██████████████████████████████████████████████████▋   | 92/98 [17:16<00:52,  8.81s/it]"
     ]
    },
    {
     "name": "stdout",
     "output_type": "stream",
     "text": [
      "Answer: 표준화 보증은 통상 아주 적은 금액에 대해 획일적 조건으로 대규모로 발행하는 보증을 말합니다. \n",
      "\n",
      "\n",
      "\n",
      "\n",
      "Question: 표준화 보증에서 공공부문의 우발부채는 어떻게 인식되는가?\n"
     ]
    },
    {
     "name": "stderr",
     "output_type": "stream",
     "text": [
      "\r\n",
      "Answering Questions:  95%|███████████████████████████████████████████████████▏  | 93/98 [17:23<00:41,  8.26s/it]"
     ]
    },
    {
     "name": "stdout",
     "output_type": "stream",
     "text": [
      "Answer: 표준화 보증에서 공공부문의 우발부채는 표준화 보증 충당부채로 인식된다. \n",
      "\n",
      "\n",
      "\n",
      "\n",
      "Question: 재정정책에서 공적보증채무와 다른 일회성 보증은 어떻게 구분되는가?\n"
     ]
    },
    {
     "name": "stderr",
     "output_type": "stream",
     "text": [
      "\r\n",
      "Answering Questions:  96%|███████████████████████████████████████████████████▊  | 94/98 [17:33<00:35,  8.98s/it]"
     ]
    },
    {
     "name": "stdout",
     "output_type": "stream",
     "text": [
      "Answer: 재정정책에서 공적보증채무는 보증인이 기타 공공부문과 민간부문 단위 기존 채무의 원리금 상환을 보증한다는 점에서 다른 일회성 보증과 구분된다. \n",
      "\n",
      "\n",
      "\n",
      "\n",
      "Question: 미래사회보장급여에 대한 순의무란 무엇을 의미하는가?\n"
     ]
    },
    {
     "name": "stderr",
     "output_type": "stream",
     "text": [
      "\r\n",
      "Answering Questions:  97%|████████████████████████████████████████████████████▎ | 95/98 [17:46<00:30, 10.05s/it]"
     ]
    },
    {
     "name": "stdout",
     "output_type": "stream",
     "text": [
      "Answer: 미래사회보장급여에 대한 순의무는 현행법과 규정에 따라 이미 가입자가 획득한 미래 급여의 현재가치에서 현행법과 규정에 따른 사회보장제도의 미래보험료의 순현재가치를 차감한 것을 인식한다. \n",
      "\n",
      "\n",
      "\n",
      "\n",
      "Question: 국가결산보고서와 지방자치단체 회계기준에서 우발부채에 대한 용어 및 회계처리가 어떻게 다른가요?\n"
     ]
    },
    {
     "name": "stderr",
     "output_type": "stream",
     "text": [
      "\r\n",
      "Answering Questions:  98%|████████████████████████████████████████████████████▉ | 96/98 [18:00<00:22, 11.09s/it]"
     ]
    },
    {
     "name": "stdout",
     "output_type": "stream",
     "text": [
      "Answer: 국가결산보고서는 우발부채를 재무제표상 부채로 인식하지 않고 주석에 공시하는 반면, 지방자치단체 회계기준은 우발부채 발생 가능성과 금액의 추정 가능성에 따라 재무제표상 재정상태표에 인식하는 경우도 있다고 합니다. \n",
      "\n",
      "\n",
      "\n",
      "\n",
      "Question: 우발부채란 무엇이며, 그 관리가 왜 중요한가?\n"
     ]
    },
    {
     "name": "stderr",
     "output_type": "stream",
     "text": [
      "\r\n",
      "Answering Questions:  99%|█████████████████████████████████████████████████████▍| 97/98 [18:21<00:14, 14.35s/it]"
     ]
    },
    {
     "name": "stdout",
     "output_type": "stream",
     "text": [
      "Answer: 우발부채는 미래에 특정 사건이 일어나지 않는 한 발생하지 않는 의무로, 하나 또는 그 이상의 조건이 충족되어야 금융거래로 인식된다는 점에서 ‘부채’와 차이가 있습니다. 이러한 우발부채는 재정위험을 발생시키는 구체적 원인이 되며, 의도적인 공공정책이나 재정위기와 같이 예기치 못한 사건으로 인해 발생할 수 있습니다. 우발부채 관리가 중요한 이유는 지속가능한 재정운영을 위해 미래의 다양한 의제의무를 포함하고 있기 때문입니다. \n",
      "\n",
      "\n",
      "\n",
      "\n",
      "Question: 보증이란 무엇이며, 어떤 형태의 보증이 재정상태표에 부채로 기록되는가? 또한 표준화 보증이란 무엇이며, 어떤 목적으로 발행되는가?\n"
     ]
    },
    {
     "name": "stderr",
     "output_type": "stream",
     "text": [
      "Answering Questions: 100%|██████████████████████████████████████████████████████| 98/98 [18:48<00:00, 11.51s/it]"
     ]
    },
    {
     "name": "stdout",
     "output_type": "stream",
     "text": [
      "Answer: 보증은 명시적 우발부채의 가장 보편적 형태이며, 모든 보증이 우발부채에 해당하는 것은 아니다. 파생금융상품 형태의 보증이나 표준화된 보증 제도하에서 설정하는 충당부채 형태의 보증은 재정상태표에 부채로 기록된다. 표준화 보증은 통상 아주 적은 금액에 대해 획일적 조건으로 대규모로 발행하는 보증이며, 수출(무역)신용 보증, 환보증, 다양한 종류의 보험, 농민융자, 모기지론, 학자금융자, 중소기업융자 등이 있다. 주로 유사한 특징을 지니고 위험 분산을 목적으로 하는 보증들이 많다. \n",
      "\n",
      "\n",
      "\n",
      "\n"
     ]
    },
    {
     "name": "stderr",
     "output_type": "stream",
     "text": [
      "\n"
     ]
    }
   ],
   "source": [
    "def normalize_string(s):\n",
    "    \"\"\"유니코드 정규화\"\"\"\n",
    "    return unicodedata.normalize('NFC', s)\n",
    "\n",
    "def format_docs(docs):\n",
    "    \"\"\"검색된 문서들을 하나의 문자열로 포맷팅\"\"\"\n",
    "    context = \"\"\n",
    "    for doc in docs:\n",
    "        context += doc.page_content\n",
    "        context += '\\n'\n",
    "    return context\n",
    "\n",
    "# 결과를 저장할 리스트 초기화\n",
    "results = []\n",
    "\n",
    "# DataFrame의 각 행에 대해 처리\n",
    "for _, row in tqdm(df.iterrows(), total=len(df), desc=\"Answering Questions\"):\n",
    "    # 소스 문자열 정규화\n",
    "    source = normalize_string(row['Source'])\n",
    "    question = row['Question']\n",
    "\n",
    "    # 정규화된 키로 데이터베이스 검색\n",
    "    normalized_keys = {normalize_string(k): v for k, v in pdf_databases.items()}\n",
    "    retriever = normalized_keys[source]['retriever']\n",
    "\n",
    "    # RAG 체인 구성\n",
    "    template = \"\"\"\n",
    "    다음 정보를 바탕으로 질문에 답하세요:\n",
    "    {context}\n",
    "\n",
    "    질문: {question}\n",
    "    \n",
    "    주어진 질문에만 답변하세요. 문장으로 답변해주세요. 답변할 때 질문의 주어를 써주세요.\n",
    "    답변:\n",
    "    \"\"\"\n",
    "    prompt = PromptTemplate.from_template(template)\n",
    "\n",
    "    # RAG 체인 정의\n",
    "    rag_chain = (\n",
    "        {\"context\": retriever | format_docs, \"question\": RunnablePassthrough()}\n",
    "        | prompt\n",
    "        | llm\n",
    "        | StrOutputParser()\n",
    "    )\n",
    "\n",
    "    # 답변 추론\n",
    "    print(f\"Question: {question}\")\n",
    "    full_response = rag_chain.invoke(question)\n",
    "\n",
    "    print(f\"Answer: {full_response}\\n\")\n",
    "\n",
    "    # 결과 저장\n",
    "    results.append({\n",
    "        \"Source\": row['Source'],\n",
    "        \"Source_path\": row['Source_path'],\n",
    "        \"Question\": question,\n",
    "        \"Answer\": full_response\n",
    "    })"
   ]
  },
  {
   "cell_type": "markdown",
   "metadata": {},
   "source": [
    "# Submission"
   ]
  },
  {
   "cell_type": "code",
   "execution_count": 8,
   "metadata": {},
   "outputs": [],
   "source": [
    "# 제출용 샘플 파일 로드\n",
    "submit_df = pd.read_csv(\"./sample_submission.csv\")\n",
    "\n",
    "# 생성된 답변을 제출 DataFrame에 추가\n",
    "submit_df['Answer'] = [item['Answer'] for item in results]\n",
    "submit_df['Answer'] = submit_df['Answer'].fillna(\"데이콘\")     # 모델에서 빈 값 (NaN) 생성 시 채점에 오류가 날 수 있음 [ 주의 ]\n",
    "\n",
    "# 결과를 CSV 파일로 저장\n",
    "submit_df.to_csv(\"./baseline_submission.csv\", encoding='UTF-8-sig', index=False)"
   ]
  },
  {
   "cell_type": "code",
   "execution_count": null,
   "metadata": {},
   "outputs": [],
   "source": []
  }
 ],
 "metadata": {
  "kernelspec": {
   "display_name": "Python 3 (ipykernel)",
   "language": "python",
   "name": "python3"
  },
  "language_info": {
   "codemirror_mode": {
    "name": "ipython",
    "version": 3
   },
   "file_extension": ".py",
   "mimetype": "text/x-python",
   "name": "python",
   "nbconvert_exporter": "python",
   "pygments_lexer": "ipython3",
   "version": "3.10.13"
  }
 },
 "nbformat": 4,
 "nbformat_minor": 4
}
