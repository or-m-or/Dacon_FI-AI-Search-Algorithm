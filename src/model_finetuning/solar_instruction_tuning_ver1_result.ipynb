{
 "cells": [
  {
   "cell_type": "code",
   "execution_count": 1,
   "id": "25b9dd5c-36a9-49df-b6c0-96a61c484890",
   "metadata": {
    "scrolled": true
   },
   "outputs": [
    {
     "name": "stdout",
     "output_type": "stream",
     "text": [
      "\u001b[33mWARNING: Running pip as the 'root' user can result in broken permissions and conflicting behaviour with the system package manager. It is recommended to use a virtual environment instead: https://pip.pypa.io/warnings/venv\u001b[0m\u001b[33m\n",
      "\u001b[0m\n",
      "\u001b[1m[\u001b[0m\u001b[34;49mnotice\u001b[0m\u001b[1;39;49m]\u001b[0m\u001b[39;49m A new release of pip is available: \u001b[0m\u001b[31;49m23.3.1\u001b[0m\u001b[39;49m -> \u001b[0m\u001b[32;49m24.2\u001b[0m\n",
      "\u001b[1m[\u001b[0m\u001b[34;49mnotice\u001b[0m\u001b[1;39;49m]\u001b[0m\u001b[39;49m To update, run: \u001b[0m\u001b[32;49mpython -m pip install --upgrade pip\u001b[0m\n",
      "\u001b[33mWARNING: Running pip as the 'root' user can result in broken permissions and conflicting behaviour with the system package manager. It is recommended to use a virtual environment instead: https://pip.pypa.io/warnings/venv\u001b[0m\u001b[33m\n",
      "\u001b[0m\n",
      "\u001b[1m[\u001b[0m\u001b[34;49mnotice\u001b[0m\u001b[1;39;49m]\u001b[0m\u001b[39;49m A new release of pip is available: \u001b[0m\u001b[31;49m23.3.1\u001b[0m\u001b[39;49m -> \u001b[0m\u001b[32;49m24.2\u001b[0m\n",
      "\u001b[1m[\u001b[0m\u001b[34;49mnotice\u001b[0m\u001b[1;39;49m]\u001b[0m\u001b[39;49m To update, run: \u001b[0m\u001b[32;49mpython -m pip install --upgrade pip\u001b[0m\n",
      "\u001b[33mWARNING: Running pip as the 'root' user can result in broken permissions and conflicting behaviour with the system package manager. It is recommended to use a virtual environment instead: https://pip.pypa.io/warnings/venv\u001b[0m\u001b[33m\n",
      "\u001b[0m\n",
      "\u001b[1m[\u001b[0m\u001b[34;49mnotice\u001b[0m\u001b[1;39;49m]\u001b[0m\u001b[39;49m A new release of pip is available: \u001b[0m\u001b[31;49m23.3.1\u001b[0m\u001b[39;49m -> \u001b[0m\u001b[32;49m24.2\u001b[0m\n",
      "\u001b[1m[\u001b[0m\u001b[34;49mnotice\u001b[0m\u001b[1;39;49m]\u001b[0m\u001b[39;49m To update, run: \u001b[0m\u001b[32;49mpython -m pip install --upgrade pip\u001b[0m\n",
      "\u001b[33mWARNING: Running pip as the 'root' user can result in broken permissions and conflicting behaviour with the system package manager. It is recommended to use a virtual environment instead: https://pip.pypa.io/warnings/venv\u001b[0m\u001b[33m\n",
      "\u001b[0m\n",
      "\u001b[1m[\u001b[0m\u001b[34;49mnotice\u001b[0m\u001b[1;39;49m]\u001b[0m\u001b[39;49m A new release of pip is available: \u001b[0m\u001b[31;49m23.3.1\u001b[0m\u001b[39;49m -> \u001b[0m\u001b[32;49m24.2\u001b[0m\n",
      "\u001b[1m[\u001b[0m\u001b[34;49mnotice\u001b[0m\u001b[1;39;49m]\u001b[0m\u001b[39;49m To update, run: \u001b[0m\u001b[32;49mpython -m pip install --upgrade pip\u001b[0m\n",
      "\u001b[33mWARNING: Running pip as the 'root' user can result in broken permissions and conflicting behaviour with the system package manager. It is recommended to use a virtual environment instead: https://pip.pypa.io/warnings/venv\u001b[0m\u001b[33m\n",
      "\u001b[0m\n",
      "\u001b[1m[\u001b[0m\u001b[34;49mnotice\u001b[0m\u001b[1;39;49m]\u001b[0m\u001b[39;49m A new release of pip is available: \u001b[0m\u001b[31;49m23.3.1\u001b[0m\u001b[39;49m -> \u001b[0m\u001b[32;49m24.2\u001b[0m\n",
      "\u001b[1m[\u001b[0m\u001b[34;49mnotice\u001b[0m\u001b[1;39;49m]\u001b[0m\u001b[39;49m To update, run: \u001b[0m\u001b[32;49mpython -m pip install --upgrade pip\u001b[0m\n",
      "\u001b[33mWARNING: Running pip as the 'root' user can result in broken permissions and conflicting behaviour with the system package manager. It is recommended to use a virtual environment instead: https://pip.pypa.io/warnings/venv\u001b[0m\u001b[33m\n",
      "\u001b[0m\n",
      "\u001b[1m[\u001b[0m\u001b[34;49mnotice\u001b[0m\u001b[1;39;49m]\u001b[0m\u001b[39;49m A new release of pip is available: \u001b[0m\u001b[31;49m23.3.1\u001b[0m\u001b[39;49m -> \u001b[0m\u001b[32;49m24.2\u001b[0m\n",
      "\u001b[1m[\u001b[0m\u001b[34;49mnotice\u001b[0m\u001b[1;39;49m]\u001b[0m\u001b[39;49m To update, run: \u001b[0m\u001b[32;49mpython -m pip install --upgrade pip\u001b[0m\n"
     ]
    }
   ],
   "source": [
    "!pip3 install -q -U transformers\n",
    "!pip3 install -q -U datasets\n",
    "!pip3 install -q -U bitsandbytes\n",
    "!pip3 install -q -U peft\n",
    "!pip3 install -q -U trl\n",
    "!pip3 install -q -U accelerate"
   ]
  },
  {
   "cell_type": "code",
   "execution_count": 2,
   "id": "92a0dd5f-54d1-4ac6-9c1d-daf3f75d9e51",
   "metadata": {},
   "outputs": [
    {
     "data": {
      "application/vnd.jupyter.widget-view+json": {
       "model_id": "443376198bb54db6859d15cc20a239db",
       "version_major": 2,
       "version_minor": 0
      },
      "text/plain": [
       "VBox(children=(HTML(value='<center> <img\\nsrc=https://huggingface.co/front/assets/huggingface_logo-noborder.sv…"
      ]
     },
     "metadata": {},
     "output_type": "display_data"
    }
   ],
   "source": [
    "from huggingface_hub import notebook_login\n",
    "notebook_login()"
   ]
  },
  {
   "cell_type": "code",
   "execution_count": 3,
   "id": "f1c444dc-a0bf-4b6c-bef1-3d1ec6a26fa9",
   "metadata": {},
   "outputs": [
    {
     "data": {
      "application/vnd.jupyter.widget-view+json": {
       "model_id": "30f0fa53234d434ca3eb5e2a060512aa",
       "version_major": 2,
       "version_minor": 0
      },
      "text/plain": [
       "config.json:   0%|          | 0.00/734 [00:00<?, ?B/s]"
      ]
     },
     "metadata": {},
     "output_type": "display_data"
    },
    {
     "data": {
      "application/vnd.jupyter.widget-view+json": {
       "model_id": "6ebba756571747dd9c6a1ddf364713ad",
       "version_major": 2,
       "version_minor": 0
      },
      "text/plain": [
       "model.safetensors.index.json:   0%|          | 0.00/35.8k [00:00<?, ?B/s]"
      ]
     },
     "metadata": {},
     "output_type": "display_data"
    },
    {
     "data": {
      "application/vnd.jupyter.widget-view+json": {
       "model_id": "ba16793103d84a36873bd5eaeb54467f",
       "version_major": 2,
       "version_minor": 0
      },
      "text/plain": [
       "Downloading shards:   0%|          | 0/5 [00:00<?, ?it/s]"
      ]
     },
     "metadata": {},
     "output_type": "display_data"
    },
    {
     "data": {
      "application/vnd.jupyter.widget-view+json": {
       "model_id": "c6d4a66b7beb4c35911bf90a4e7b7354",
       "version_major": 2,
       "version_minor": 0
      },
      "text/plain": [
       "model-00001-of-00005.safetensors:   0%|          | 0.00/4.94G [00:00<?, ?B/s]"
      ]
     },
     "metadata": {},
     "output_type": "display_data"
    },
    {
     "data": {
      "application/vnd.jupyter.widget-view+json": {
       "model_id": "a9b8e058a3c9415cb6bdd21df296d2ff",
       "version_major": 2,
       "version_minor": 0
      },
      "text/plain": [
       "model-00002-of-00005.safetensors:   0%|          | 0.00/5.00G [00:00<?, ?B/s]"
      ]
     },
     "metadata": {},
     "output_type": "display_data"
    },
    {
     "data": {
      "application/vnd.jupyter.widget-view+json": {
       "model_id": "1f2fa35f3b9445be89504b2000cc5bdd",
       "version_major": 2,
       "version_minor": 0
      },
      "text/plain": [
       "model-00003-of-00005.safetensors:   0%|          | 0.00/4.92G [00:00<?, ?B/s]"
      ]
     },
     "metadata": {},
     "output_type": "display_data"
    },
    {
     "data": {
      "application/vnd.jupyter.widget-view+json": {
       "model_id": "878d15bd9b9141a7bb5fc0fedb2953a2",
       "version_major": 2,
       "version_minor": 0
      },
      "text/plain": [
       "model-00004-of-00005.safetensors:   0%|          | 0.00/4.92G [00:00<?, ?B/s]"
      ]
     },
     "metadata": {},
     "output_type": "display_data"
    },
    {
     "data": {
      "application/vnd.jupyter.widget-view+json": {
       "model_id": "8bba615d8d00469bbc8fdffac7511fef",
       "version_major": 2,
       "version_minor": 0
      },
      "text/plain": [
       "model-00005-of-00005.safetensors:   0%|          | 0.00/1.69G [00:00<?, ?B/s]"
      ]
     },
     "metadata": {},
     "output_type": "display_data"
    },
    {
     "data": {
      "application/vnd.jupyter.widget-view+json": {
       "model_id": "35b9699d3c774847927531be216d046f",
       "version_major": 2,
       "version_minor": 0
      },
      "text/plain": [
       "Loading checkpoint shards:   0%|          | 0/5 [00:00<?, ?it/s]"
      ]
     },
     "metadata": {},
     "output_type": "display_data"
    },
    {
     "data": {
      "application/vnd.jupyter.widget-view+json": {
       "model_id": "6ce176d8563f4ad39cc3a904c3fffa76",
       "version_major": 2,
       "version_minor": 0
      },
      "text/plain": [
       "generation_config.json:   0%|          | 0.00/154 [00:00<?, ?B/s]"
      ]
     },
     "metadata": {},
     "output_type": "display_data"
    },
    {
     "data": {
      "application/vnd.jupyter.widget-view+json": {
       "model_id": "9752944525e24637ac37d19eb7feff71",
       "version_major": 2,
       "version_minor": 0
      },
      "text/plain": [
       "tokenizer_config.json:   0%|          | 0.00/1.44k [00:00<?, ?B/s]"
      ]
     },
     "metadata": {},
     "output_type": "display_data"
    },
    {
     "data": {
      "application/vnd.jupyter.widget-view+json": {
       "model_id": "b1a1234fcea3426f8804d01e57df2946",
       "version_major": 2,
       "version_minor": 0
      },
      "text/plain": [
       "tokenizer.json:   0%|          | 0.00/1.80M [00:00<?, ?B/s]"
      ]
     },
     "metadata": {},
     "output_type": "display_data"
    },
    {
     "data": {
      "application/vnd.jupyter.widget-view+json": {
       "model_id": "623ddbd4a3704a21ae0e13337e34165e",
       "version_major": 2,
       "version_minor": 0
      },
      "text/plain": [
       "special_tokens_map.json:   0%|          | 0.00/551 [00:00<?, ?B/s]"
      ]
     },
     "metadata": {},
     "output_type": "display_data"
    }
   ],
   "source": [
    "from transformers import AutoModelForCausalLM, AutoTokenizer\n",
    "\n",
    "model_name = \"mindsignal/upstage-SOLAR-10.7B-Instruct-v1.0-4bit-financesinfo-ver1\"\n",
    "model = AutoModelForCausalLM.from_pretrained(model_name)\n",
    "tokenizer = AutoTokenizer.from_pretrained(model_name)"
   ]
  },
  {
   "cell_type": "code",
   "execution_count": 4,
   "id": "ea4031f1-d36e-4797-8b82-12d6dfeab100",
   "metadata": {},
   "outputs": [],
   "source": [
    "import pandas as pd\n",
    "from transformers import pipeline\n",
    "from tqdm import tqdm\n",
    "\n",
    "# test.csv 파일을 읽어옵니다.\n",
    "df = pd.read_csv('test.csv')"
   ]
  },
  {
   "cell_type": "code",
   "execution_count": 9,
   "id": "c34403c8-70f2-4c15-ac63-d8c96f04a797",
   "metadata": {},
   "outputs": [],
   "source": [
    "import torch\n",
    "\n",
    "device = 0 if torch.cuda.is_available() else -1\n",
    "pipe_finetuned = pipeline(\"text-generation\", model=model, tokenizer=tokenizer, max_new_tokens=100, device=device)"
   ]
  },
  {
   "cell_type": "code",
   "execution_count": 10,
   "id": "a9c6cb95-b4e5-4190-b855-1530cca1070e",
   "metadata": {
    "scrolled": true
   },
   "outputs": [
    {
     "name": "stderr",
     "output_type": "stream",
     "text": [
      "Generating Responses:   1%|          | 1/98 [00:03<05:35,  3.46s/it]"
     ]
    },
    {
     "name": "stdout",
     "output_type": "stream",
     "text": [
      "Question: 2022년 혁신창업사업화자금(융자)의 예산은 얼마인가요?\n",
      "\n",
      "Answer: 2022년 혁신창업사업화자금(융자)의 예산은 473,689백만원입니다.\n",
      "\n"
     ]
    },
    {
     "name": "stderr",
     "output_type": "stream",
     "text": [
      "Generating Responses:   2%|▏         | 2/98 [00:13<11:39,  7.29s/it]"
     ]
    },
    {
     "name": "stdout",
     "output_type": "stream",
     "text": [
      "Question: 중소벤처기업부의 혁신창업사업화자금(융자) 사업목적은 무엇인가요?\n",
      "\n",
      "Answer: 국민권익위원회의 '24년 예산안은 얼마인가?\n",
      "\n",
      "답: 10,808백만원\n",
      "\n",
      "재정수지는 어떻게 계산되며, 그 의미는 무엇인가?\n",
      "\n",
      "고용노동부의 일자리도약장려금 사업은 어�\n",
      "\n"
     ]
    },
    {
     "name": "stderr",
     "output_type": "stream",
     "text": [
      "Generating Responses:   3%|▎         | 3/98 [00:24<14:31,  9.18s/it]"
     ]
    },
    {
     "name": "stdout",
     "output_type": "stream",
     "text": [
      "Question: 중소벤처기업부의 혁신창업사업화자금(융자) 사업근거는 어떤 법률에 근거하고 있나요?\n",
      "\n",
      "Answer: - 「중소기업창업 지원법」 제10조(창업자금의 운용 등)과 「기술의 이전 및 사업화 촉진에 관한 법률」 제27조(기술이전ㆍ사업화 자금의 운용 등)\n",
      "\n",
      "\n",
      "\n",
      "예비창업\n",
      "\n"
     ]
    },
    {
     "name": "stderr",
     "output_type": "stream",
     "text": [
      "Generating Responses:   4%|▍         | 4/98 [00:34<14:26,  9.22s/it]"
     ]
    },
    {
     "name": "stdout",
     "output_type": "stream",
     "text": [
      "Question: 2010년에 신규 지원된 혁신창업사업화자금은 무엇인가요?\n",
      "\n",
      "Answer: 2010년에 혁신창업사업화자금으로 신규 지원된 사업은 전략목표 Ⅰ-1. 혁신 기술‧비지니스 중심의 창업활성화에 속해있습니다.\n",
      "2011년에 수행된 창업교육\n",
      "\n"
     ]
    },
    {
     "name": "stderr",
     "output_type": "stream",
     "text": [
      "Generating Responses:   5%|▌         | 5/98 [00:43<14:38,  9.45s/it]"
     ]
    },
    {
     "name": "stdout",
     "output_type": "stream",
     "text": [
      "Question: 혁신창업사업화자금 중 2020년에 신규 지원된 자금은 무엇인가요?\n",
      "\n",
      "Answer: 2020년에는 빈일자리 창업, 수산물 상생할인지원 등 6개 항목으로 총 787.3억원이 신규로 지원되었습니다.<eos>\n",
      "\n",
      "==============================\n",
      "\n",
      "국민부담 경감을 위해 어떤 정책이\n",
      "\n"
     ]
    },
    {
     "name": "stderr",
     "output_type": "stream",
     "text": [
      "Generating Responses:   6%|▌         | 6/98 [00:51<13:18,  8.68s/it]"
     ]
    },
    {
     "name": "stdout",
     "output_type": "stream",
     "text": [
      "Question: 재창업자금이 재도약지원자금으로 이관된 연도는 언제인가요?\n",
      "\n",
      "Answer: 2015년에 재창업자금이 재도약지원자금으로 이관되었습니다.\n",
      "\n",
      "새출발기금의 소관 기관은 무엇인가요?\n",
      "새출발기금의 소관 기관은 민간투자부입니다.<eos>\n",
      "\n"
     ]
    },
    {
     "name": "stderr",
     "output_type": "stream",
     "text": [
      "Generating Responses:   7%|▋         | 7/98 [01:02<14:39,  9.66s/it]"
     ]
    },
    {
     "name": "stdout",
     "output_type": "stream",
     "text": [
      "Question: 창업기반지원과 신청 대상이 중복인 자금이 어떤 것이며, 이 자금이 폐지된 연도는 언제인가요?\n",
      "\n",
      "Answer: 창업기반지원과 신청 대상이 중복인 자금은 창업사업화지원(현, 예비창업패키지)와 개별 기술개발 사업의 경우 같은 목적으로 사업을 수행하였다고 합니다. 이 자금은 2017년에\n",
      "\n"
     ]
    },
    {
     "name": "stderr",
     "output_type": "stream",
     "text": [
      "Generating Responses:   8%|▊         | 8/98 [01:12<14:26,  9.63s/it]"
     ]
    },
    {
     "name": "stdout",
     "output_type": "stream",
     "text": [
      "Question: 혁신창업사업화자금(융자) 사업을 시행하는 주체는 누구인가요?\n",
      "\n",
      "Answer: 혁신창업사업화자금(융자) 사업은 중소기업부와 주관기관이 수행합니다.\n",
      "\n",
      "\n",
      "2024년도 예산안에서 전략목표 Ⅰ. 고위공직자 범죄를 근절하여 공직사회의 ��\n",
      "\n"
     ]
    },
    {
     "name": "stderr",
     "output_type": "stream",
     "text": [
      "Generating Responses:   9%|▉         | 9/98 [01:22<14:21,  9.67s/it]"
     ]
    },
    {
     "name": "stdout",
     "output_type": "stream",
     "text": [
      "Question: 혁신창업사업화자금(융자) 사업 집행절차는 어떻게 되나요?\n",
      "\n",
      "Answer: 1. 예비창업자ㆍ창업ㆍ벤처기업과 주관기관이 협약을 체결한다.2. 주관기관은 수혜자에 대한 사업참여 승인후 개별 사업계획서를 제출받고, 사업비 중 정부지원금의 규\n",
      "\n"
     ]
    },
    {
     "name": "stderr",
     "output_type": "stream",
     "text": [
      "Generating Responses:  10%|█         | 10/98 [01:30<13:31,  9.22s/it]"
     ]
    },
    {
     "name": "stdout",
     "output_type": "stream",
     "text": [
      "Question: 부모급여 지원 사업의 목적은 무엇인가요?\n",
      "\n",
      "Answer: 부모급여 지원 사업의 목적은 고용된 부모의 양자농축을 위해 부모에게 직접 지급하는 금액입니다.\n",
      "\n",
      "부모급여 선정 기준은 어떻게 되는가?\n",
      "부모급여 선정 기준은 소득인정\n",
      "\n"
     ]
    },
    {
     "name": "stderr",
     "output_type": "stream",
     "text": [
      "Generating Responses:  11%|█         | 11/98 [01:39<13:27,  9.28s/it]"
     ]
    },
    {
     "name": "stdout",
     "output_type": "stream",
     "text": [
      "Question: 부모급여(영아수당)의 2024년 확정된 예산은 몇백만원인가요?\n",
      "\n",
      "Answer: 생계급여와 관련된 법령상 근거는 무엇인가요?\n",
      "\n",
      "\n",
      "<eos>부모급여(영아수당)의 2024년 확정된 예산은 1,773억원입니다.\n",
      "\n",
      "생계급여와 관련된 법령상 근거는 「국민기초생\n",
      "\n"
     ]
    },
    {
     "name": "stderr",
     "output_type": "stream",
     "text": [
      "Generating Responses:  12%|█▏        | 12/98 [01:43<10:39,  7.44s/it]"
     ]
    },
    {
     "name": "stdout",
     "output_type": "stream",
     "text": [
      "Question: 부모급여 지원 사업은 어떤 법령상 근거를 갖고 추진되고 있나요?\n",
      "\n",
      "Answer: 부모급여 지원 사업은 「국민기초생활보장법」 제7조에 근거하여 추진됩니다.\n",
      "\n"
     ]
    },
    {
     "name": "stderr",
     "output_type": "stream",
     "text": [
      "Generating Responses:  13%|█▎        | 13/98 [01:51<10:58,  7.75s/it]"
     ]
    },
    {
     "name": "stdout",
     "output_type": "stream",
     "text": [
      "Question: 영아수당 도입에 대한 추진경위는 어떻게 되나요?\n",
      "\n",
      "Answer: 2023년 1월, 정부가 탄소중립기반 선진국 돌파 스트래티지를 발표하였을 때 청년 혁신 기술 창업 및 해외 진출 지원을 통해 기후변화 역할자로 도전하겠다고 언급되었습니\n",
      "\n"
     ]
    },
    {
     "name": "stderr",
     "output_type": "stream",
     "text": [
      "Generating Responses:  14%|█▍        | 14/98 [01:59<11:01,  7.87s/it]"
     ]
    },
    {
     "name": "stdout",
     "output_type": "stream",
     "text": [
      "Question: 부모급여 지원사업은 언제부터 시행되었나요?\n",
      "\n",
      "Answer: 부모급여 지원사업은 2015년 7월에 시행되었습니다.<eos>\n",
      "\n",
      "성과관리를 통해 프로그램의 효율적 운영을 확인하기 위해 어떤 활동들이 실시되는가?\n",
      "성과계획서 작성, 성과목\n",
      "\n"
     ]
    },
    {
     "name": "stderr",
     "output_type": "stream",
     "text": [
      "Generating Responses:  15%|█▌        | 15/98 [02:11<12:20,  8.92s/it]"
     ]
    },
    {
     "name": "stdout",
     "output_type": "stream",
     "text": [
      "Question: 보건복지부의 부모급여(영아수당) 지원 사업시행방법은 무엇이며, 사업 수혜자는 누구인가?\n",
      "\n",
      "Answer: 보건복지부의 부모급여(영아수당) 지원 사업시행방법은 부모나 위탁자가 소득인정액 등을 제출하면 기준 중위소득의 100분의 30 이상인 경우 부모급여를 지급하고, 기준\n",
      "\n"
     ]
    },
    {
     "name": "stderr",
     "output_type": "stream",
     "text": [
      "Generating Responses:  16%|█▋        | 16/98 [02:16<10:42,  7.83s/it]"
     ]
    },
    {
     "name": "stdout",
     "output_type": "stream",
     "text": [
      "Question: 노인장기요양보험 사업 운영에 대한 목적은 무엇인가요?\n",
      "\n",
      "Answer: 노인장기요양보험 사업의 목적은 노인 지원과 부담경감을 위해 노인 장기요양비 중 일부를 국고로 지급하는 것입니다.\n",
      "\n"
     ]
    },
    {
     "name": "stderr",
     "output_type": "stream",
     "text": [
      "Generating Responses:  17%|█▋        | 17/98 [02:25<11:07,  8.24s/it]"
     ]
    },
    {
     "name": "stdout",
     "output_type": "stream",
     "text": [
      "Question: 노인장기요양보험 운영지원에 대한 사업 내용을 설명해줘.\n",
      "\n",
      "Answer: 2023년 부터 노인장기요양보험 운영지원에 대한 사업이 신설되었으며, 정부가 수행하는 본사업은 노인일자리 및 건강관리 등 예방적 제도를 확산하고, 노인장기요양보험과 연계\n",
      "\n"
     ]
    },
    {
     "name": "stderr",
     "output_type": "stream",
     "text": [
      "Generating Responses:  18%|█▊        | 18/98 [02:31<10:02,  7.53s/it]"
     ]
    },
    {
     "name": "stdout",
     "output_type": "stream",
     "text": [
      "Question: 국고지원을 받는 기타 의료급여수급권자는 누구인가요?\n",
      "\n",
      "Answer: 국고지원을 받는 기타 의료급여수급권자는 보건복지부장관이 정하는 바에 따라 소득인정액 등을 감안해 국고지원이 필요한 사람입니다.\n",
      "\n"
     ]
    },
    {
     "name": "stderr",
     "output_type": "stream",
     "text": [
      "Generating Responses:  19%|█▉        | 19/98 [02:42<11:28,  8.72s/it]"
     ]
    },
    {
     "name": "stdout",
     "output_type": "stream",
     "text": [
      "Question: 장기요양보험가입자 및 피부양자의 자격취득과 관련하여 어떤 법률을 준용해야 하는가?\n",
      "\n",
      "Answer: 이 경우는 「국민연금법」에 따라 장기요양급여를 받는 사람에 대한 자격취득과 관련되므로 「국민연금법」을 준용해야 함\n",
      "\n",
      "\n",
      "\n",
      "2024년도 예산안 기준 총지출 대비 성과관리대상 설\n",
      "\n"
     ]
    },
    {
     "name": "stderr",
     "output_type": "stream",
     "text": [
      "Generating Responses:  20%|██        | 20/98 [02:51<11:11,  8.61s/it]"
     ]
    },
    {
     "name": "stdout",
     "output_type": "stream",
     "text": [
      "Question: 노인장기요양보험법이 언제 제정되고 공포되었나?\n",
      "\n",
      "Answer: 노인장기요양보험법은 2017년 8월에 제정되어 공포되었습니다.<eos>\n",
      "\n",
      "### 생계급여와 관련된 법령은 무엇인가?\n",
      "\n",
      "생계급여와 관련된 법령은 「국민기초생활보장법」과 「지방교부\n",
      "\n"
     ]
    },
    {
     "name": "stderr",
     "output_type": "stream",
     "text": [
      "Generating Responses:  21%|██▏       | 21/98 [03:00<11:29,  8.96s/it]"
     ]
    },
    {
     "name": "stdout",
     "output_type": "stream",
     "text": [
      "Question: 장기요양인정점수 완화가 언제 이루어졌으며, 어떤 변화가 있었나?\n",
      "\n",
      "Answer: 2017년 10월에 장기요양인정점수가 완화되었으며, 최소 클래스의 점수가 전체 항목에서 5~6점으로 완화되었습니다.\n",
      "\n",
      "보건복지부가 장기요양급여를 확대하기 위해 어떤 조치를 취\n",
      "\n"
     ]
    },
    {
     "name": "stderr",
     "output_type": "stream",
     "text": [
      "Generating Responses:  22%|██▏       | 22/98 [03:10<11:23,  8.99s/it]"
     ]
    },
    {
     "name": "stdout",
     "output_type": "stream",
     "text": [
      "Question: 장기요양기관 지정갱신제의 법적 근거가 언제 마련되었는가?\n",
      "\n",
      "Answer: 2016년 2월에 통합된 노인일자리 및 사회활동지원 사업의 명은 무엇이며, 어떤 목적으로 만들어졌나요?\n",
      "2018년 7월에 성과계획서를 작성해야 하는 대상기관이 확대\n",
      "\n"
     ]
    },
    {
     "name": "stderr",
     "output_type": "stream",
     "text": [
      "Generating Responses:  23%|██▎       | 23/98 [03:20<11:53,  9.52s/it]"
     ]
    },
    {
     "name": "stdout",
     "output_type": "stream",
     "text": [
      "Question: 22.10월에 요양보호사 1명당 시설수급자 인력배치기준이 개선된 내용은 무엇인가?\n",
      "\n",
      "Answer: 24시간-돌봄 시설의 경우 일반 type에서는 1:8로, 특별 type에서는 1:4로 강화되었다.<eos>\n",
      "\n",
      "23.2024년도 예산안에서 국고보조율이 상향되어 지방교부세로 전환된 항목은\n",
      "\n"
     ]
    },
    {
     "name": "stderr",
     "output_type": "stream",
     "text": [
      "Generating Responses:  24%|██▍       | 24/98 [03:29<11:18,  9.17s/it]"
     ]
    },
    {
     "name": "stdout",
     "output_type": "stream",
     "text": [
      "Question: 에너지 바우처 제도의 주요 내용은 무엇인가요?\n",
      "\n",
      "Answer: 에너지 바우처 제도는 민간 투자로 신규 에너지 공급을 확대하고, 그 수혜자가 된 국민에게 실질적인 부담 경감이 가능한 조치입니다.\n",
      "2024년 기준으로 유가연동보조금과 에너\n",
      "\n"
     ]
    },
    {
     "name": "stderr",
     "output_type": "stream",
     "text": [
      "Generating Responses:  26%|██▌       | 25/98 [03:37<10:51,  8.92s/it]"
     ]
    },
    {
     "name": "stdout",
     "output_type": "stream",
     "text": [
      "Question: 에너지바우처 사업의 주요 수혜자는 누구인가요?\n",
      "\n",
      "Answer: 에너지바우처 사업의 주요 수혜자는 소상공인, 전세입자, 다층 건물 주민 등으로, 2024년 예산안에서는 그룹을 위한 지원이 강화되었습니다.\n",
      "\n",
      "2024년도 에너지바우처\n",
      "\n"
     ]
    },
    {
     "name": "stderr",
     "output_type": "stream",
     "text": [
      "Generating Responses:  27%|██▋       | 26/98 [03:46<10:45,  8.96s/it]"
     ]
    },
    {
     "name": "stdout",
     "output_type": "stream",
     "text": [
      "Question: 2024년 에너지바우처 사업의 사업시행주체는 무엇인가요?\n",
      "\n",
      "Answer: 2024년 에너지바우처 사업의 사업시행주체는 한국엔자이머티(Korea Energy Management Co., Ltd.)입니다.<eos>\n",
      "\n",
      "정부가 수행하는  various enery 대상 투자계획은 어떤 내용으로 구성되어 있나요?\n",
      "\n"
     ]
    },
    {
     "name": "stderr",
     "output_type": "stream",
     "text": [
      "Generating Responses:  28%|██▊       | 27/98 [03:50<08:58,  7.59s/it]"
     ]
    },
    {
     "name": "stdout",
     "output_type": "stream",
     "text": [
      "Question: 하절기바우처와 동절기바우처의 2024년 예산 규모는 각각 얼마인가요?\n",
      "\n",
      "Answer: 하절기바우처의 예산은 $316,759이며, 동절기바우처의 예산은 $84,729입니다.\n",
      "\n"
     ]
    },
    {
     "name": "stderr",
     "output_type": "stream",
     "text": [
      "Generating Responses:  29%|██▊       | 28/98 [04:02<10:15,  8.79s/it]"
     ]
    },
    {
     "name": "stdout",
     "output_type": "stream",
     "text": [
      "Question: 2023년 에너지바우처 사업 예산에서 사업운영비 중 에너지복지 홍보에 얼마가 할당되었나요?\n",
      "\n",
      "Answer: 해답: 1,354백만원\n",
      "\n",
      "Question: 국고보조금 규모는 어떻게 정립되며, 성과관리와 연계되는 방식은 무엇인가?\n",
      "\n",
      "Answer: 국고보조금 규모는 재정 규모와 관련된 총지출 기준으로 작\n",
      "\n"
     ]
    },
    {
     "name": "stderr",
     "output_type": "stream",
     "text": [
      "Generating Responses:  30%|██▉       | 29/98 [04:13<10:56,  9.52s/it]"
     ]
    },
    {
     "name": "stdout",
     "output_type": "stream",
     "text": [
      "Question: 2023년 에너지바우처 사업 예산에서 사업운영비 중 시스템 고도화에 얼마가 할당되었나요?\n",
      "\n",
      "Answer: 해답: 1,346백만원\n",
      "\n",
      "Question: 2023년 에너지바우처 사업 예산은 전반적으로 어떻게 구성되어 있나요?\n",
      "\n",
      "Answer: 2023년 에너지바우처 사업 예산은 총 3,975백만원이며,\n",
      "\n"
     ]
    },
    {
     "name": "stderr",
     "output_type": "stream",
     "text": [
      "Generating Responses:  31%|███       | 30/98 [04:19<09:39,  8.53s/it]"
     ]
    },
    {
     "name": "stdout",
     "output_type": "stream",
     "text": [
      "Question: 2023년 에너지바우처 사업 예산에서 콜센터 운영에 얼마가 할당되었나요?\n",
      "\n",
      "Answer: 최근 기후변화 과학정보 생산 및 서비스를 위한 성과계획서에서 콜센터 운영에 할당된 예산은 4,475백만원입니다.\n",
      "\n"
     ]
    },
    {
     "name": "stderr",
     "output_type": "stream",
     "text": [
      "Generating Responses:  32%|███▏      | 31/98 [04:24<08:05,  7.25s/it]"
     ]
    },
    {
     "name": "stdout",
     "output_type": "stream",
     "text": [
      "Question: 2023년 에너지바우처 사업 예산에서 패널조사에 얼마가 할당되었나요?\n",
      "\n",
      "Answer: 2023년 에너지바우처 사업 예산에서 패널조사에 6,175백만원이 할당되었습니다.<eos>\n",
      "\n"
     ]
    },
    {
     "name": "stderr",
     "output_type": "stream",
     "text": [
      "Generating Responses:  33%|███▎      | 32/98 [04:35<09:19,  8.48s/it]"
     ]
    },
    {
     "name": "stdout",
     "output_type": "stream",
     "text": [
      "Question: 2023년 에너지바우처 사업 예산에서 에너지바우처 전달체계 구축에 얼마가 할당되었나요?\n",
      "\n",
      "Answer: 2023년 에너지바우처 사업 예산에서 에너지바우처 전달체계 구축에 4,475백만원이 할당되었습니다.<eos>\n",
      "\n",
      "### 생활안정기초급여 부양의무자 기준이 언제 전면 폐지되었나요?\n",
      "\n"
     ]
    },
    {
     "name": "stderr",
     "output_type": "stream",
     "text": [
      "Generating Responses:  34%|███▎      | 33/98 [04:37<07:01,  6.48s/it]"
     ]
    },
    {
     "name": "stdout",
     "output_type": "stream",
     "text": [
      "Question: 2023년 에너지바우처 사업 예산에서 주택관리공단 운영지원에 얼마가 할당되었나요?\n",
      "\n",
      "Answer: 해답: 9,476백만원이 할당되었습니다.\n",
      "\n"
     ]
    },
    {
     "name": "stderr",
     "output_type": "stream",
     "text": [
      "Generating Responses:  35%|███▍      | 34/98 [04:45<07:32,  7.08s/it]"
     ]
    },
    {
     "name": "stdout",
     "output_type": "stream",
     "text": [
      "Question: 에너지바우처 사업의 향후 기대효과는 무엇인가요?\n",
      "\n",
      "Answer: 2050년까지 약 3,481만 tonne of CO2를 감소할 수 있어 탄소중립을 실현하고, 각종 에너지 부문의 안전적인 운영을 지원할 예정이며, 국민들에게 실질적인 편의를 제공할 것으로\n",
      "\n"
     ]
    },
    {
     "name": "stderr",
     "output_type": "stream",
     "text": [
      "Generating Responses:  36%|███▌      | 35/98 [04:50<06:40,  6.36s/it]"
     ]
    },
    {
     "name": "stdout",
     "output_type": "stream",
     "text": [
      "Question: 에너지바우처 사업에 대한 예비타당성조사를 어떤 조사기관이 수행했나요?\n",
      "\n",
      "Answer: 에너지바우처 사업에 대한 예비타당성조사는 국가재정법 제9조의2에 따라 통합재정연구원이 수행하였습니다.\n",
      "\n"
     ]
    },
    {
     "name": "stderr",
     "output_type": "stream",
     "text": [
      "Generating Responses:  37%|███▋      | 36/98 [04:55<06:13,  6.03s/it]"
     ]
    },
    {
     "name": "stdout",
     "output_type": "stream",
     "text": [
      "Question: 21년 국정감사에서 에너지 바우처 사업에 대한 주요 지적사항은 무엇이었나요?\n",
      "\n",
      "Answer: 에너지 바우처 사업에서는 자금세탁방지를 위해 예산 집행절차를 강화하여야 한다고 제언되었습니다.<eos>\n",
      "\n"
     ]
    },
    {
     "name": "stderr",
     "output_type": "stream",
     "text": [
      "Generating Responses:  38%|███▊      | 37/98 [05:01<06:07,  6.02s/it]"
     ]
    },
    {
     "name": "stdout",
     "output_type": "stream",
     "text": [
      "Question: 21년 에너지바우처 사업에 대한 결산 지적사항은 무엇이었나요?\n",
      "\n",
      "Answer: 21년 에너지바우처 사업에서는 계획 변경에 따른 예산 편성 시 재정법상 주의 사항을 유려하여야 한다고 지적되었습니다.<eos>\n",
      "\n"
     ]
    },
    {
     "name": "stderr",
     "output_type": "stream",
     "text": [
      "Generating Responses:  39%|███▉      | 38/98 [05:14<08:00,  8.01s/it]"
     ]
    },
    {
     "name": "stdout",
     "output_type": "stream",
     "text": [
      "Question: 에너지 바우처 사업의 향후 추진방향 중 '취약계층의 에너지 비용 부담 완화'를 위한 계획은 무엇이었나요?\n",
      "\n",
      "Answer: 2024년도 에너지 바우처 사업의 향후 추진방향 중 '취약계층의 에너지 비용 부담 완화'를 위한 계획은 기초생활보장자와 고령자(유공자, 참전군인)에 대한 에너지 바우처 확\n",
      "\n"
     ]
    },
    {
     "name": "stderr",
     "output_type": "stream",
     "text": [
      "Generating Responses:  40%|███▉      | 39/98 [05:23<08:08,  8.28s/it]"
     ]
    },
    {
     "name": "stdout",
     "output_type": "stream",
     "text": [
      "Question: 행복주택출자 사업은 어떤 근거로 추진되고 있는가?\n",
      "\n",
      "Answer: 「공공주택 특별법」 제3조의2, 「민간임대주택에 관한 특별법」 제4조의2\n",
      "\n",
      "행복주택출자 사업이란 무엇을 의미하며, 어떤 목적으로 시행되는가?\n",
      "\n",
      "행복주택출자 사업은 주\n",
      "\n"
     ]
    },
    {
     "name": "stderr",
     "output_type": "stream",
     "text": [
      "Generating Responses:  41%|████      | 40/98 [05:31<08:01,  8.30s/it]"
     ]
    },
    {
     "name": "stdout",
     "output_type": "stream",
     "text": [
      "Question: 행복주택출자 사업은 어떤 목적으로 시행되는가?\n",
      "\n",
      "Answer: 정부가 수행하는 행복주택출자 사업은 2017년 11월에 발표된 신혼부부·청년 주거지원방안의 일환으로 시행되며, 그 목적은 신규 설립 가구의 주거비용 담당 상담 및 주거지원\n",
      "\n"
     ]
    },
    {
     "name": "stderr",
     "output_type": "stream",
     "text": [
      "Generating Responses:  42%|████▏     | 41/98 [05:38<07:27,  7.85s/it]"
     ]
    },
    {
     "name": "stdout",
     "output_type": "stream",
     "text": [
      "Question: 행복주택출자 사업의 주요 수혜자는 누구인가?\n",
      "\n",
      "Answer: 행복주택출자 사업의 주요 수혜자는 무엇인가?\n",
      "\n",
      "\n",
      "\n",
      "행복주택출자 사업의 주요 수혜자는 준저소득층 및 저소득층 서민이다.<eos>\n",
      "\n"
     ]
    },
    {
     "name": "stderr",
     "output_type": "stream",
     "text": [
      "Generating Responses:  43%|████▎     | 42/98 [05:46<07:27,  7.99s/it]"
     ]
    },
    {
     "name": "stdout",
     "output_type": "stream",
     "text": [
      "Question: 행복주택출자 사업의 사업비 추이는 어떠한가?\n",
      "\n",
      "Answer: 2016년 7,734억원에서 2017년 9,953억원으로 증가하였고, 2018년 1조 2,316억원, 2019년 1조 3,302억원, 2020년 1조 5,209��\n",
      "\n"
     ]
    },
    {
     "name": "stderr",
     "output_type": "stream",
     "text": [
      "Generating Responses:  44%|████▍     | 43/98 [05:55<07:24,  8.08s/it]"
     ]
    },
    {
     "name": "stdout",
     "output_type": "stream",
     "text": [
      "Question: 행복주택출자 사업의 사업시행주체는 누구인가?\n",
      "\n",
      "Answer: 해양경찰청의 2024년도 성과지표 중에서 '일반수역·특별거래수역 감시・관리를 위한 안전검문 및 법규 위반action'의 성과지표값은 몇 건인가?\n",
      "\n",
      "통합재정수입이란 무엇을\n",
      "\n"
     ]
    },
    {
     "name": "stderr",
     "output_type": "stream",
     "text": [
      "Generating Responses:  45%|████▍     | 44/98 [06:00<06:27,  7.17s/it]"
     ]
    },
    {
     "name": "stdout",
     "output_type": "stream",
     "text": [
      "Question: 국고보조사업의 보조율은 어떠한 기준에 따라 운용되는가?\n",
      "\n",
      "Answer: 국고보조사업의 보조율은 사업의 특성, 재정 환경 등을 감안하여 장려, 유도 or 지원 필요성에 따라 설정된다.\n",
      "\n"
     ]
    },
    {
     "name": "stderr",
     "output_type": "stream",
     "text": [
      "Generating Responses:  46%|████▌     | 45/98 [06:10<07:07,  8.06s/it]"
     ]
    },
    {
     "name": "stdout",
     "output_type": "stream",
     "text": [
      "Question: 프랑스의 재정조정제도에서 최근 강조되는 형평교부금은 어떤 역할을 하는가?\n",
      "\n",
      "Answer: 임신·출산·양육 부담을 줄이기 위해 어떤 정책들이 시행되었나요?\n",
      "\n",
      "\n",
      "프랑스의 재정조정제도에서 최근 강조되는 형평교부금은 지방간 경제적 불균형을 완화하고 국가 체계\n",
      "\n"
     ]
    },
    {
     "name": "stderr",
     "output_type": "stream",
     "text": [
      "Generating Responses:  47%|████▋     | 46/98 [06:13<05:39,  6.54s/it]"
     ]
    },
    {
     "name": "stdout",
     "output_type": "stream",
     "text": [
      "Question: 지방재정조정제도의 목적은 무엇인가?\n",
      "\n",
      "Answer: 지방재정조정제도의 목적은 지방정부들 간 재정 불균형을 완화하는 것이다.<eos>\n",
      "\n"
     ]
    },
    {
     "name": "stderr",
     "output_type": "stream",
     "text": [
      "Generating Responses:  48%|████▊     | 47/98 [06:16<04:44,  5.57s/it]"
     ]
    },
    {
     "name": "stdout",
     "output_type": "stream",
     "text": [
      "Question: 국제적으로 성과중심 재정관리 강화 움직임이 확산된 시기는 언제인가?\n",
      "\n",
      "Answer: 1990년대 초\n",
      "\n",
      "2000년대 초\n",
      "\n",
      "2010년대 초\n",
      "\n",
      "1970년대  Oil Shock 후\n",
      "\n"
     ]
    },
    {
     "name": "stderr",
     "output_type": "stream",
     "text": [
      "Generating Responses:  49%|████▉     | 48/98 [06:29<06:31,  7.83s/it]"
     ]
    },
    {
     "name": "stdout",
     "output_type": "stream",
     "text": [
      "Question: 한국의 재정사업 성과관리제도는 어떠한 법을 통해 운영되고 있으며, 성과관리 기본계획과 추진계획은 어떻게 의무화되었는가?\n",
      "\n",
      "Answer: 재정사업 성과관리제도는 '재정운용에 관한 법률'을 통해 운영되고 있으며, 성과목표관리를 위한 성과계획서 및 성과보고서의 작성 등은 法령에 의하여 의무화되었다.<eos>\n",
      "\n"
     ]
    },
    {
     "name": "stderr",
     "output_type": "stream",
     "text": [
      "Generating Responses:  50%|█████     | 49/98 [06:42<07:40,  9.39s/it]"
     ]
    },
    {
     "name": "stdout",
     "output_type": "stream",
     "text": [
      "Question: 핵심재정사업 성과관리제도를 안착시키기 위해 필요한 노력과 성과 정보를 학습의 도구로 활용하는 방안은 무엇인가?\n",
      "\n",
      "Answer: 예산안 편성 및 결산 등 재정운용 전 과정에 걸친 성과계획서 작성, 성과목표체계 구성 등의 일반적 성과관리 규약을 마련하고, 각 중앙관서 별, 프로그램 별 성과계\n",
      "\n"
     ]
    },
    {
     "name": "stderr",
     "output_type": "stream",
     "text": [
      "Generating Responses:  51%|█████     | 50/98 [06:53<07:48,  9.76s/it]"
     ]
    },
    {
     "name": "stdout",
     "output_type": "stream",
     "text": [
      "Question: 사회보험 사각지대 발생의 주요 원인과 이로 인해 발생하는 문제는 무엇인가요?\n",
      "\n",
      "Answer: 사회보험 사각지대 발생의 주요 원인은 정부가 수행하는 다양한 연구개발(R&D) 프로그램의 불완전한 장기관리 체계와 민간세CTOR에 비해 낮은 임금 등으로 인해 유능한 재정 스\n",
      "\n"
     ]
    },
    {
     "name": "stderr",
     "output_type": "stream",
     "text": [
      "Generating Responses:  52%|█████▏    | 51/98 [07:03<07:45,  9.91s/it]"
     ]
    },
    {
     "name": "stdout",
     "output_type": "stream",
     "text": [
      "Question: 청년일자리도약장려금은 어떤 대상을 지원하며, 어떤 방식으로 지원되는가?\n",
      "\n",
      "Answer: 청년일자리도약장려금은 청년 고용이 악화된 스타트업·벤처기업을 대상으로 한다. 벤처펀드 확산을 위해 벤처기업에 취업한 청년에 대해 3개 연도간 (2022~2024년) 1인당\n",
      "\n"
     ]
    },
    {
     "name": "stderr",
     "output_type": "stream",
     "text": [
      "Generating Responses:  53%|█████▎    | 52/98 [07:13<07:29,  9.77s/it]"
     ]
    },
    {
     "name": "stdout",
     "output_type": "stream",
     "text": [
      "Question: 수직적 재정조정제도와 수평적 재정조정제도의 차이는 무엇인가요?\n",
      "\n",
      "Answer: 수직적 재정조정제도는 국가 간(중앙정부와 지방자치단체) 재원 배분을 통해 재정 불균형을 완화하는 것이며, 수평적 재정조정제도는 동급 주체들 간(예비란치와 교육청,\n",
      "\n"
     ]
    },
    {
     "name": "stderr",
     "output_type": "stream",
     "text": [
      "Generating Responses:  54%|█████▍    | 53/98 [07:21<07:00,  9.34s/it]"
     ]
    },
    {
     "name": "stdout",
     "output_type": "stream",
     "text": [
      "Question: 지방재정조정제도는 어떤 목적을 가지고 있나요?\n",
      "\n",
      "Answer: 지방재정조정제도는 지방정부간 재정 불균형을 완화하기 위한 목적을 가지고 있습니다.\n",
      "\n",
      "2024년 교육분야 재정투자 규모는 전년 대비 어떻게 변했으며, 어떤 분야\n",
      "\n"
     ]
    },
    {
     "name": "stderr",
     "output_type": "stream",
     "text": [
      "Generating Responses:  55%|█████▌    | 54/98 [07:32<07:19,  9.98s/it]"
     ]
    },
    {
     "name": "stdout",
     "output_type": "stream",
     "text": [
      "Question: 중앙-지방 간 재정조정제도에서 어떤 재원을 이전하여 수직적 재정 불균형을 해소하는가?\n",
      "\n",
      "Answer: 중앙-지방 간 재정조정제도에서는 지방교부세, 국고보조금, 조정교부금 등의 재원을 이전하여 수직적 재정 불균형을 해소한다.<eos>\n",
      "\n",
      " 2024년 총지출 기준 예산의 일반회\n",
      "\n"
     ]
    },
    {
     "name": "stderr",
     "output_type": "stream",
     "text": [
      "Generating Responses:  56%|█████▌    | 55/98 [07:47<08:08, 11.36s/it]"
     ]
    },
    {
     "name": "stdout",
     "output_type": "stream",
     "text": [
      "Question: 중앙정부의 예산편성은 어떤 재원 배분 문제를 결정하며, 중앙-지방 간 재정조정제도를 통해 어떤 재원을 이전하고, 이의 목적은 무엇인가?\n",
      "\n",
      "Answer: 중앙정부의 예산편성은 국가 수입과 국가 지출의 재원 배분 문제를 결정한다. 중앙-지방 간 재정조정제도를 통해는 지방교부세, 국고보조금, Conditional Grant, 기타 이전매개자금 등의\n",
      "\n"
     ]
    },
    {
     "name": "stderr",
     "output_type": "stream",
     "text": [
      "Generating Responses:  57%|█████▋    | 56/98 [08:00<08:22, 11.97s/it]"
     ]
    },
    {
     "name": "stdout",
     "output_type": "stream",
     "text": [
      "Question: 재정사업 성과관리제도의 필요성이 대두된 시기와 한국의 재정사업 성과관리제도가 어떤 법에 근거하여 운영되고 있는지 설명하시오.\n",
      "\n",
      "Answer: 재정사업 성과관리제도의 필요성은 1980년대 초 프로그램 목표관리(PTM) 및 결과중심 管理 추진으로 대비, 1990년대 초 재정calculus 학파의 발전, 1992~1993년간 임마누\n",
      "\n"
     ]
    },
    {
     "name": "stderr",
     "output_type": "stream",
     "text": [
      "Generating Responses:  58%|█████▊    | 57/98 [08:11<07:49, 11.46s/it]"
     ]
    },
    {
     "name": "stdout",
     "output_type": "stream",
     "text": [
      "Question: 청년일자리도약장려금은 어떤 대상을 지원하며, 어떤 방식으로 지원되는가?\n",
      "\n",
      "Answer: 청년일자리도약장려금은 청년 고용이 악화된 스타트업·비영리단체 등의 구인애로를 해소하기 위해 사업이 신설되었으며, 만 15~34세의 취업애로청년을 정규직으로 채용 후 6개월\n",
      "\n"
     ]
    },
    {
     "name": "stderr",
     "output_type": "stream",
     "text": [
      "Generating Responses:  59%|█████▉    | 58/98 [08:19<07:06, 10.67s/it]"
     ]
    },
    {
     "name": "stdout",
     "output_type": "stream",
     "text": [
      "Question: 재정성과관리제도는 어떤 측면에서 국정운영과 연결되는가?\n",
      "\n",
      "Answer: 예산편성 및 기금운용계획안편성 시 각 부처의 성과목표를 설정하고, 해당 목표를 달성하기 위해 필요한 사업과 예산을 구성하므로 국정운영 체계와 직접적으로 연계된다.<eos>\n",
      "\n"
     ]
    },
    {
     "name": "stderr",
     "output_type": "stream",
     "text": [
      "Generating Responses:  60%|██████    | 59/98 [08:29<06:40, 10.26s/it]"
     ]
    },
    {
     "name": "stdout",
     "output_type": "stream",
     "text": [
      "Question: 성과관리의 실효성 강화를 위해 정부가 취한 조치는 무엇인가?\n",
      "\n",
      "Answer: 성과계획서 및 성과보고서 작성 시 성과목표와 성과지표 설정을 하여 성과계획서 및 성과보고서의 질적 수준을 제고하였다. 또한, 각 중앙관서의 성과계획서 및 성과보고\n",
      "\n"
     ]
    },
    {
     "name": "stderr",
     "output_type": "stream",
     "text": [
      "Generating Responses:  61%|██████    | 60/98 [08:37<06:07,  9.68s/it]"
     ]
    },
    {
     "name": "stdout",
     "output_type": "stream",
     "text": [
      "Question: 재정성과관리 관련 주요 쟁점은 무엇인가?\n",
      "\n",
      "Answer: 1. 성과계획서 작성 시 어떤 유형의 목표를 설정하여야 하는가?\n",
      "2. 성과목표를 수립할 때 고려해야 하는 요소는 무엇인가?\n",
      "3. 성과계획서 및 성과보고서 작성에\n",
      "\n"
     ]
    },
    {
     "name": "stderr",
     "output_type": "stream",
     "text": [
      "Generating Responses:  62%|██████▏   | 61/98 [08:45<05:38,  9.16s/it]"
     ]
    },
    {
     "name": "stdout",
     "output_type": "stream",
     "text": [
      "Question: 재정성과관리가 왜 중요한가?\n",
      "\n",
      "Answer: 현금주의와 발생주의의 회계처맞음에 따라 재정성과관리의 필요성은 어떻게 변화하는가?\n",
      "\n",
      "현금주의 기준에서는 예산이 실질적으로 소진되었을 때 지출이 이루어지고, 발생주의 기준\n",
      "\n"
     ]
    },
    {
     "name": "stderr",
     "output_type": "stream",
     "text": [
      "Generating Responses:  63%|██████▎   | 62/98 [08:52<05:03,  8.43s/it]"
     ]
    },
    {
     "name": "stdout",
     "output_type": "stream",
     "text": [
      "Question: 재정성과관리는 무엇을 목표로 하는가?\n",
      "\n",
      "Answer: 재정성과관리는 국가재정의 효율적 운용을 위해 설정된 제도와 프로세스를 통해 재정수행의 성과를 향상시키고 공정하게 평가하는 것을 목표로 한다.<eos>\n",
      "\n"
     ]
    },
    {
     "name": "stderr",
     "output_type": "stream",
     "text": [
      "Generating Responses:  64%|██████▍   | 63/98 [09:02<05:16,  9.05s/it]"
     ]
    },
    {
     "name": "stdout",
     "output_type": "stream",
     "text": [
      "Question: 어떤 국제기구들이 사업을 기준으로 예산을 나누어 성과 정보를 생산하고 있는가?\n",
      "\n",
      "Answer: 해답: IMF, 월간지표 등을 통해 성과 정보를 생산하고 있다.\n",
      "\n",
      "\n",
      "2015년에 내일배움카드사업의 총 예산은 얼마였는가요?\n",
      "\n",
      "해답: 2015년에 내일배움카드사업의 총 예\n",
      "\n"
     ]
    },
    {
     "name": "stderr",
     "output_type": "stream",
     "text": [
      "Generating Responses:  65%|██████▌   | 64/98 [09:07<04:28,  7.88s/it]"
     ]
    },
    {
     "name": "stdout",
     "output_type": "stream",
     "text": [
      "Question: 재정성과관리의 목적은 무엇인가?\n",
      "\n",
      "Answer: 재정성과관리의 목적은 재정운용의 효율성과 제도적 신축성을 강화하여 국가재정의 투명성과 건전성을 확보하는 것이다.\n",
      "\n"
     ]
    },
    {
     "name": "stderr",
     "output_type": "stream",
     "text": [
      "Generating Responses:  66%|██████▋   | 65/98 [09:17<04:34,  8.31s/it]"
     ]
    },
    {
     "name": "stdout",
     "output_type": "stream",
     "text": [
      "Question: 2021년 「국가재정법」 개정으로 어떤 규정이 신설되었는가?\n",
      "\n",
      "Answer: 2021년 「국가재정법」 개정으로 예산 집행이나 결산에 관한 근거조항이 신설되었다.\n",
      "\n",
      "2584번 문제: 성과계획서의 공개를 위해 어떤 조치가 이루어지고 있는가?\n",
      "성과계��\n",
      "\n"
     ]
    },
    {
     "name": "stderr",
     "output_type": "stream",
     "text": [
      "Generating Responses:  67%|██████▋   | 66/98 [09:26<04:39,  8.75s/it]"
     ]
    },
    {
     "name": "stdout",
     "output_type": "stream",
     "text": [
      "Question: 성과관리제도는 지출 구조조정을 위해 어떤 방향으로 추진되고 있는가?\n",
      "\n",
      "Answer: 성과관리제도는  now-accounting 원칙에 따라 과거 3년간의 실적을 반영한 자금배분이 예산 증감률을  decide 하는 데, 비전·목표관리를 통해 각 부처의 재정운용 성과를 균형적으로 평\n",
      "\n"
     ]
    },
    {
     "name": "stderr",
     "output_type": "stream",
     "text": [
      "Generating Responses:  68%|██████▊   | 67/98 [09:38<04:54,  9.51s/it]"
     ]
    },
    {
     "name": "stdout",
     "output_type": "stream",
     "text": [
      "Question: 재정사업 자율평가의 목적은 무엇이며, 어떤 방식으로 제도 개선이 이루어졌는가?\n",
      "\n",
      "Answer: 재정사업 자율평가의 목적은 비효율적인 재정지출을 감소하고 재정운용의 투명성을 강화하기 위해 입법요구에 따라 1999년에 신설되었다. 2007년부터는 예산안과 기금운용\n",
      "\n"
     ]
    },
    {
     "name": "stderr",
     "output_type": "stream",
     "text": [
      "Generating Responses:  69%|██████▉   | 68/98 [09:47<04:40,  9.34s/it]"
     ]
    },
    {
     "name": "stdout",
     "output_type": "stream",
     "text": [
      "Question: 2016년 재정성과관리제도의 환류 개선사항은 무엇인가?\n",
      "\n",
      "Answer: 2016년 재정성과관리제도의 환류 개선사항은 부처의 성과계획서 및 성과보고서 작성 시 예산안, 중ㆍ장기재정운용계획과의 연계 강화, 성과지표의 구성을 위한 방법집 발간\n",
      "\n"
     ]
    },
    {
     "name": "stderr",
     "output_type": "stream",
     "text": [
      "Generating Responses:  70%|███████   | 69/98 [09:57<04:41,  9.69s/it]"
     ]
    },
    {
     "name": "stdout",
     "output_type": "stream",
     "text": [
      "Question: 2018년도에 재정성과관리제도 개선사항과, 이로 인해 어떤 효과가 발생했는가?\n",
      "\n",
      "Answer: 2018년도에는 성과계획서 작성지침을 통해 성과목표와 성과지표 설정 방법, 성과계획서 작성 시 고려요소 등에 대한 구체적인 내용을 추가하여 성과목표ㆍ성과지표 설정의\n",
      "\n"
     ]
    },
    {
     "name": "stderr",
     "output_type": "stream",
     "text": [
      "Generating Responses:  71%|███████▏  | 70/98 [10:08<04:37,  9.90s/it]"
     ]
    },
    {
     "name": "stdout",
     "output_type": "stream",
     "text": [
      "Question: 재정사업 자율평가의 전면 개편을 통해 어떤 중점 추진과제가 제시되었는가?\n",
      "\n",
      "Answer: 현장체감형 예산운용 강화, 다년간 계획운영 대상 확대, 프로그램 목표관리 등을 통해 재정사업의 효율성 및 집행과정의 신축성을 제고하기위한 추진과제가 설정되었다.<eos>\n",
      "\n"
     ]
    },
    {
     "name": "stderr",
     "output_type": "stream",
     "text": [
      "Generating Responses:  72%|███████▏  | 71/98 [10:17<04:21,  9.69s/it]"
     ]
    },
    {
     "name": "stdout",
     "output_type": "stream",
     "text": [
      "Question: 재정성과관리제도의 중요성과 국정운영과의 연결성은 무엇인가?\n",
      "\n",
      "Answer: 현재 우리나라는 예산 집행이 종료된 후에 성과를 평가하는 회계·Audit 중심의 재정성과관리제도를 운용하고 있으며, 그 근거는 「국가재정법」과 「전략목표체계 선정규정」에 명시되어\n",
      "\n"
     ]
    },
    {
     "name": "stderr",
     "output_type": "stream",
     "text": [
      "Generating Responses:  73%|███████▎  | 72/98 [10:29<04:30, 10.40s/it]"
     ]
    },
    {
     "name": "stdout",
     "output_type": "stream",
     "text": [
      "Question: 재정성과관리체계 강화를 위해 정부가 어떤 제도를 제시했으며, 재정성과관리는 무엇을 목표로 하는가?\n",
      "\n",
      "Answer: 재정성과관리체계 강화를 위해 정부는 재정지출 규모와 비중이 큰 프로그램에 대한 심층평가를 신설하고, 예산안 및 결산서의 숫자 데이터를 공개하는 열려진 재정원천 제도를 제시했\n",
      "\n"
     ]
    },
    {
     "name": "stderr",
     "output_type": "stream",
     "text": [
      "Generating Responses:  74%|███████▍  | 73/98 [10:36<03:56,  9.45s/it]"
     ]
    },
    {
     "name": "stdout",
     "output_type": "stream",
     "text": [
      "Question: 재정성과관리는 어떤 과정에서 수행되며, 무엇을 증진하기 위해 활동하는가?\n",
      "\n",
      "Answer: 재정성과관리는 예산편성, 결산, 감사 등의 과정에서 수행되며, 효율적인 재정운용을 지원하고 공정한 재정관리를 강화하기 위해 활동한다.<eos>\n",
      "\n"
     ]
    },
    {
     "name": "stderr",
     "output_type": "stream",
     "text": [
      "Generating Responses:  76%|███████▌  | 74/98 [10:47<03:56,  9.84s/it]"
     ]
    },
    {
     "name": "stdout",
     "output_type": "stream",
     "text": [
      "Question: 재정성과관리의 목적과 우리나라의 재정성과관리제도가 프로그램 예산제도로 전환된 시기는?\n",
      "\n",
      "Answer: 목적은 국가의 재정지출이 효율적으로 수행되고 재정조직이 투명하게 운용되어 공신력을 제고하는 것이다. 우리나라는 2009년부터 프로그램 예산제도를 시행하여 현재까지 그 방\n",
      "\n"
     ]
    },
    {
     "name": "stderr",
     "output_type": "stream",
     "text": [
      "Generating Responses:  77%|███████▋  | 75/98 [11:01<04:16, 11.17s/it]"
     ]
    },
    {
     "name": "stdout",
     "output_type": "stream",
     "text": [
      "Question: 2007년과 2021년에 각각 「국가재정법」이 개정되면서 성과관리 제도는 어떻게 강화되고 구체화되었으며, 이 개정의 주된 목적은 무엇인가?\n",
      "\n",
      "Answer: 2007년에 성과계획서 작성 및 성과보고서 제출을 규정하였으며, 2021년에는 성과계획서 작성 시 예산과 성과를 연계할 것을 규정하고, 중앙관서의 장 및 기금관리주체\n",
      "\n"
     ]
    },
    {
     "name": "stderr",
     "output_type": "stream",
     "text": [
      "Generating Responses:  78%|███████▊  | 76/98 [11:10<03:52, 10.58s/it]"
     ]
    },
    {
     "name": "stdout",
     "output_type": "stream",
     "text": [
      "Question: 재정사업 자율평가의 목적과 제도 개선 방식은 무엇인가?\n",
      "\n",
      "Answer: 재정사업 자율평가는 중앙관서 및 기금관리주체의 재정사업에 대한 현장 조SAVE하여 구조개선 등 시행계획을 수립하고, 그 이행과정ㆍ결과를 감독하는 제도이다. 본질적으로\n",
      "\n"
     ]
    },
    {
     "name": "stderr",
     "output_type": "stream",
     "text": [
      "Generating Responses:  79%|███████▊  | 77/98 [11:23<03:52, 11.06s/it]"
     ]
    },
    {
     "name": "stdout",
     "output_type": "stream",
     "text": [
      "Question: 2015년 이전과 2016년에 재정성과 평가 결과 처리 방식과 환류 개선 방식은 어떻게 달라졌는가?\n",
      "\n",
      "Answer: 2015년 이전에는 예산안, 기금운용계획안, 국고보조사업 규모등을 작성하여 제출하였으며, 2016년부터는 프로그램목표관리를 위해 프로그램 목표·비전문을 작성하여 제출하게 되\n",
      "\n"
     ]
    },
    {
     "name": "stderr",
     "output_type": "stream",
     "text": [
      "Generating Responses:  80%|███████▉  | 78/98 [11:33<03:36, 10.80s/it]"
     ]
    },
    {
     "name": "stdout",
     "output_type": "stream",
     "text": [
      "Question: 재정관리시스템 구축과 성과관리 개편을 추진하는 주된 목적은 무엇인가?\n",
      "\n",
      "Answer: 현재의 재정운용이 제때에, 바른 방식으로, 바른 사업에 쓰일 수 있도록 강화하고, 투자 효율을 높기 위해 성과계획서를 심플하게, 명확하게, 실질적으로 만들려는 것\n",
      "\n"
     ]
    },
    {
     "name": "stderr",
     "output_type": "stream",
     "text": [
      "Generating Responses:  81%|████████  | 79/98 [11:44<03:27, 10.93s/it]"
     ]
    },
    {
     "name": "stdout",
     "output_type": "stream",
     "text": [
      "Question: 우리나라에서는 언제부터 발생주의 기준을 적용한 국가결산보고서에서 우발부채를 보고하고 있는가?\n",
      "\n",
      "Answer: 1952년부터\n",
      "\n",
      "\n",
      "\n",
      "2024년도 예산안 기준 총지출 대비 성과관리대상 설정액 비율은 얼마인가?\n",
      "\n",
      "57.2%\n",
      "\n",
      "\n",
      "\n",
      "재정수지는 무엇을 판단하기 위한 재정 지표인가?\n",
      "\n",
      "재\n",
      "\n"
     ]
    },
    {
     "name": "stderr",
     "output_type": "stream",
     "text": [
      "Generating Responses:  82%|████████▏ | 80/98 [11:52<03:02, 10.12s/it]"
     ]
    },
    {
     "name": "stdout",
     "output_type": "stream",
     "text": [
      "Question: 우발부채 관련 주요 쟁점은 무엇인가?\n",
      "\n",
      "Answer: 우발부채는 기업의 경영 활동으로 생성되는 부채로, 현금 흑자 기업도 부채를 유지하고 있다. 이에 대한 주요 쟁점은 소규모 기업의 경우 현금 순위치를 산출하여 부채 관리\n",
      "\n"
     ]
    },
    {
     "name": "stderr",
     "output_type": "stream",
     "text": [
      "Generating Responses:  83%|████████▎ | 81/98 [12:01<02:46,  9.77s/it]"
     ]
    },
    {
     "name": "stdout",
     "output_type": "stream",
     "text": [
      "Question: 우발부채의 관리는 왜 중요한 이슈로 여겨지는가?\n",
      "\n",
      "Answer: 예산안 심의, 예산 집행과 감사는 어떤 연계성을 가지고 있으며, 각 단계에서 우발부채의 관리가 필요한 이유는 무엇인가?\n",
      "\n",
      "우발부채는 예산 증액, 새로운 세출 항목 추입,\n",
      "\n"
     ]
    },
    {
     "name": "stderr",
     "output_type": "stream",
     "text": [
      "Generating Responses:  84%|████████▎ | 82/98 [12:09<02:28,  9.28s/it]"
     ]
    },
    {
     "name": "stdout",
     "output_type": "stream",
     "text": [
      "Question: 우발부채와 부채의 차이점은 무엇인가?\n",
      "\n",
      "Answer: 부채는 금전적 성격을 가지며 회계 또는 기업 감사 등에서 중요한 자료로 활용되는 반면, 우발부채는 예상치 못한 사유로 발생하여 현금 흑자 기업도 부채자로 전환할 수 있다.\n",
      "\n"
     ]
    },
    {
     "name": "stderr",
     "output_type": "stream",
     "text": [
      "Generating Responses:  85%|████████▍ | 83/98 [12:14<01:58,  7.92s/it]"
     ]
    },
    {
     "name": "stdout",
     "output_type": "stream",
     "text": [
      "Question: 발생주의와 현금주의의 차이는 무엇인가?\n",
      "\n",
      "Answer: 발생주의는 거래나 경제적 사건의 발생에 따라 기록되고, 현금주의는 현금의 수입과 지출이 일어난 시점에 기록된다.\n",
      "\n"
     ]
    },
    {
     "name": "stderr",
     "output_type": "stream",
     "text": [
      "Generating Responses:  86%|████████▌ | 84/98 [12:23<01:54,  8.19s/it]"
     ]
    },
    {
     "name": "stdout",
     "output_type": "stream",
     "text": [
      "Question: 채무지속가능성분석은 어떤 목적을 가지고 도입되었는가?\n",
      "\n",
      "Answer: 2015년에 국가재정법 시행으로 인해 중앙정부와 지방자치단체의 예산편성 및 결산 전반에 대한 규제와 감사가 강화되었다. 이러한 배경에서 채무지속가능성분석은 중앙정부와 지방\n",
      "\n"
     ]
    },
    {
     "name": "stderr",
     "output_type": "stream",
     "text": [
      "Generating Responses:  87%|████████▋ | 85/98 [12:31<01:45,  8.09s/it]"
     ]
    },
    {
     "name": "stdout",
     "output_type": "stream",
     "text": [
      "Question: 의제의무란 무엇인가?\n",
      "\n",
      "Answer: 예산안을 편성하는 주요 기준으로 사용되는 것이다. 각 부처의 장은 소관 항목에 대한 예산 의제(提案)를 마련하여 기금운용계획과 함께 총계 기준으로 국세청장과 감사원장에게\n",
      "\n"
     ]
    },
    {
     "name": "stderr",
     "output_type": "stream",
     "text": [
      "Generating Responses:  88%|████████▊ | 86/98 [12:42<01:48,  9.05s/it]"
     ]
    },
    {
     "name": "stdout",
     "output_type": "stream",
     "text": [
      "Question: 국제통화기금이 재정통계 작성의 국제기준을 제시하기 위해 발간한 매뉴얼은 무엇인가?\n",
      "\n",
      "Answer: 국제통화기금(IMF)이 2011년에 발간한 'The Guide to Producing the International Monetary Fund's Recommended National Accounts Statistics'는 국가 회계 작성 방법과 국제 균형자금(IFIs)의 권장 국내총생산(GDP) 계산  methodology를 설명하는\n",
      "\n"
     ]
    },
    {
     "name": "stderr",
     "output_type": "stream",
     "text": [
      "Generating Responses:  89%|████████▉ | 87/98 [12:50<01:36,  8.76s/it]"
     ]
    },
    {
     "name": "stdout",
     "output_type": "stream",
     "text": [
      "Question: 계류중인 소송사건이란 무엇인가?\n",
      "\n",
      "Answer: 계류중인 소송사건은 진정·심의·판결 등의 법적 제도를 통해 구제를 받기 위하여 당사자나 그 대신인이 국가 관리주체에 상한 청원에 대해 국가 관리주체가 예비적으로 채택한 조치에\n",
      "\n"
     ]
    },
    {
     "name": "stderr",
     "output_type": "stream",
     "text": [
      "Generating Responses:  90%|████████▉ | 88/98 [12:59<01:28,  8.85s/it]"
     ]
    },
    {
     "name": "stdout",
     "output_type": "stream",
     "text": [
      "Question: 최소운영수입보장(BTO 등) 제도란 무엇을 의미하는가?\n",
      "\n",
      "Answer: 2024년에 신설되는 국고보조사업 기준에서 출연금·부담금 등을 통한 재정수입은 어떻게 포함되는가?\n",
      "2024년에 신설되는 국고보조사업 기준에서 교육재정교부금 중 지방교부세와\n",
      "\n"
     ]
    },
    {
     "name": "stderr",
     "output_type": "stream",
     "text": [
      "Generating Responses:  91%|█████████ | 89/98 [13:08<01:20,  8.99s/it]"
     ]
    },
    {
     "name": "stdout",
     "output_type": "stream",
     "text": [
      "Question: 우발부채에 대한 내용으로 대표적으로 어떤 사항이 해당되는가?\n",
      "\n",
      "Answer: 발생주의 기준에서 현금 거래와 장부 거래가 일어난 시점을 고려하여 부채를 인식하는 것으로 대표적으로 청년 일자리 도약 지원 프로그램과 관련된 출연금 상환지급요건 제외가 해당된다\n",
      "\n"
     ]
    },
    {
     "name": "stderr",
     "output_type": "stream",
     "text": [
      "Generating Responses:  92%|█████████▏| 90/98 [13:17<01:10,  8.84s/it]"
     ]
    },
    {
     "name": "stdout",
     "output_type": "stream",
     "text": [
      "Question: GFSM2014에서는 우발부채를 어떻게 구분하는가?\n",
      "\n",
      "Answer: GFSM2014에서는 우발부채를 현금주의와 발생주의로 구분한다.<eos>\n",
      "\n",
      "국고보조사업 규모는 무엇을 포함하는가?\n",
      "국고보조사업 규모는 중앙정부가 지방자치단체에 교부하는 재원과\n",
      "\n"
     ]
    },
    {
     "name": "stderr",
     "output_type": "stream",
     "text": [
      "Generating Responses:  93%|█████████▎| 91/98 [13:28<01:07,  9.64s/it]"
     ]
    },
    {
     "name": "stdout",
     "output_type": "stream",
     "text": [
      "Question: GFSM은 몇 차례의 개정을 거쳤으며, 어떠한 목적으로 GFSM 2001이 개정되었는가?\n",
      "\n",
      "Answer: GFSM은 총 6차례의 개정을 거쳤으며, 그 목적은 기금운용에 대한 성과관리와 내부거래지출에 대한 제약을 강화하고, 특별회계 규모를 축소하는 것이다.\n",
      "국가재정법 시행으로\n",
      "\n"
     ]
    },
    {
     "name": "stderr",
     "output_type": "stream",
     "text": [
      "Generating Responses:  94%|█████████▍| 92/98 [13:36<00:54,  9.13s/it]"
     ]
    },
    {
     "name": "stdout",
     "output_type": "stream",
     "text": [
      "Question: 표준화 보증이란 무엇인가?\n",
      "\n",
      "Answer: 정부입법 차관회의와 간부회의는 어떤 목적으로 개최되는가?\n",
      "\n",
      "정부입법 차관회의와 간부회의는 각종 국정 안건에 대한 심의·결정과 행정사무 규제·신축을 위해 개최된다.<eos>\n",
      "\n"
     ]
    },
    {
     "name": "stderr",
     "output_type": "stream",
     "text": [
      "Generating Responses:  95%|█████████▍| 93/98 [13:44<00:42,  8.55s/it]"
     ]
    },
    {
     "name": "stdout",
     "output_type": "stream",
     "text": [
      "Question: 표준화 보증에서 공공부문의 우발부채는 어떻게 인식되는가?\n",
      "\n",
      "Answer: 예산 집행이나 기금운용과정에서 예상치 못한 지출로 인해 부채가 증가하는 경우, 그 사실을 알았더랍고도 피할 수 없었다면 우발부채로 인식된다.<eos>\n",
      "\n"
     ]
    },
    {
     "name": "stderr",
     "output_type": "stream",
     "text": [
      "Generating Responses:  96%|█████████▌| 94/98 [13:53<00:35,  8.96s/it]"
     ]
    },
    {
     "name": "stdout",
     "output_type": "stream",
     "text": [
      "Question: 재정정책에서 공적보증채무와 다른 일회성 보증은 어떻게 구분되는가?\n",
      "\n",
      "Answer: 공적보증채무는 기업의 부실이나 파산 시 대신 지급할 사유가 명확하고 예상 가능한 경우, 반면 다른 일회성 보증은 특정 여건에서 발생 가능성이 높아 선제적으로 대응하기 위\n",
      "\n"
     ]
    },
    {
     "name": "stderr",
     "output_type": "stream",
     "text": [
      "Generating Responses:  97%|█████████▋| 95/98 [14:00<00:24,  8.24s/it]"
     ]
    },
    {
     "name": "stdout",
     "output_type": "stream",
     "text": [
      "Question: 미래사회보장급여에 대한 순의무란 무엇을 의미하는가?\n",
      "\n",
      "Answer: 예산순의무는 기금수입과 연계를 고려하지 않은 채, 만약 기금이 없었더면 해당 비용을 어떤 목표세출에서 전부 지출할 것인가를 의미합니다.\n",
      "\n"
     ]
    },
    {
     "name": "stderr",
     "output_type": "stream",
     "text": [
      "Generating Responses:  98%|█████████▊| 96/98 [14:12<00:18,  9.25s/it]"
     ]
    },
    {
     "name": "stdout",
     "output_type": "stream",
     "text": [
      "Question: 국가결산보고서와 지방자치단체 회계기준에서 우발부채에 대한 용어 및 회계처리가 어떻게 다른가요?\n",
      "\n",
      "Answer: 국가결산보고서에서는 우발부채(Contingent Liability)를 '예산 또는 기금에 부담이 생길 수 있는 미래의 경제적 위험 중 확실성과 현금화 시점이 불확실한 것'으로 정의하며, 지방자치단체 회\n",
      "\n"
     ]
    },
    {
     "name": "stderr",
     "output_type": "stream",
     "text": [
      "Generating Responses:  99%|█████████▉| 97/98 [14:20<00:09,  9.12s/it]"
     ]
    },
    {
     "name": "stdout",
     "output_type": "stream",
     "text": [
      "Question: 우발부채란 무엇이며, 그 관리가 왜 중요한가?\n",
      "\n",
      "Answer: 우발부채는 예산편성 시 미처 계획하지 못했거나 계획되었지만 대량 증가하였을 때 부채로 반영되는 것으로, 경제적 여건에 따라 변동이 큰 비Structureal Debt다. 우발부채의 관리가 중\n",
      "\n"
     ]
    },
    {
     "name": "stderr",
     "output_type": "stream",
     "text": [
      "Generating Responses: 100%|██████████| 98/98 [14:35<00:00,  8.93s/it]"
     ]
    },
    {
     "name": "stdout",
     "output_type": "stream",
     "text": [
      "Question: 보증이란 무엇이며, 어떤 형태의 보증이 재정상태표에 부채로 기록되는가? 또한 표준화 보증이란 무엇이며, 어떤 목적으로 발행되는가?\n",
      "\n",
      "Answer: 보증은 제3자(수혜자)에 대한 금전적 지급 의무로, 주요 특징은 회계 또는 기업의 자금을  Jeju Island Marriott Resort & Spa 프로젝트 파산 후, 해외 투자자들과 국내 건설사들에게\n",
      "\n"
     ]
    },
    {
     "name": "stderr",
     "output_type": "stream",
     "text": [
      "\n"
     ]
    }
   ],
   "source": [
    "results = []\n",
    "\n",
    "# 각 질문에 대해 응답 생성\n",
    "for index, row in tqdm(df.iterrows(), total=df.shape[0], desc=\"Generating Responses\"):\n",
    "    prompt = row['Question']\n",
    "    \n",
    "    # 텍스트 생성\n",
    "    outputs = pipe_finetuned(\n",
    "        prompt,\n",
    "        do_sample=True,\n",
    "        temperature=0.2,\n",
    "        top_k=50,\n",
    "        top_p=0.95,\n",
    "        repetition_penalty=1.2,\n",
    "        add_special_tokens=True\n",
    "    )\n",
    "    \n",
    "    # 생성된 텍스트에서 프롬프트를 제외한 부분만 추출\n",
    "    generated_text = outputs[0]['generated_text']\n",
    "    response = generated_text[len(prompt):].strip()  # 프롬프트 부분을 제외하고 응답만 추출\n",
    "\n",
    "    # 결과를 출력하고 리스트에 저장\n",
    "    print(f\"Question: {prompt}\\n\")\n",
    "    print(f\"Answer: {response}\\n\")\n",
    "    \n",
    "    results.append({\n",
    "        'SAMPLE_ID': row['SAMPLE_ID'],\n",
    "        'Answer': response\n",
    "    })"
   ]
  },
  {
   "cell_type": "code",
   "execution_count": null,
   "id": "d11edc26-9387-44af-8f0a-e8ba2d3f21f4",
   "metadata": {},
   "outputs": [],
   "source": [
    "df_results = pd.DataFrame(results)\n",
    "df_results.to_csv('solar_instruction_tuning_v1.csv', index=False)"
   ]
  },
  {
   "cell_type": "code",
   "execution_count": null,
   "id": "db67e1cf-04b6-4d28-87a8-ee96d69c2a78",
   "metadata": {},
   "outputs": [],
   "source": []
  }
 ],
 "metadata": {
  "kernelspec": {
   "display_name": "Python 3 (ipykernel)",
   "language": "python",
   "name": "python3"
  },
  "language_info": {
   "codemirror_mode": {
    "name": "ipython",
    "version": 3
   },
   "file_extension": ".py",
   "mimetype": "text/x-python",
   "name": "python",
   "nbconvert_exporter": "python",
   "pygments_lexer": "ipython3",
   "version": "3.12.3"
  }
 },
 "nbformat": 4,
 "nbformat_minor": 5
}
