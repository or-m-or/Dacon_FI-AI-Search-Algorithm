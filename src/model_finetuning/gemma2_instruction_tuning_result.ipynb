{
 "cells": [
  {
   "cell_type": "code",
   "execution_count": 2,
   "id": "25b9dd5c-36a9-49df-b6c0-96a61c484890",
   "metadata": {},
   "outputs": [
    {
     "name": "stdout",
     "output_type": "stream",
     "text": [
      "\u001b[33mWARNING: Running pip as the 'root' user can result in broken permissions and conflicting behaviour with the system package manager. It is recommended to use a virtual environment instead: https://pip.pypa.io/warnings/venv\u001b[0m\u001b[33m\n",
      "\u001b[0m\n",
      "\u001b[1m[\u001b[0m\u001b[34;49mnotice\u001b[0m\u001b[1;39;49m]\u001b[0m\u001b[39;49m A new release of pip is available: \u001b[0m\u001b[31;49m23.3.1\u001b[0m\u001b[39;49m -> \u001b[0m\u001b[32;49m24.2\u001b[0m\n",
      "\u001b[1m[\u001b[0m\u001b[34;49mnotice\u001b[0m\u001b[1;39;49m]\u001b[0m\u001b[39;49m To update, run: \u001b[0m\u001b[32;49mpython -m pip install --upgrade pip\u001b[0m\n",
      "\u001b[33mWARNING: Running pip as the 'root' user can result in broken permissions and conflicting behaviour with the system package manager. It is recommended to use a virtual environment instead: https://pip.pypa.io/warnings/venv\u001b[0m\u001b[33m\n",
      "\u001b[0m\n",
      "\u001b[1m[\u001b[0m\u001b[34;49mnotice\u001b[0m\u001b[1;39;49m]\u001b[0m\u001b[39;49m A new release of pip is available: \u001b[0m\u001b[31;49m23.3.1\u001b[0m\u001b[39;49m -> \u001b[0m\u001b[32;49m24.2\u001b[0m\n",
      "\u001b[1m[\u001b[0m\u001b[34;49mnotice\u001b[0m\u001b[1;39;49m]\u001b[0m\u001b[39;49m To update, run: \u001b[0m\u001b[32;49mpython -m pip install --upgrade pip\u001b[0m\n",
      "\u001b[33mWARNING: Running pip as the 'root' user can result in broken permissions and conflicting behaviour with the system package manager. It is recommended to use a virtual environment instead: https://pip.pypa.io/warnings/venv\u001b[0m\u001b[33m\n",
      "\u001b[0m\n",
      "\u001b[1m[\u001b[0m\u001b[34;49mnotice\u001b[0m\u001b[1;39;49m]\u001b[0m\u001b[39;49m A new release of pip is available: \u001b[0m\u001b[31;49m23.3.1\u001b[0m\u001b[39;49m -> \u001b[0m\u001b[32;49m24.2\u001b[0m\n",
      "\u001b[1m[\u001b[0m\u001b[34;49mnotice\u001b[0m\u001b[1;39;49m]\u001b[0m\u001b[39;49m To update, run: \u001b[0m\u001b[32;49mpython -m pip install --upgrade pip\u001b[0m\n",
      "\u001b[33mWARNING: Running pip as the 'root' user can result in broken permissions and conflicting behaviour with the system package manager. It is recommended to use a virtual environment instead: https://pip.pypa.io/warnings/venv\u001b[0m\u001b[33m\n",
      "\u001b[0m\n",
      "\u001b[1m[\u001b[0m\u001b[34;49mnotice\u001b[0m\u001b[1;39;49m]\u001b[0m\u001b[39;49m A new release of pip is available: \u001b[0m\u001b[31;49m23.3.1\u001b[0m\u001b[39;49m -> \u001b[0m\u001b[32;49m24.2\u001b[0m\n",
      "\u001b[1m[\u001b[0m\u001b[34;49mnotice\u001b[0m\u001b[1;39;49m]\u001b[0m\u001b[39;49m To update, run: \u001b[0m\u001b[32;49mpython -m pip install --upgrade pip\u001b[0m\n",
      "\u001b[33mWARNING: Running pip as the 'root' user can result in broken permissions and conflicting behaviour with the system package manager. It is recommended to use a virtual environment instead: https://pip.pypa.io/warnings/venv\u001b[0m\u001b[33m\n",
      "\u001b[0m\n",
      "\u001b[1m[\u001b[0m\u001b[34;49mnotice\u001b[0m\u001b[1;39;49m]\u001b[0m\u001b[39;49m A new release of pip is available: \u001b[0m\u001b[31;49m23.3.1\u001b[0m\u001b[39;49m -> \u001b[0m\u001b[32;49m24.2\u001b[0m\n",
      "\u001b[1m[\u001b[0m\u001b[34;49mnotice\u001b[0m\u001b[1;39;49m]\u001b[0m\u001b[39;49m To update, run: \u001b[0m\u001b[32;49mpython -m pip install --upgrade pip\u001b[0m\n",
      "\u001b[33mWARNING: Running pip as the 'root' user can result in broken permissions and conflicting behaviour with the system package manager. It is recommended to use a virtual environment instead: https://pip.pypa.io/warnings/venv\u001b[0m\u001b[33m\n",
      "\u001b[0m\n",
      "\u001b[1m[\u001b[0m\u001b[34;49mnotice\u001b[0m\u001b[1;39;49m]\u001b[0m\u001b[39;49m A new release of pip is available: \u001b[0m\u001b[31;49m23.3.1\u001b[0m\u001b[39;49m -> \u001b[0m\u001b[32;49m24.2\u001b[0m\n",
      "\u001b[1m[\u001b[0m\u001b[34;49mnotice\u001b[0m\u001b[1;39;49m]\u001b[0m\u001b[39;49m To update, run: \u001b[0m\u001b[32;49mpython -m pip install --upgrade pip\u001b[0m\n"
     ]
    }
   ],
   "source": [
    "!pip3 install -q -U transformers\n",
    "!pip3 install -q -U datasets\n",
    "!pip3 install -q -U bitsandbytes\n",
    "!pip3 install -q -U peft\n",
    "!pip3 install -q -U trl\n",
    "!pip3 install -q -U accelerate"
   ]
  },
  {
   "cell_type": "code",
   "execution_count": 3,
   "id": "92a0dd5f-54d1-4ac6-9c1d-daf3f75d9e51",
   "metadata": {},
   "outputs": [
    {
     "data": {
      "application/vnd.jupyter.widget-view+json": {
       "model_id": "18ea3fee18bf45f48a2cae10d94b9a4c",
       "version_major": 2,
       "version_minor": 0
      },
      "text/plain": [
       "VBox(children=(HTML(value='<center> <img\\nsrc=https://huggingface.co/front/assets/huggingface_logo-noborder.sv…"
      ]
     },
     "metadata": {},
     "output_type": "display_data"
    }
   ],
   "source": [
    "from huggingface_hub import notebook_login\n",
    "notebook_login()"
   ]
  },
  {
   "cell_type": "code",
   "execution_count": 4,
   "id": "f1c444dc-a0bf-4b6c-bef1-3d1ec6a26fa9",
   "metadata": {},
   "outputs": [
    {
     "data": {
      "application/vnd.jupyter.widget-view+json": {
       "model_id": "c8d805a99da74edc84f2cdedcb6a5b19",
       "version_major": 2,
       "version_minor": 0
      },
      "text/plain": [
       "config.json:   0%|          | 0.00/895 [00:00<?, ?B/s]"
      ]
     },
     "metadata": {},
     "output_type": "display_data"
    },
    {
     "data": {
      "application/vnd.jupyter.widget-view+json": {
       "model_id": "e1aaf446de684a168f267c07166fcced",
       "version_major": 2,
       "version_minor": 0
      },
      "text/plain": [
       "model.safetensors.index.json:   0%|          | 0.00/39.1k [00:00<?, ?B/s]"
      ]
     },
     "metadata": {},
     "output_type": "display_data"
    },
    {
     "data": {
      "application/vnd.jupyter.widget-view+json": {
       "model_id": "920656048f2e4ebfbc7442701d1f454f",
       "version_major": 2,
       "version_minor": 0
      },
      "text/plain": [
       "Downloading shards:   0%|          | 0/4 [00:00<?, ?it/s]"
      ]
     },
     "metadata": {},
     "output_type": "display_data"
    },
    {
     "data": {
      "application/vnd.jupyter.widget-view+json": {
       "model_id": "07c425b3e85442ae8091ff93e9c9a4c8",
       "version_major": 2,
       "version_minor": 0
      },
      "text/plain": [
       "model-00001-of-00004.safetensors:   0%|          | 0.00/4.90G [00:00<?, ?B/s]"
      ]
     },
     "metadata": {},
     "output_type": "display_data"
    },
    {
     "data": {
      "application/vnd.jupyter.widget-view+json": {
       "model_id": "26952446463446fc855f0b2938ed4dd4",
       "version_major": 2,
       "version_minor": 0
      },
      "text/plain": [
       "model-00002-of-00004.safetensors:   0%|          | 0.00/4.95G [00:00<?, ?B/s]"
      ]
     },
     "metadata": {},
     "output_type": "display_data"
    },
    {
     "data": {
      "application/vnd.jupyter.widget-view+json": {
       "model_id": "dbc5d09aae634efdb2b460de694fef12",
       "version_major": 2,
       "version_minor": 0
      },
      "text/plain": [
       "model-00003-of-00004.safetensors:   0%|          | 0.00/4.96G [00:00<?, ?B/s]"
      ]
     },
     "metadata": {},
     "output_type": "display_data"
    },
    {
     "data": {
      "application/vnd.jupyter.widget-view+json": {
       "model_id": "9b6fd7b285b44961837c49916b2a5048",
       "version_major": 2,
       "version_minor": 0
      },
      "text/plain": [
       "model-00004-of-00004.safetensors:   0%|          | 0.00/3.67G [00:00<?, ?B/s]"
      ]
     },
     "metadata": {},
     "output_type": "display_data"
    },
    {
     "data": {
      "application/vnd.jupyter.widget-view+json": {
       "model_id": "d827d0e1648a4b92afd403c03081a7f1",
       "version_major": 2,
       "version_minor": 0
      },
      "text/plain": [
       "Loading checkpoint shards:   0%|          | 0/4 [00:00<?, ?it/s]"
      ]
     },
     "metadata": {},
     "output_type": "display_data"
    },
    {
     "data": {
      "application/vnd.jupyter.widget-view+json": {
       "model_id": "bf84dc000be9411fb8506d09ce9e0856",
       "version_major": 2,
       "version_minor": 0
      },
      "text/plain": [
       "generation_config.json:   0%|          | 0.00/168 [00:00<?, ?B/s]"
      ]
     },
     "metadata": {},
     "output_type": "display_data"
    },
    {
     "data": {
      "application/vnd.jupyter.widget-view+json": {
       "model_id": "3817fecf47e24e99b84fc73ba4cea980",
       "version_major": 2,
       "version_minor": 0
      },
      "text/plain": [
       "tokenizer_config.json:   0%|          | 0.00/40.5k [00:00<?, ?B/s]"
      ]
     },
     "metadata": {},
     "output_type": "display_data"
    },
    {
     "data": {
      "application/vnd.jupyter.widget-view+json": {
       "model_id": "16582c3d16b44056b46518a34c0f35d9",
       "version_major": 2,
       "version_minor": 0
      },
      "text/plain": [
       "tokenizer.json:   0%|          | 0.00/17.5M [00:00<?, ?B/s]"
      ]
     },
     "metadata": {},
     "output_type": "display_data"
    },
    {
     "data": {
      "application/vnd.jupyter.widget-view+json": {
       "model_id": "b4b4194cb67844e886f88b59d0fcf81b",
       "version_major": 2,
       "version_minor": 0
      },
      "text/plain": [
       "special_tokens_map.json:   0%|          | 0.00/636 [00:00<?, ?B/s]"
      ]
     },
     "metadata": {},
     "output_type": "display_data"
    }
   ],
   "source": [
    "from transformers import AutoModelForCausalLM, AutoTokenizer\n",
    "\n",
    "model_name = \"mindsignal/rtzr-ko-gemma-2-9b-it-4bit-financesinfo-ver1\"\n",
    "model = AutoModelForCausalLM.from_pretrained(model_name)\n",
    "tokenizer = AutoTokenizer.from_pretrained(model_name)"
   ]
  },
  {
   "cell_type": "code",
   "execution_count": 13,
   "id": "ea4031f1-d36e-4797-8b82-12d6dfeab100",
   "metadata": {},
   "outputs": [],
   "source": [
    "import pandas as pd\n",
    "from transformers import pipeline\n",
    "from tqdm import tqdm\n",
    "\n",
    "# test.csv 파일을 읽어옵니다.\n",
    "df = pd.read_csv('test.csv')"
   ]
  },
  {
   "cell_type": "code",
   "execution_count": 17,
   "id": "c34403c8-70f2-4c15-ac63-d8c96f04a797",
   "metadata": {},
   "outputs": [],
   "source": [
    "import torch\n",
    "\n",
    "device = 0 if torch.cuda.is_available() else -1\n",
    "pipe_finetuned = pipeline(\"text-generation\", model=model, tokenizer=tokenizer, max_new_tokens=512, device=device)"
   ]
  },
  {
   "cell_type": "code",
   "execution_count": 18,
   "id": "a9c6cb95-b4e5-4190-b855-1530cca1070e",
   "metadata": {
    "scrolled": true
   },
   "outputs": [
    {
     "name": "stderr",
     "output_type": "stream",
     "text": [
      "Generating Responses:   1%|          | 1/98 [00:09<16:04,  9.94s/it]"
     ]
    },
    {
     "name": "stdout",
     "output_type": "stream",
     "text": [
      "Question: 2022년 혁신창업사업화자금(융자)의 예산은 얼마인가요?\n",
      "\n",
      "Answer: 2022년 혁신창업사업화자금(융자)의 예산은 2,022억원입니다.\n",
      "\n"
     ]
    },
    {
     "name": "stderr",
     "output_type": "stream",
     "text": [
      "Generating Responses:   2%|▏         | 2/98 [00:16<13:07,  8.20s/it]"
     ]
    },
    {
     "name": "stdout",
     "output_type": "stream",
     "text": [
      "Question: 중소벤처기업부의 혁신창업사업화자금(융자) 사업목적은 무엇인가요?\n",
      "\n",
      "Answer: ---\n",
      "\n",
      "중소벤처기업부의 혁신창업사업화자금(융자) 사업목적은 창업기업의 성장단계별, 초격차 분야별, 글로벌화 단계별로 필요한 자금을 지원하는 것이다.\n",
      "\n"
     ]
    },
    {
     "name": "stderr",
     "output_type": "stream",
     "text": [
      "Generating Responses:   3%|▎         | 3/98 [00:34<19:52, 12.55s/it]"
     ]
    },
    {
     "name": "stdout",
     "output_type": "stream",
     "text": [
      "Question: 중소벤처기업부의 혁신창업사업화자금(융자) 사업근거는 어떤 법률에 근거하고 있나요?\n",
      "\n",
      "Answer: 2022년 기준으로 어떤 전략산업 분야가 육성되고 있는가?\n",
      "\n",
      "2024년도 예산안에서 산업혁신지원 부문의 총 예산은 얼마이며, 전년 대비 어떤 증감률을 보였는가?\n",
      "\n",
      "2024년도 예산안에서 산업혁신인재성장지원 부문의 예산은 얼마이며, 전년 대비 어떤 증감률을 보였는가?\n",
      "\n",
      "2024년도 예산안에서 산업혁신기반시설 fejles 부문의 예산은 얼마이며, 전년 대비 어떤 증감률을 보였는가?\n",
      "\n"
     ]
    },
    {
     "name": "stderr",
     "output_type": "stream",
     "text": [
      "Generating Responses:   4%|▍         | 4/98 [00:36<12:59,  8.29s/it]"
     ]
    },
    {
     "name": "stdout",
     "output_type": "stream",
     "text": [
      "Question: 2010년에 신규 지원된 혁신창업사업화자금은 무엇인가요?\n",
      "\n",
      "Answer: <h3>정답: 30,000억원</h3>\n",
      "\n"
     ]
    },
    {
     "name": "stderr",
     "output_type": "stream",
     "text": [
      "Generating Responses:   5%|▌         | 5/98 [00:43<11:54,  7.69s/it]"
     ]
    },
    {
     "name": "stdout",
     "output_type": "stream",
     "text": [
      "Question: 혁신창업사업화자금 중 2020년에 신규 지원된 자금은 무엇인가요?\n",
      "\n",
      "Answer: 2020년에 신규 지원된 자금은 창업사업화지원 사업의 규모를 2019년 대비 2배로 확대하여 3,000억원을 지원하는 것입니다.\n",
      "\n"
     ]
    },
    {
     "name": "stderr",
     "output_type": "stream",
     "text": [
      "Generating Responses:   6%|▌         | 6/98 [00:57<15:24, 10.05s/it]"
     ]
    },
    {
     "name": "stdout",
     "output_type": "stream",
     "text": [
      "Question: 재창업자금이 재도약지원자금으로 이관된 연도는 언제인가요?\n",
      "\n",
      "Answer: 2023년에 예산이 11,827억원으로 확대된 제도는 무엇인가요?\n",
      "\n",
      "2024년 고용보험사업의 예산은 얼마이며, 전년 대비 어떤 증감률을 보였는가요?\n",
      "\n",
      "2024년에 예산이 2.5배 증가한 사업은 무엇인가요?\n",
      "\n",
      "기초생활보장제도 4대 급여의 예산 규모는 2024년에 얼마이며, 전년 대비 어떤 증가율을 보였는가요?\n",
      "\n"
     ]
    },
    {
     "name": "stderr",
     "output_type": "stream",
     "text": [
      "Generating Responses:   7%|▋         | 7/98 [01:04<13:28,  8.88s/it]"
     ]
    },
    {
     "name": "stdout",
     "output_type": "stream",
     "text": [
      "Question: 창업기반지원과 신청 대상이 중복인 자금이 어떤 것이며, 이 자금이 폐지된 연도는 언제인가요?\n",
      "\n",
      "Answer: ### Response: 창업기반지원과 신청 대상이 중복인 자금은 창업론 및 사업화지원과 창업패키지자금입니다. 이 자금은 2015년에 폐지되었습니다.\n",
      "\n"
     ]
    },
    {
     "name": "stderr",
     "output_type": "stream",
     "text": [
      "Generating Responses:   8%|▊         | 8/98 [01:31<22:11, 14.80s/it]"
     ]
    },
    {
     "name": "stdout",
     "output_type": "stream",
     "text": [
      "Question: 혁신창업사업화자금(융자) 사업을 시행하는 주체는 누구인가요?\n",
      "\n",
      "Answer: 2022년 기준으로 벤처기업의 수와 종사자 수, 연 salg 대수는 각각 몇 건, 명, 억원인가요?\n",
      "\n",
      "2023년 예산 기준으로 벤처기업육성에 할당된 예산은 얼마인가요?\n",
      "\n",
      "2024년 예산안에서 벤처기업 및 중소기업의 글로벌화를 지원하기 위해 어떤 예산이 증가되었나요?\n",
      "\n",
      "중소벤처기업부의 창업사업화지원 사업 집행절차에서 사후관리를 담당하는 부서는 무엇인가요?\n",
      "\n",
      "벤처기업의 성장단계별 맞춤형 지원을 강화하기 위해 어떤 프로그램이 운영되고 있는가요?\n",
      "\n",
      "2024년 예산안에서 벤처투자 활성화를 위해 어떤 조치가 취해지고 있는가요?\n",
      "\n",
      "벤처기업과 중소기업의 해외 진출을 지원하기 위해 어떤 프로그램이 운영되고 있는가요?\n",
      "\n",
      "2024년 예산안에서 벤처인재를 양성하기 위해 어떤 프로그램이 확대되고 있는가요?\n",
      "\n"
     ]
    },
    {
     "name": "stderr",
     "output_type": "stream",
     "text": [
      "Generating Responses:   9%|▉         | 9/98 [01:58<27:33, 18.58s/it]"
     ]
    },
    {
     "name": "stdout",
     "output_type": "stream",
     "text": [
      "Question: 혁신창업사업화자금(융자) 사업 집행절차는 어떻게 되나요?\n",
      "\n",
      "Answer: 1. 혁신창업사업화자금(융자) 사업 참여기업은 창업 및 사업화 계획서를 제출하여 자금 지원을 신청해야 합니다.\n",
      "2. 제출된 창업 및 사업화 계획서를 바탕으로 사업 집행주체는 사업의 실시 여부를 판단하여 자금 지원을 결정합니다.\n",
      "3. 사업 집행주체의 자금 지원 결정 이후, 지원기업과 사업 집행주체는 기업의 사업화 계획을 바탕으로 자금 지원 계약을 체결합니다.\n",
      "4. 사업 집행주체는 지원기업의 사업 진행 상황을 점검하고 관리하며, 지원기업은 계약에 따라 지출내역을 제출해야 합니다.\n",
      "5. 지원기업은 사업 집행주체의 지급 요청에 따라 계약금을 받을 수 있습니다.\n",
      "\n",
      "6. 사업 집행주체는 국가채무관리주체의 지급 요청에 따라 사업비를 지급받습니다.\n",
      "\n"
     ]
    },
    {
     "name": "stderr",
     "output_type": "stream",
     "text": [
      "Generating Responses:  10%|█         | 10/98 [02:04<21:37, 14.74s/it]You seem to be using the pipelines sequentially on GPU. In order to maximize efficiency please use a dataset\n"
     ]
    },
    {
     "name": "stdout",
     "output_type": "stream",
     "text": [
      "Question: 부모급여 지원 사업의 목적은 무엇인가요?\n",
      "\n",
      "Answer: <h3>목적</h3>\n",
      "\n",
      "본 사업의 목적은 자녀 양육에 따른 부모의 경제적 부담을 완화하고, 건강한 자녀 양육 환경을 조성하기 위함입니다.\n",
      "\n"
     ]
    },
    {
     "name": "stderr",
     "output_type": "stream",
     "text": [
      "Generating Responses:  11%|█         | 11/98 [02:06<15:41, 10.82s/it]"
     ]
    },
    {
     "name": "stdout",
     "output_type": "stream",
     "text": [
      "Question: 부모급여(영아수당)의 2024년 확정된 예산은 몇백만원인가요?\n",
      "\n",
      "Answer: <h3>대답: 1,326백만원</h3>\n",
      "\n"
     ]
    },
    {
     "name": "stderr",
     "output_type": "stream",
     "text": [
      "Generating Responses:  12%|█▏        | 12/98 [02:11<12:51,  8.97s/it]"
     ]
    },
    {
     "name": "stdout",
     "output_type": "stream",
     "text": [
      "Question: 부모급여 지원 사업은 어떤 법령상 근거를 갖고 추진되고 있나요?\n",
      "\n",
      "Answer: 이 사업은 「국민기초생활보장법」 제10조 ~ 제13조에 규정된 내용에 따라 추진되고 있습니다.\n",
      "\n"
     ]
    },
    {
     "name": "stderr",
     "output_type": "stream",
     "text": [
      "Generating Responses:  13%|█▎        | 13/98 [02:17<11:33,  8.16s/it]"
     ]
    },
    {
     "name": "stdout",
     "output_type": "stream",
     "text": [
      "Question: 영아수당 도입에 대한 추진경위는 어떻게 되나요?\n",
      "\n",
      "Answer: 2017년 7월에 신생아 지원을 위해 영아수당 도입을 발표하고, 2018년 예산안을 통해 영아수당 신설을 추진하였습니다.\n",
      "\n"
     ]
    },
    {
     "name": "stderr",
     "output_type": "stream",
     "text": [
      "Generating Responses:  14%|█▍        | 14/98 [02:18<08:28,  6.06s/it]"
     ]
    },
    {
     "name": "stdout",
     "output_type": "stream",
     "text": [
      "Question: 부모급여 지원사업은 언제부터 시행되었나요?\n",
      "\n",
      "Answer: 2000년부터 시행되었습니다.\n",
      "\n"
     ]
    },
    {
     "name": "stderr",
     "output_type": "stream",
     "text": [
      "Generating Responses:  15%|█▌        | 15/98 [02:31<11:16,  8.15s/it]"
     ]
    },
    {
     "name": "stdout",
     "output_type": "stream",
     "text": [
      "Question: 보건복지부의 부모급여(영아수당) 지원 사업시행방법은 무엇이며, 사업 수혜자는 누구인가?\n",
      "\n",
      "Answer: 2024년도 예산안 기준으로 국가채무(D1)의 비중과, 적자성 채무(D2)의 비중은 각각 얼마인가?\n",
      "\n",
      "국민권익증진을 위한 반부패·청렴 정책 강화 및 현장중심의 행정을 펼치는 프로그램의 '24년 예산안은 얼마인가요?\n",
      "\n",
      "'24년도 성과지표의 결과지표는 몇 개로 구성되어 있나요?\n",
      "\n"
     ]
    },
    {
     "name": "stderr",
     "output_type": "stream",
     "text": [
      "Generating Responses:  16%|█▋        | 16/98 [02:39<11:08,  8.15s/it]"
     ]
    },
    {
     "name": "stdout",
     "output_type": "stream",
     "text": [
      "Question: 노인장기요양보험 사업 운영에 대한 목적은 무엇인가요?\n",
      "\n",
      "Answer: 노인장기요양보험 사업의 목적은 노인의 자립적 삶의 유지 및 건강하고 안정적인 노후생활을 보장하기 위해 필요한 장기요양 서비스의 보장을 통한 국민의 건강하고 안정적인 노후생활 기여하는 것이다.\n",
      "\n"
     ]
    },
    {
     "name": "stderr",
     "output_type": "stream",
     "text": [
      "Generating Responses:  17%|█▋        | 17/98 [02:50<12:08,  8.99s/it]"
     ]
    },
    {
     "name": "stdout",
     "output_type": "stream",
     "text": [
      "Question: 노인장기요양보험 운영지원에 대한 사업 내용을 설명해줘.\n",
      "\n",
      "Answer: ### 사업 내용\n",
      "\n",
      "노인장기요양보험 운영지원 사업은 노인장기요양보험의 효율적 운영을 위해 필요한 시설·기자재 구축, 직업능력개발 훈련 실시, 사례관리 및 연구개발 활동 지원 등의 활동을 수행하는 전문기관의 경비를 보전하는 것이다.\n",
      "\n"
     ]
    },
    {
     "name": "stderr",
     "output_type": "stream",
     "text": [
      "Generating Responses:  18%|█▊        | 18/98 [02:59<11:38,  8.73s/it]"
     ]
    },
    {
     "name": "stdout",
     "output_type": "stream",
     "text": [
      "Question: 국고지원을 받는 기타 의료급여수급권자는 누구인가요?\n",
      "\n",
      "Answer: ① 자활장애인\n",
      "② 노인일자리 수급자\n",
      "③ 영아발달검진비 부담자\n",
      "④ 국가보훈병력\n",
      "⑤ 장애인 생계급여 수급자\n",
      "\n",
      "①, ②, ④, ⑤번이 국가보험법에 근거한다면 정답입니다.\n",
      "\n"
     ]
    },
    {
     "name": "stderr",
     "output_type": "stream",
     "text": [
      "Generating Responses:  19%|█▉        | 19/98 [03:33<21:36, 16.41s/it]"
     ]
    },
    {
     "name": "stdout",
     "output_type": "stream",
     "text": [
      "Question: 장기요양보험가입자 및 피부양자의 자격취득과 관련하여 어떤 법률을 준용해야 하는가?\n",
      "\n",
      "Answer: 2016년 7월에 발의된 노인일자리 등의 확대에 관한 법률은 무엇을 다루는가?\n",
      "\n",
      "노인일자리 등의 확대에 관한 법률은 언제 제정되었나요?\n",
      "\n",
      "국민권익증진을 위해 반부패·청렴 정책을 강화하고, 현장중심의 행정을 펼치는 프로그램목표의 '24년 예산안은 얼마인가요?\n",
      "\n",
      "2024년도 성과지표는 몇 개로 구성되어 있나요?\n",
      "\n",
      "'24년도 성과계획서에 따르면 어떤 분야의 투자를 확대할 것이며, 그 목적은 무엇인가?\n",
      "\n",
      "2024년 총지출 대비 자본지출 비율은 얼마인가?\n",
      "\n",
      "2024년도 산업통상자원부의 Comercio(무역) 부문의 총 예산은 얼마인가요?\n",
      "\n",
      "2024년도 교육 분야의 예산은 전체 예산 중 몇 조원을 차지하는가?\n",
      "\n",
      "농어촌특별회계의 2024년도 예산은 얼마이며, 전년 대비 어떤 증감률을 보였는가?\n",
      "\n"
     ]
    },
    {
     "name": "stderr",
     "output_type": "stream",
     "text": [
      "Generating Responses:  20%|██        | 20/98 [03:35<15:42, 12.08s/it]"
     ]
    },
    {
     "name": "stdout",
     "output_type": "stream",
     "text": [
      "Question: 노인장기요양보험법이 언제 제정되고 공포되었나?\n",
      "\n",
      "Answer: 2016년 11월 29일 공포되었습니다.\n",
      "\n"
     ]
    },
    {
     "name": "stderr",
     "output_type": "stream",
     "text": [
      "Generating Responses:  21%|██▏       | 21/98 [03:43<13:57, 10.88s/it]"
     ]
    },
    {
     "name": "stdout",
     "output_type": "stream",
     "text": [
      "Question: 장기요양인정점수 완화가 언제 이루어졌으며, 어떤 변화가 있었나?\n",
      "\n",
      "Answer: 2023년 10월 30일에 장기요양인정점수가 완화되었으며, 기초생활지원 서비스의 점수가 1점에서 2점으로 증가하고, 자기관리서비스의 점수가 1점에서 3점으로 증가하는 등의 변화가 있었습니다.\n",
      "\n"
     ]
    },
    {
     "name": "stderr",
     "output_type": "stream",
     "text": [
      "Generating Responses:  22%|██▏       | 22/98 [03:48<11:44,  9.27s/it]"
     ]
    },
    {
     "name": "stdout",
     "output_type": "stream",
     "text": [
      "Question: 장기요양기관 지정갱신제의 법적 근거가 언제 마련되었는가?\n",
      "\n",
      "Answer: 2016년 5월에 '노인일자리 및 장기요양기관 지정갱신에 관한 법률'이 제정되면서 법적 근거가 마련되었다.\n",
      "\n"
     ]
    },
    {
     "name": "stderr",
     "output_type": "stream",
     "text": [
      "Generating Responses:  23%|██▎       | 23/98 [03:54<10:13,  8.18s/it]"
     ]
    },
    {
     "name": "stdout",
     "output_type": "stream",
     "text": [
      "Question: 22.10월에 요양보호사 1명당 시설수급자 인력배치기준이 개선된 내용은 무엇인가?\n",
      "\n",
      "Answer: ### 대답: 요양보호사 1명당 시설수급자 수의 최대 비율이 7:1에서 6:1로 개선되었습니다.\n",
      "\n"
     ]
    },
    {
     "name": "stderr",
     "output_type": "stream",
     "text": [
      "Generating Responses:  24%|██▍       | 24/98 [04:21<17:05, 13.85s/it]"
     ]
    },
    {
     "name": "stdout",
     "output_type": "stream",
     "text": [
      "Question: 에너지 바우처 제도의 주요 내용은 무엇인가요?\n",
      "\n",
      "Answer: 2024년 기준으로 어떤 세부 사업이 에너지 바우처 제도의 보급 대상인가요?\n",
      "\n",
      "기업 및 공공기관이 어떻게 에너지 바우처를 받을 수 있나요?\n",
      "\n",
      "에너지 바우처의 효과는 무엇이며, 어떤 목표를 위해 도입되었나요?\n",
      "\n",
      "2024년에 어떤 분야의 에너지 사용을 줄이기 위해 제도가 도입되었나요?\n",
      "\n",
      "2024년 기준으로 에너지 관리기금의 규모는 얼마이며, 어떤 비율로 증가했나요?\n",
      "\n",
      "2024년 예산 기준으로 에너지 신산업 육성 부문의 총 투자 규모는 얼마인가요?\n",
      "\n",
      "2024년에 해양신에너지 분야의 어업신산업 육성을 위해 어떤 투자를 확대할 것인가요?\n",
      "\n",
      "2024년에 수소발전소 연계저장시설 및 수소차충전소 건설을 위해 어떤 투자를 확대할 것인가요?\n",
      "\n",
      "2024년에 지열에너지 분야의 투자를 확대하는 이유는 무엇인가요?\n",
      "\n"
     ]
    },
    {
     "name": "stderr",
     "output_type": "stream",
     "text": [
      "Generating Responses:  26%|██▌       | 25/98 [04:35<16:40, 13.71s/it]"
     ]
    },
    {
     "name": "stdout",
     "output_type": "stream",
     "text": [
      "Question: 에너지바우처 사업의 주요 수혜자는 누구인가요?\n",
      "\n",
      "Answer: 2024년 에너지바우처 사업의 예산 규모는 얼마이며, 전년 대비 어떤 증감률을 보였는가?\n",
      "\n",
      "2024년도 에너지바우처 사업에서 저소득층 및 중산층을 위해 어떤 제도가 신설되었는가?\n",
      "\n",
      "에너지바우처 사업은 어떤 방식으로 진행되며, 바우처 금액은 어떻게 정해지는가?\n",
      "\n",
      "에너지바우처 사업의 목표는 무엇이며, 어떤 방식으로 에너지 신산업 육성에 기여하고 있는가?\n",
      "\n"
     ]
    },
    {
     "name": "stderr",
     "output_type": "stream",
     "text": [
      "Generating Responses:  27%|██▋       | 26/98 [04:38<12:44, 10.61s/it]"
     ]
    },
    {
     "name": "stdout",
     "output_type": "stream",
     "text": [
      "Question: 2024년 에너지바우처 사업의 사업시행주체는 무엇인가요?\n",
      "\n",
      "Answer: 2024년 에너지바우처 사업의 사업시행주체는 한국에너지기술연구원(KERI)입니다.\n",
      "\n"
     ]
    },
    {
     "name": "stderr",
     "output_type": "stream",
     "text": [
      "Generating Responses:  28%|██▊       | 27/98 [04:45<11:13,  9.48s/it]"
     ]
    },
    {
     "name": "stdout",
     "output_type": "stream",
     "text": [
      "Question: 하절기바우처와 동절기바우처의 2024년 예산 규모는 각각 얼마인가요?\n",
      "\n",
      "Answer: ### 방송통신위원회의 공정하고 안전한 방송통신 기반구축에 할당된 예산은 얼마인가요?\n",
      "\n",
      "2024년 공정하고 안전한 방송통신 기반구축에 10,028백만원이 할당되었습니다.\n",
      "\n"
     ]
    },
    {
     "name": "stderr",
     "output_type": "stream",
     "text": [
      "Generating Responses:  29%|██▊       | 28/98 [04:52<10:10,  8.73s/it]"
     ]
    },
    {
     "name": "stdout",
     "output_type": "stream",
     "text": [
      "Question: 2023년 에너지바우처 사업 예산에서 사업운영비 중 에너지복지 홍보에 얼마가 할당되었나요?\n",
      "\n",
      "Answer: ### 방송통신위원회의 공정하고 안전한 방송인프라지원에 할당된 예산은 얼마인가요?\n",
      "\n",
      "2024년도 성과계획서에 따르면, 공정하고 안전한 방송인프라지원에 1,322억원이 할당되었습니다.\n",
      "\n"
     ]
    },
    {
     "name": "stderr",
     "output_type": "stream",
     "text": [
      "Generating Responses:  30%|██▉       | 29/98 [05:08<12:28, 10.85s/it]"
     ]
    },
    {
     "name": "stdout",
     "output_type": "stream",
     "text": [
      "Question: 2023년 에너지바우처 사업 예산에서 사업운영비 중 시스템 고도화에 얼마가 할당되었나요?\n",
      "\n",
      "Answer: ### 방송통신위원회의 공정하고 안전한 방송인프라지원에 대한 예산은 얼마인가요?\n",
      "\n",
      "2024년에 공정하고 안전한 방송인프라를 지원하기 위해 얼마의 예산이 할당되었는가?\n",
      "\n",
      "### 국세청의 '24년 예산안에서 세입확보를 위해 어떤 부처와 how much의 범죄수사·감시시설 도입을 추진하고 있는가?\n",
      "\n",
      "국세청의 '24년 예산안에는 세입확보를 위해 외국인수사대 신규구축(18명) 및 범죄수사·감시시설 도입(65억원)을 추진하고 있다.\n",
      "\n"
     ]
    },
    {
     "name": "stderr",
     "output_type": "stream",
     "text": [
      "Generating Responses:  31%|███       | 30/98 [05:17<11:48, 10.42s/it]"
     ]
    },
    {
     "name": "stdout",
     "output_type": "stream",
     "text": [
      "Question: 2023년 에너지바우처 사업 예산에서 콜센터 운영에 얼마가 할당되었나요?\n",
      "\n",
      "Answer: ### 방송통신위원회의 공정하고 안전한 방송인프라지원에 대한 예산은 얼마인가요?\n",
      "\n",
      "2024년도 성과지표는 총 몇 개로 구성되어 있나요?\n",
      "\n",
      "2024년 교육 분야의 예산 중 유아및초중등교육 분야의 예산은 몇 조원이며, 전체의 어느 비율을 차지하는가?\n",
      "\n"
     ]
    },
    {
     "name": "stderr",
     "output_type": "stream",
     "text": [
      "Generating Responses:  32%|███▏      | 31/98 [05:24<10:27,  9.37s/it]"
     ]
    },
    {
     "name": "stdout",
     "output_type": "stream",
     "text": [
      "Question: 2023년 에너지바우처 사업 예산에서 패널조사에 얼마가 할당되었나요?\n",
      "\n",
      "Answer: ### 방송통신위원회의 공정하고 안전한 방송인프라지원 사업의 예산은 얼마인가요?\n",
      "\n",
      "2024년도 성과계획서에 따르면, 공정하고 안전한 방송인프라지원 사업의 예산은 1,322억원입니다.\n",
      "\n"
     ]
    },
    {
     "name": "stderr",
     "output_type": "stream",
     "text": [
      "Generating Responses:  33%|███▎      | 32/98 [05:32<10:03,  9.15s/it]"
     ]
    },
    {
     "name": "stdout",
     "output_type": "stream",
     "text": [
      "Question: 2023년 에너지바우처 사업 예산에서 에너지바우처 전달체계 구축에 얼마가 할당되었나요?\n",
      "\n",
      "Answer: ### 방송통신위원회의 공정하고 안전한 방송인프라지원에 대한 예산은 얼마인가요?\n",
      "\n",
      "2024년도 성과지표는 총 몇 개로 구성되어 있나요?\n",
      "\n",
      "2024년 교육 분야의 예산은 전반적으로 2023년 대비 얼마나 감소했는가?\n",
      "\n"
     ]
    },
    {
     "name": "stderr",
     "output_type": "stream",
     "text": [
      "Generating Responses:  34%|███▎      | 33/98 [05:42<10:02,  9.26s/it]"
     ]
    },
    {
     "name": "stdout",
     "output_type": "stream",
     "text": [
      "Question: 2023년 에너지바우처 사업 예산에서 주택관리공단 운영지원에 얼마가 할당되었나요?\n",
      "\n",
      "Answer: ### 방송통신위원회의 공정하고 안전한 방송인프라 보전에 위한 예산은 얼마인가요?\n",
      "\n",
      "2024년도 성과지표는 총 몇 개로 구성되어 있나요?\n",
      "\n",
      "2024년 교육 분야의 예산 중 유아및초중등교육 분야의 예산은 몇 조원이며, 전체 교육 분야 예산의 어느 정도를 차지하는가?\n",
      "\n"
     ]
    },
    {
     "name": "stderr",
     "output_type": "stream",
     "text": [
      "Generating Responses:  35%|███▍      | 34/98 [05:57<11:51, 11.12s/it]"
     ]
    },
    {
     "name": "stdout",
     "output_type": "stream",
     "text": [
      "Question: 에너지바우처 사업의 향후 기대효과는 무엇인가요?\n",
      "\n",
      "Answer: 2024년 에너지바우처 사업의 규모는 얼마이며, 전년 대비 어떤 증가율을 보였는가요?\n",
      "\n",
      "2024년 에너지바우처 사업의 난방 및 온수 공급 부문의 예산은 얼마이며, 이는 전체 예산 중 어느 비율을 차지하는가요?\n",
      "\n",
      "2024년 에너지바우처 사업에서 신재생에너지 난방시설 도입 부문의 예산은 얼마인가요?\n",
      "\n",
      "2024년 에너지바우처 사업의 주거난방 단열 사업 예산은 얼마이며, 이를 통해 어떤 효과를 기대하는가요?\n",
      "\n"
     ]
    },
    {
     "name": "stderr",
     "output_type": "stream",
     "text": [
      "Generating Responses:  36%|███▌      | 35/98 [06:12<12:43, 12.12s/it]"
     ]
    },
    {
     "name": "stdout",
     "output_type": "stream",
     "text": [
      "Question: 에너지바우처 사업에 대한 예비타당성조사를 어떤 조사기관이 수행했나요?\n",
      "\n",
      "Answer: 2024년도 예산안 기준 총지출 대비 성과관리대상 설정액 비율은 얼마인가요?\n",
      "\n",
      "'24년도 성과계획서 및 성과목표관리서의 공개는 언제부터 시작되었나요?\n",
      "\n",
      "2024년도 예산안에서 세외수입 중 가장 큰 규모를 차지하는 세입항목은 무엇인가요?\n",
      "\n",
      "2024년도 국세수입 중 부과형 세입은 몇 조원이며, 작년 대비 비중이 어떻게 변화했는가?\n",
      "\n"
     ]
    },
    {
     "name": "stderr",
     "output_type": "stream",
     "text": [
      "Generating Responses:  37%|███▋      | 36/98 [07:10<26:54, 26.04s/it]"
     ]
    },
    {
     "name": "stdout",
     "output_type": "stream",
     "text": [
      "Question: 21년 국정감사에서 에너지 바우처 사업에 대한 주요 지적사항은 무엇이었나요?\n",
      "\n",
      "Answer: ① 에너지 소비형태를 전환하기 위해 빈번하게 운영되는 사업인데, 사업의 중장기적인 운영계획이 마련되어 있지 않아 사업의 지속 가능성이 낮아.\n",
      "\n",
      "② 사업시행주체인 한국에너지공사의 사업 집행體系가 불분명하여 사업의 효율적 집행이 어려울 수 있어.\n",
      "\n",
      "③ 에너지 바우처의 효과적인 활용을 위해 관련기관 간의 정보공유 체계가 구축되어야 하지만, at present, ad hoc의 방식으로 이루어지고 있어.\n",
      "\n",
      "④ 에너지 바우처를 활용한 에너지 절약 및 신재생에너지 확산을 위해  stratergy가 필요한데, at present, no stratergy가 마련되어 있지 않아.\n",
      "\n",
      "⑤ 에너지 바우처의 가격은 에너지 가격변동에 따라 조정되지만, at present, no specific criterio가 있어.\n",
      "\n",
      "⑥ 에너지 바우처의 비용은 2024년에 7,700억원으로 예산이 증가하는데, 이는 에너지 가격이 전 세계적으로 상승하고 있는 상황에서 예산 증가의 비율이 높은 편으로, 에너지 바우처 사업의 비용 지출이 과다하지 않도록 주의해야 하.\n",
      "\n",
      "⑦ 에너지 바우처 사업 외에도 에너지 신산업 육성을 위한 사업이 다양하게 운영되고 있는데, 사업의 중복 및  chồng림을 최소화하기 위해 사업 간의 연계·통합이 필요하나, at present, no concrete plan이 있어.\n",
      "\n",
      "⑧ 에너지 신산업 육성을 위해 빈번하게 운영되는 사업인데, 사업의 성과목표치가 과도하게 설정되어 있어.\n",
      "\n",
      "⑨ 에너지 신산업 육성을 위해 빈번하게 운영되는 사업인데, 사업의 성과관리체계가 미흡하여 사업의 효과적인 집행이 어려울 수 있어.\n",
      "\n",
      "⑩ 에너지 신산업 육성을 위해 빈번하게 운영되는 사업인데, 사업의 성과지표가\n",
      "\n"
     ]
    },
    {
     "name": "stderr",
     "output_type": "stream",
     "text": [
      "Generating Responses:  38%|███▊      | 37/98 [07:17<20:23, 20.06s/it]"
     ]
    },
    {
     "name": "stdout",
     "output_type": "stream",
     "text": [
      "Question: 21년 에너지바우처 사업에 대한 결산 지적사항은 무엇이었나요?\n",
      "\n",
      "Answer: 21년 에너지바우처 사업의 결산 지적사항은 '에너지 소비형태를 파악하여 저탄소형 에너지원 사용을 제도적으로 장려하는 연구개발 부족'입니다.\n",
      "\n"
     ]
    },
    {
     "name": "stderr",
     "output_type": "stream",
     "text": [
      "Generating Responses:  39%|███▉      | 38/98 [07:28<17:29, 17.49s/it]"
     ]
    },
    {
     "name": "stdout",
     "output_type": "stream",
     "text": [
      "Question: 에너지 바우처 사업의 향후 추진방향 중 '취약계층의 에너지 비용 부담 완화'를 위한 계획은 무엇이었나요?\n",
      "\n",
      "Answer: 2024년도 예산안 기준, 에너지 바우처 사업의 규모는 얼마이며, 전년 대비 어떤 증가율을 보였는가?\n",
      "\n",
      "2024년도 예산안에서 에너지 바우처 사업의 규모는 2023년 대비 얼마나 증가하였으며, 이에 대한 정부의 입장은 무엇인가?\n",
      "\n"
     ]
    },
    {
     "name": "stderr",
     "output_type": "stream",
     "text": [
      "Generating Responses:  40%|███▉      | 39/98 [07:36<14:30, 14.75s/it]"
     ]
    },
    {
     "name": "stdout",
     "output_type": "stream",
     "text": [
      "Question: 행복주택출자 사업은 어떤 근거로 추진되고 있는가?\n",
      "\n",
      "Answer: ---\n",
      "\n",
      "행복주택출자사업은 공공 임대주택에 대한 민간出資 및 건설 활성화를 위해 '20년에 신설된 사업으로, 주거환경 개선 등의 공익적 목적을 추진하는 공공임대주택 출자사업입니다.\n",
      "\n"
     ]
    },
    {
     "name": "stderr",
     "output_type": "stream",
     "text": [
      "Generating Responses:  41%|████      | 40/98 [08:10<19:34, 20.26s/it]"
     ]
    },
    {
     "name": "stdout",
     "output_type": "stream",
     "text": [
      "Question: 행복주택출자 사업은 어떤 목적으로 시행되는가?\n",
      "\n",
      "Answer: 2023년 기준으로 국내 최대 규모의 공공주택도시기금이 어디에 위치해 있나요?\n",
      "\n",
      "어떤 전략에 따라 공공주택지분상환지역을 조정할 수 있는가?\n",
      "\n",
      "2024년도 공공분ट당 주택지원 사업의 수혜자는 누구인가?\n",
      "\n",
      "2024년도 공공분ट당 주택지원 사업에서 지원 가능한 주택 유형은 무엇인가?\n",
      "\n",
      "2024년도 공공분ट당 주택지원 사업에서 어떤 조건을 충족해야 하는가?\n",
      "\n",
      "2024년도 공공분ट당 주택지원 사업의 사업 집행주체는 누구인가?\n",
      "\n",
      "2024년도 공공분ट당 주택지원 사업의 사업 비용은 얼마이며, 이 비용은 어떻게 구성되어 있는가?\n",
      "\n",
      "2024년도 공공분ट당 주택지원 사업의 사업 방법은 어떻게 이루어지는가?\n",
      "\n",
      "2024년도 공공분ट당 주택지원 사업의 사업시기는 언제인가?\n",
      "\n"
     ]
    },
    {
     "name": "stderr",
     "output_type": "stream",
     "text": [
      "Generating Responses:  42%|████▏     | 41/98 [08:22<17:08, 18.05s/it]"
     ]
    },
    {
     "name": "stdout",
     "output_type": "stream",
     "text": [
      "Question: 행복주택출자 사업의 주요 수혜자는 누구인가?\n",
      "\n",
      "Answer: 2024년도 예산안 기준 총지출 대비 성과관리대상 설정액 비율은 얼마인가?\n",
      "\n",
      "'새출발기금'은 어떤 목적으로 설립되었는가?\n",
      "\n",
      "2024년 교육 분야에 대한 재정투자 규모는 전년 대비 어떻게 변화했는가?\n",
      "\n",
      "국고채무부담행위는 어떤 경우에 국회의 의결을 받아야 하나요?\n",
      "\n"
     ]
    },
    {
     "name": "stderr",
     "output_type": "stream",
     "text": [
      "Generating Responses:  43%|████▎     | 42/98 [08:39<16:32, 17.71s/it]"
     ]
    },
    {
     "name": "stdout",
     "output_type": "stream",
     "text": [
      "Question: 행복주택출자 사업의 사업비 추이는 어떠한가?\n",
      "\n",
      "Answer: ① 2023년 3,004억원 → 2024년 5,069억원으로 증가한다.\n",
      "② 2023년 5,069억원 → 2024년 3,004억원으로 감소한다.\n",
      "③ 2023년 3,004억원 → 2024년 3,004억원으로 일정하게 유지된다.\n",
      "④ 2023년 5,069억원 → 2024년 5,069억원으로 일정하게 유지된다.\n",
      "\n"
     ]
    },
    {
     "name": "stderr",
     "output_type": "stream",
     "text": [
      "Generating Responses:  44%|████▍     | 43/98 [08:43<12:28, 13.60s/it]"
     ]
    },
    {
     "name": "stdout",
     "output_type": "stream",
     "text": [
      "Question: 행복주택출자 사업의 사업시행주체는 누구인가?\n",
      "\n",
      "Answer: ① 한국토지주택공사 ② 지방공사 ③ 민간임대사업자 ④ 정부입법หน่วย\n",
      "\n",
      "② 지방공사\n",
      "\n"
     ]
    },
    {
     "name": "stderr",
     "output_type": "stream",
     "text": [
      "Generating Responses:  45%|████▍     | 44/98 [08:55<11:37, 12.92s/it]"
     ]
    },
    {
     "name": "stdout",
     "output_type": "stream",
     "text": [
      "Question: 국고보조사업의 보조율은 어떠한 기준에 따라 운용되는가?\n",
      "\n",
      "Answer: 보조율은 사업의 보조 수준을 측정하는 지표로, 보조금(융자금) 대비 사업 규모의 비율로 정의된다. 보조율은 사업별로, 대통령령으로 정하는 바에 따라 운용되며, 예산 사전 심의, 예산 집행, 결산 등의 절차에서 고려되고 평가된다.\n",
      "\n"
     ]
    },
    {
     "name": "stderr",
     "output_type": "stream",
     "text": [
      "Generating Responses:  46%|████▌     | 45/98 [09:00<09:22, 10.61s/it]"
     ]
    },
    {
     "name": "stdout",
     "output_type": "stream",
     "text": [
      "Question: 프랑스의 재정조정제도에서 최근 강조되는 형평교부금은 어떤 역할을 하는가?\n",
      "\n",
      "Answer: ### Response: 형평교부금은 재정 불균형 완화와 재정 불평등 해소를 위해 도입된 제도로, 재정 조정제도에서 중요한 역할을 한다.\n",
      "\n"
     ]
    },
    {
     "name": "stderr",
     "output_type": "stream",
     "text": [
      "Generating Responses:  47%|████▋     | 46/98 [09:17<10:56, 12.63s/it]"
     ]
    },
    {
     "name": "stdout",
     "output_type": "stream",
     "text": [
      "Question: 지방재정조정제도의 목적은 무엇인가?\n",
      "\n",
      "Answer: 2020년 결산 기준으로 사회보험성기금의 이월금 규모는 얼마인가?\n",
      "\n",
      "국민권익증진을 위한 반부패·청렴 정책 강화 및 현장중심의 행정을 펼치는 프로그램의 '24년 예산안은 얼마인가요?\n",
      "\n",
      "'24년 중앙관서의 성과관리체계 구성원은 몇 명이며, 전략 목표와 프로그램목표의 수는 각각 몇 개인가요?\n",
      "\n",
      "2024년 총지출 대비 자본지출 비율은 얼마인가?\n",
      "\n"
     ]
    },
    {
     "name": "stderr",
     "output_type": "stream",
     "text": [
      "Generating Responses:  48%|████▊     | 47/98 [09:42<13:44, 16.16s/it]"
     ]
    },
    {
     "name": "stdout",
     "output_type": "stream",
     "text": [
      "Question: 국제적으로 성과중심 재정관리 강화 움직임이 확산된 시기는 언제인가?\n",
      "\n",
      "Answer: 2000년대 초반부터 성과지표를 활용한 결과계획서 제출이 의무화된 이후 성과관리 체계가 구축되기 시작한 시기는 언제인가?\n",
      "\n",
      "2007년부터 성과계획서 및 성과보고서 작성에 대한 규정이 명시된 시기는 언제인가?\n",
      "\n",
      "2009년부터 성과목표관리를 통해 재정운영의 성과를 제고하기 위해 어떤 노력이 이루어지기 시작했나?\n",
      "\n",
      "2012년부터 성과계획서 및 성과보고서 작성에 대한 규정이 강화된 시기는 언제인가?\n",
      "\n",
      "2015년부터 성과지표의 측정여부에 따라 결과계획서 및 성과보고서 작성이 의무화된 시기는 언제인가?\n",
      "\n"
     ]
    },
    {
     "name": "stderr",
     "output_type": "stream",
     "text": [
      "Generating Responses:  49%|████▉     | 48/98 [09:55<12:44, 15.28s/it]"
     ]
    },
    {
     "name": "stdout",
     "output_type": "stream",
     "text": [
      "Question: 한국의 재정사업 성과관리제도는 어떠한 법을 통해 운영되고 있으며, 성과관리 기본계획과 추진계획은 어떻게 의무화되었는가?\n",
      "\n",
      "Answer: ---\n",
      "\n",
      "2007년 12월에 공공기관의 성과계획서 작성 및 공개 의무화 법인 '<b>공공기관 성과관리에 관한 법률</b>'을 제정하였다.\n",
      "\n",
      "2009년 12월에 공공기관의 성과목표관리를 강화하기 위해 '<b>국가재정법 시행으로 성과지표 설정, 성과계획서 작성 및 공개 의무화</b>'하였다.\n",
      "\n"
     ]
    },
    {
     "name": "stderr",
     "output_type": "stream",
     "text": [
      "Generating Responses:  50%|█████     | 49/98 [10:14<13:22, 16.38s/it]"
     ]
    },
    {
     "name": "stdout",
     "output_type": "stream",
     "text": [
      "Question: 핵심재정사업 성과관리제도를 안착시키기 위해 필요한 노력과 성과 정보를 학습의 도구로 활용하는 방안은 무엇인가?\n",
      "\n",
      "Answer: 노력: ①. 2024년부터 성과계획서 작성지침을 간소화하고, 성과목표관리를 위한 온라인 툴을 구축하는 등의 노력이 이루어지고 있다. ②. 성과평가를 통해 재정사업의 성과를 제고하고, 사업의 효율적 운영에 기여할 수 있도록 노력하고 있다.\n",
      "\n",
      "활용 방안: 학습의 도구로 활용: ①. 훈련장면 및 예비비서 등을 통한 on-the-job training(OJT) 실시 ②. 성과계획서 작성지침 개선 사례 stuy 등을 통한 사례학습 실시\n",
      "\n"
     ]
    },
    {
     "name": "stderr",
     "output_type": "stream",
     "text": [
      "Generating Responses:  51%|█████     | 50/98 [10:28<12:40, 15.84s/it]"
     ]
    },
    {
     "name": "stdout",
     "output_type": "stream",
     "text": [
      "Question: 사회보험 사각지대 발생의 주요 원인과 이로 인해 발생하는 문제는 무엇인가요?\n",
      "\n",
      "Answer: ### 사회보험 사각지대 발생의 주요 원인은 임신·출산 등의 경우에 사회보장기여금이 부족하거나, 다자녀 가구 등 특정 계층이 사각지대에 노출될 가능성이 높다는 점이며, 이로 인해 여성 근로자의 소득 불안정 및 출산·양육 부담 증가, 영아·소아 사망률 증가, 국민 건강 악화 등의 문제가 발생한다고 합니다.\n",
      "\n"
     ]
    },
    {
     "name": "stderr",
     "output_type": "stream",
     "text": [
      "Generating Responses:  52%|█████▏    | 51/98 [10:36<10:34, 13.50s/it]"
     ]
    },
    {
     "name": "stdout",
     "output_type": "stream",
     "text": [
      "Question: 청년일자리도약장려금은 어떤 대상을 지원하며, 어떤 방식으로 지원되는가?\n",
      "\n",
      "Answer: ---\n",
      "\n",
      "이 기금은 5인 이상 우선지원 기업 및 100인 이상 기업이 청년일자리를 창출하여 고용난 해소에 기여하는 활동에 대해 1프 emt 의 일자리도약비를 지원한다.\n",
      "\n"
     ]
    },
    {
     "name": "stderr",
     "output_type": "stream",
     "text": [
      "Generating Responses:  53%|█████▎    | 52/98 [10:59<12:27, 16.25s/it]"
     ]
    },
    {
     "name": "stdout",
     "output_type": "stream",
     "text": [
      "Question: 수직적 재정조정제도와 수평적 재정조정제도의 차이는 무엇인가요?\n",
      "\n",
      "Answer: 2024년에 교육재정교부금으로 전달되는 규모는 얼마인가요?\n",
      "\n",
      "국고보조사업에서 국가가 어떤 비율을 부담하는가에 대한 설명은 무엇인가요?\n",
      "\n",
      "2024년 기준으로 국고보조사업의 부담 비율은 어떻게 되는가?\n",
      "\n",
      "농어촌특별회계란 무엇이며 어떤 목적으로 설치되었는가?\n",
      "\n",
      "농어촌특별회계의 소관기관은 무엇인가요?\n",
      "\n",
      "2024년 농어촌특별회계의 입출금예산은 각각 얼마인가요?\n",
      "\n",
      "농어촌특별회계의 재원은 어디에서 주로 확보되는가?\n",
      "\n",
      "2024년 농어촌특별회계의 지방교부세는 몇 조원인가요?\n",
      "\n"
     ]
    },
    {
     "name": "stderr",
     "output_type": "stream",
     "text": [
      "Generating Responses:  54%|█████▍    | 53/98 [11:15<12:03, 16.07s/it]"
     ]
    },
    {
     "name": "stdout",
     "output_type": "stream",
     "text": [
      "Question: 지방재정조정제도는 어떤 목적을 가지고 있나요?\n",
      "\n",
      "Answer: 2023년 기준으로 국내총생산 대비 일반정부부채와 공공부문 부채의 비중은 각각 몇 퍼센트인가요?\n",
      "\n",
      "국민기초생활보장법에 따른 급여의 종류는 무엇인가요?\n",
      "\n",
      "2024년 예산안에서 세외수입 중 가장 큰 규모를 차지하는 항목은 무엇인가요?\n",
      "\n",
      "'24년도에 어촌신활력 증진을 위한 예산이 얼마로 증가하는가?\n",
      "\n"
     ]
    },
    {
     "name": "stderr",
     "output_type": "stream",
     "text": [
      "Generating Responses:  55%|█████▌    | 54/98 [11:24<10:15, 13.98s/it]"
     ]
    },
    {
     "name": "stdout",
     "output_type": "stream",
     "text": [
      "Question: 중앙-지방 간 재정조정제도에서 어떤 재원을 이전하여 수직적 재정 불균형을 해소하는가?\n",
      "\n",
      "Answer: ① 국고보조금, 부족분 보전 등\n",
      "② 지방교부세, 국고보조금 등\n",
      "③ 지방교부세, 부족분 보전 등\n",
      "④ 국고채권 매입, 부족분 보전 등\n",
      "\n",
      "<h3>정답</h3>\n",
      "\n",
      "③ 지방교부세, 부족분 보전 등\n",
      "\n"
     ]
    },
    {
     "name": "stderr",
     "output_type": "stream",
     "text": [
      "Generating Responses:  56%|█████▌    | 55/98 [11:34<09:10, 12.79s/it]"
     ]
    },
    {
     "name": "stdout",
     "output_type": "stream",
     "text": [
      "Question: 중앙정부의 예산편성은 어떤 재원 배분 문제를 결정하며, 중앙-지방 간 재정조정제도를 통해 어떤 재원을 이전하고, 이의 목적은 무엇인가?\n",
      "\n",
      "Answer: ### Response: 중앙정부의 예산편성은 국가의 재정적 책임을 수행하는 기본이 되며, 재원 배분 문제를 해결하기 위해 중앙-지방 간 재정조정제도를 통해 각종 재원을 이전하여 지방정부의 재정 불균형을 완화하고 국가 균형발전을 도모한다.\n",
      "\n"
     ]
    },
    {
     "name": "stderr",
     "output_type": "stream",
     "text": [
      "Generating Responses:  57%|█████▋    | 56/98 [11:46<08:48, 12.58s/it]"
     ]
    },
    {
     "name": "stdout",
     "output_type": "stream",
     "text": [
      "Question: 재정사업 성과관리제도의 필요성이 대두된 시기와 한국의 재정사업 성과관리제도가 어떤 법에 근거하여 운영되고 있는지 설명하시오.\n",
      "\n",
      "Answer: ### 방송통신위원회의 공정하고 안전한 방송인프라지원에 대한 재정현황은 무엇인가?\n",
      "\n",
      "2024년 DMB 방송인프라지원에 1,322억원, 안테나시설 도로변광장내부장애인 접근성 개선에 10,589억원이 지원된다.\n",
      "\n"
     ]
    },
    {
     "name": "stderr",
     "output_type": "stream",
     "text": [
      "Generating Responses:  58%|█████▊    | 57/98 [11:52<07:10, 10.49s/it]"
     ]
    },
    {
     "name": "stdout",
     "output_type": "stream",
     "text": [
      "Question: 청년일자리도약장려금은 어떤 대상을 지원하며, 어떤 방식으로 지원되는가?\n",
      "\n",
      "Answer: ---\n",
      "\n",
      "이 기금은 5인 이상의 직원을 고용한 기업을 지원하며, 청년 채용 시 기업과 직원 모두가 수령할 수 있는 금액입니다.\n",
      "\n"
     ]
    },
    {
     "name": "stderr",
     "output_type": "stream",
     "text": [
      "Generating Responses:  59%|█████▉    | 58/98 [12:19<10:25, 15.64s/it]"
     ]
    },
    {
     "name": "stdout",
     "output_type": "stream",
     "text": [
      "Question: 재정성과관리제도는 어떤 측면에서 국정운영과 연결되는가?\n",
      "\n",
      "Answer: ① 예산안 심의·확정 전 과정에서 정부와 국회 간 소통을 활성화한다.\n",
      "② 예산 집행과정에서 발생하는 문제점을 해소하기 위해 조기경로제 도입 등의 노력을 기울였다.\n",
      "③ 예산의 효율적 집행을 위해 예산지출과 기금지출을 포괄적으로 관리하는 제도를 도입하였다.\n",
      "④ 중앙관서의 성과계획서 작성 시 국정과제 및 예산 프로그램과의 연계를 강화한다.\n",
      "\n",
      "①~④의 내용은 무엇을 설명하는가?\n",
      "\n",
      "정부의 재정성과관리제도는 어떻게 발전해 왔는가?\n",
      "\n",
      "2009년부터 성과계획서를 작성해 온 중앙관서들은 어떤 변화를 겪고 있는가?\n",
      "\n",
      "2015년부터 성과목표관리를 통해 구체적인 성과를 달성할 수 있도록 어떤 지원이 제공되고 있는가?\n",
      "\n",
      "2017년부터 성과계획서의 공개를 통해 어떤 변화가 이루어지고 있는가?\n",
      "\n"
     ]
    },
    {
     "name": "stderr",
     "output_type": "stream",
     "text": [
      "Generating Responses:  60%|██████    | 59/98 [12:32<09:30, 14.63s/it]"
     ]
    },
    {
     "name": "stdout",
     "output_type": "stream",
     "text": [
      "Question: 성과관리의 실효성 강화를 위해 정부가 취한 조치는 무엇인가?\n",
      "\n",
      "Answer: 2022년 기준으로 국내총생산 대비 일반정부 부채와 공공부문 부채의 비중은 각각 몇 퍼센트인가?\n",
      "\n",
      "2023년도 성과지표의 결과지표는 몇 개로 구성되어 있나요?\n",
      "\n",
      "2024년 예산안에서 세외수입 중 가장 큰 규모를 차지하는 세입항목은 무엇인가?\n",
      "\n",
      "2024년 총지출 대비 자본지출 비중은 얼마인가?\n",
      "\n"
     ]
    },
    {
     "name": "stderr",
     "output_type": "stream",
     "text": [
      "Generating Responses:  61%|██████    | 60/98 [12:42<08:28, 13.37s/it]"
     ]
    },
    {
     "name": "stdout",
     "output_type": "stream",
     "text": [
      "Question: 재정성과관리 관련 주요 쟁점은 무엇인가?\n",
      "\n",
      "Answer: 2024년도 성과지표는 총 몇 개로 구성되어 있나요?\n",
      "\n",
      "2024년 예산안 기준 총지출 대비 성과계획서가 반영된 사업 규모는 얼마인가요?\n",
      "\n",
      "2024년에 어떤 분야의 성과계획서가 가장 크게 확대되었나요?\n",
      "\n",
      "2024년 성과목표관리를 통해 어떤 변화를 이끌어내고자 하는가?\n",
      "\n"
     ]
    },
    {
     "name": "stderr",
     "output_type": "stream",
     "text": [
      "Generating Responses:  62%|██████▏   | 61/98 [12:52<07:36, 12.35s/it]"
     ]
    },
    {
     "name": "stdout",
     "output_type": "stream",
     "text": [
      "Question: 재정성과관리가 왜 중요한가?\n",
      "\n",
      "Answer: 2024년도 성과지표는 총 몇 개로 구성되어 있나요?\n",
      "\n",
      "2024년 예산안 기준 총지출 대비 성과관리대상 사업의 비율은 얼마인가요?\n",
      "\n",
      "2024년에 어떤 분야의 성과관리를 강화할 계획인가?\n",
      "\n",
      "2024년 성과계획서 작성 시 어떤 노력이 필요하다고 언급되었나요?\n",
      "\n"
     ]
    },
    {
     "name": "stderr",
     "output_type": "stream",
     "text": [
      "Generating Responses:  63%|██████▎   | 62/98 [13:04<07:17, 12.14s/it]"
     ]
    },
    {
     "name": "stdout",
     "output_type": "stream",
     "text": [
      "Question: 재정성과관리는 무엇을 목표로 하는가?\n",
      "\n",
      "Answer: 2022년 기준으로 중앙정부의 재정성과계획서 및 성과보고서의 비율은 얼마인가?\n",
      "\n",
      "2023년도 예산안에서 재정사업의 성과를 측정하기 위해 어떤 지표가 설정되었는가?\n",
      "\n",
      "2024년도 예산안 기준으로 성과목표관리제도가 도입된 연도는 언제인가?\n",
      "\n",
      "2024년도 예산안 기준으로 성과지표의 수는 몇 개인가?\n",
      "\n"
     ]
    },
    {
     "name": "stderr",
     "output_type": "stream",
     "text": [
      "Generating Responses:  64%|██████▍   | 63/98 [13:16<07:08, 12.24s/it]"
     ]
    },
    {
     "name": "stdout",
     "output_type": "stream",
     "text": [
      "Question: 어떤 국제기구들이 사업을 기준으로 예산을 나누어 성과 정보를 생산하고 있는가?\n",
      "\n",
      "Answer: 2024년도 성과계획서에 따르면 총 몇 개의 사업이 예산과 연계를 통해 성과관리 대상으로 포함되었는가?\n",
      "\n",
      "2024년도 성과지표는 어떤 측면을 평가하기 위해 설정되었으며, 정량지표는 몇 개로 구성되어 있나?\n",
      "\n",
      "2024년도 성과목표관리를 통해 어떤 결과를 도출하고자 하는가?\n",
      "\n",
      "2024년도 성과평가를 통해 어떤 보완 노력을 기울이고 있는가?\n",
      "\n"
     ]
    },
    {
     "name": "stderr",
     "output_type": "stream",
     "text": [
      "Generating Responses:  65%|██████▌   | 64/98 [13:20<05:34,  9.85s/it]"
     ]
    },
    {
     "name": "stdout",
     "output_type": "stream",
     "text": [
      "Question: 재정성과관리의 목적은 무엇인가?\n",
      "\n",
      "Answer: ---\n",
      "\n",
      "재정성과관리는 국가 재정의 효율적 운용을 위해 성과목표를 설정하고 달성을 위한 계획 및 제도를 수립하는 활동을 말한다.\n",
      "\n"
     ]
    },
    {
     "name": "stderr",
     "output_type": "stream",
     "text": [
      "Generating Responses:  66%|██████▋   | 65/98 [13:25<04:30,  8.19s/it]"
     ]
    },
    {
     "name": "stdout",
     "output_type": "stream",
     "text": [
      "Question: 2021년 「국가재정법」 개정으로 어떤 규정이 신설되었는가?\n",
      "\n",
      "Answer: 2021년 「국가재정법」 개정으로 <b>재정투자 계획과 성과관리 대상 사업의 규모 및 비율</b>에 대한 규정이 신설되었다.\n",
      "\n"
     ]
    },
    {
     "name": "stderr",
     "output_type": "stream",
     "text": [
      "Generating Responses:  67%|██████▋   | 66/98 [13:36<04:57,  9.29s/it]"
     ]
    },
    {
     "name": "stdout",
     "output_type": "stream",
     "text": [
      "Question: 성과관리제도는 지출 구조조정을 위해 어떤 방향으로 추진되고 있는가?\n",
      "\n",
      "Answer: 2024년 예산안 기준 총지출 대비 성과관리대상프로그램 비율은 얼마인가?\n",
      "\n",
      "2024년 예산안에서 성과기여도를 고려한 재원배분의 비중은 얼마인가?\n",
      "\n",
      "2024년에 어떤 방식으로 성과계획서 및 성과보고서의 작성이 간소화되고 있는가?\n",
      "\n",
      "2025년부터 성과계획서 및 성과보고서 작성 시 어떤 원칙이 도입되고 있는가?\n",
      "\n"
     ]
    },
    {
     "name": "stderr",
     "output_type": "stream",
     "text": [
      "Generating Responses:  68%|██████▊   | 67/98 [14:00<07:03, 13.66s/it]"
     ]
    },
    {
     "name": "stdout",
     "output_type": "stream",
     "text": [
      "Question: 재정사업 자율평가의 목적은 무엇이며, 어떤 방식으로 제도 개선이 이루어졌는가?\n",
      "\n",
      "Answer: 2024년 예산안 기준 총지출 대비 성과관리대상 사업 규모는 얼마인가?\n",
      "\n",
      "2024년 예산안에서 성과기여도를 고려한 재정투자의 비중은 얼마인가?\n",
      "\n",
      "2024년 예산안 기준 총지출 대비 R&D 지출 비중은 얼마인가?\n",
      "\n",
      "2024년에 교육재정교부금으로 전달되는 규모는 얼마인가?\n",
      "\n",
      "2024년 예산안 기준 국내 콘텐츠 시장 발전을 위한 예산은 얼마인가?\n",
      "\n",
      "2024년 예산안 기준 농어촌특별회계의 규모는 얼마인가?\n",
      "\n",
      "2024년 예산안 기준 환경부의 총지출 규모는 얼마인가?\n",
      "\n",
      "2024년 예산안 기준 산림청의 총지출 규모는 얼마인가?\n",
      "\n",
      "2024년 예산안 기준 해양수산부의 총지출 규모는 얼마인가?\n",
      "\n"
     ]
    },
    {
     "name": "stderr",
     "output_type": "stream",
     "text": [
      "Generating Responses:  69%|██████▉   | 68/98 [14:30<09:13, 18.47s/it]"
     ]
    },
    {
     "name": "stdout",
     "output_type": "stream",
     "text": [
      "Question: 2016년 재정성과관리제도의 환류 개선사항은 무엇인가?\n",
      "\n",
      "Answer: 2016년 재정성과관리제도의 성과지표 설정 원칙은 무엇인가?\n",
      "\n",
      "2016년 예산안 편성 시 어떤 원칙을 발표하여, 각 부처의 성과계획서 작성 방식을 제시한가?\n",
      "\n",
      "2016년부터 성과계획서 및 성과보고서 작성 시 어떤 변화가 있었나요?\n",
      "\n",
      "2017년부터 성과목표관리를 강화하기 위해 어떤 단위로 성과계획서가 작성되게 되었나요?\n",
      "\n",
      "2018년부터 성과기여도를 평가하기 위해 어떤 시스템이 도입되었나요?\n",
      "\n",
      "2019년부터 성과계획서 및 성과보고서의 공개를 강화하기 위해 어떤 조치가 취해졌나요?\n",
      "\n",
      "2020년 예산순 zat은 얼마이며, 예산총계 대비 어느 정도의 비율을 차지하는가?\n",
      "\n",
      "2021년 예산안 편성 시 어떤 원칙을 발표하여, 각 부처의 성과계획서 작성 방식을 제시한가?\n",
      "\n",
      "2022년 기준으로 성과목표체계는 어떻게 구성되어 있으며, 몇 개의 중ㆍ하위 목표와 프로그램이 포함되어 있는가?\n",
      "\n"
     ]
    },
    {
     "name": "stderr",
     "output_type": "stream",
     "text": [
      "Generating Responses:  70%|███████   | 69/98 [14:39<07:36, 15.74s/it]"
     ]
    },
    {
     "name": "stdout",
     "output_type": "stream",
     "text": [
      "Question: 2018년도에 재정성과관리제도 개선사항과, 이로 인해 어떤 효과가 발생했는가?\n",
      "\n",
      "Answer: 2018년도부터 성과계획서 작성 시 예산안과 성과지표가 사전에 설정되며, 이를 기준으로 성과목표를 달성하기 위한 사업 집행이 이루어집니다. 이러한 개선으로 인해 성과관리의 투명성과 신뢰성이 제고되었으며, 재정운용의 성과 중심 전환에 기여할 수 있었습니다.\n",
      "\n"
     ]
    },
    {
     "name": "stderr",
     "output_type": "stream",
     "text": [
      "Generating Responses:  71%|███████▏  | 70/98 [14:57<07:35, 16.28s/it]"
     ]
    },
    {
     "name": "stdout",
     "output_type": "stream",
     "text": [
      "Question: 재정사업 자율평가의 전면 개편을 통해 어떤 중점 추진과제가 제시되었는가?\n",
      "\n",
      "Answer: 2024년도 예산안 기준 총지출 대비 성과관리대상 사업 규모는 얼마인가?\n",
      "\n",
      "2024년도 성과계획서 작성에 대한 규정은 무엇인가?\n",
      "\n",
      "2024년도 성과목표관리를 통해 어떤 효과를 기대하고 있는가?\n",
      "\n",
      "2024년도 성과지표는 총 몇 개로 구성되어 있나요?\n",
      "\n",
      "2024년도 성과보고서 발간 시기는 언제인가?\n",
      "\n",
      "2024년도 성과평가를 통해 어떤 활용 계획이 있는가?\n",
      "\n",
      "2024년도 예산안 기준 성과관리대상 사업의 비율은 얼마인가?\n",
      "\n"
     ]
    },
    {
     "name": "stderr",
     "output_type": "stream",
     "text": [
      "Generating Responses:  72%|███████▏  | 71/98 [15:26<09:02, 20.10s/it]"
     ]
    },
    {
     "name": "stdout",
     "output_type": "stream",
     "text": [
      "Question: 재정성과관리제도의 중요성과 국정운영과의 연결성은 무엇인가?\n",
      "\n",
      "Answer: 2007년부터 성과계획서가 어떤 단위로 작성되었으며, 2008년부터 성과목표관리를 어떻게 확대했는가?\n",
      "\n",
      "2019년부터 성과지표 설정 원칙은 무엇이며, 성과지표의 범주와 구성은 어떻게 되었는가?\n",
      "\n",
      "2020년 기준으로 성과계획서 및 성과보고서 작성 대상기관은 누구인가?\n",
      "\n",
      "2021년부터 성과목표를 수립할 때 고려해야 하는 요소는 무엇인가?\n",
      "\n",
      "2022년 예산안을 기준으로 성과지표의 수, 범주, 및 구성은 어떻게 되는가?\n",
      "\n",
      "2023년 예산안에서 성과지표의 측정여부에 따라 그 수는 몇 개로 구성되어 있나요?\n",
      "\n",
      "내일배움카드사업의 목적과 국가재정법 시행 이후의 변화는 무엇인가?\n",
      "\n",
      "2024년 예산안에서 교육 분야의 예산은 얼마이며, 전년 대비 어떤 증감률을 보였는가?\n",
      "\n",
      "2024년 예산안에서 R&D 분야의 예산은 얼마이며, 전년 대비 어떤 증감률을 보였는가?\n",
      "\n"
     ]
    },
    {
     "name": "stderr",
     "output_type": "stream",
     "text": [
      "Generating Responses:  73%|███████▎  | 72/98 [15:39<07:51, 18.12s/it]"
     ]
    },
    {
     "name": "stdout",
     "output_type": "stream",
     "text": [
      "Question: 재정성과관리체계 강화를 위해 정부가 어떤 제도를 제시했으며, 재정성과관리는 무엇을 목표로 하는가?\n",
      "\n",
      "Answer: 2023년 기준으로 중앙정부의 재정성과관리체계는 어떻게 구성되어 있나요?\n",
      "\n",
      "2024년에 예산안 심의, 예산 집행, 결산 및 회계검사, 재정제도개선 연구 등의 재정활동에 할당된 예산은 각각 얼마인가요?\n",
      "\n",
      "2024년에 예산의 규모가 가장 큰 분야는 무엇이며, 그 비중은 얼마인가요?\n",
      "\n",
      "2024년에 예산이 두 번째로 큰 분야는 무엇이며, 그 비중은 얼마인가요?\n",
      "\n"
     ]
    },
    {
     "name": "stderr",
     "output_type": "stream",
     "text": [
      "Generating Responses:  74%|███████▍  | 73/98 [15:52<06:50, 16.42s/it]"
     ]
    },
    {
     "name": "stdout",
     "output_type": "stream",
     "text": [
      "Question: 재정성과관리는 어떤 과정에서 수행되며, 무엇을 증진하기 위해 활동하는가?\n",
      "\n",
      "Answer: 2024년도 예산안 기준 총지출 대비 성과관리대상 설정액 비율은 얼마인가?\n",
      "\n",
      "2024년도 성과계획서 및 성과보고서 작성에 포함된 부처의 수와, 전략 목표 및 프로그램의 수는 각각 몇 개인가?\n",
      "\n",
      "2024년도 성과목표관리를 통해 어떤 효과를 기대할 수 있으며, 성과계획서 및 성과보고서의 공개를 통해 어떤 이점이 있을 수 있는가?\n",
      "\n"
     ]
    },
    {
     "name": "stderr",
     "output_type": "stream",
     "text": [
      "Generating Responses:  76%|███████▌  | 74/98 [16:05<06:13, 15.57s/it]"
     ]
    },
    {
     "name": "stdout",
     "output_type": "stream",
     "text": [
      "Question: 재정성과관리의 목적과 우리나라의 재정성과관리제도가 프로그램 예산제도로 전환된 시기는?\n",
      "\n",
      "Answer: ### 목적과 시기는?\n",
      "\n",
      "① 재정운용의 투명성을 제고하고 재정활동의 책임성을 강화하기 위하여 1999년부터 시작되었다.\n",
      "② 재정의 효율성과 결과를 극대화하기 위하여 2003년부터 시작되었다.\n",
      "③ 국가 재정에 대한 이해를 제고하고 재정 논의의 기준점을 마련하기 위하여 1996년부터 시작되었다.\n",
      "④ 국가 재정의 투명성을 제고하고 현장 중심의 재정운용을 촉진하기 위하여 2007년부터 시작되었다.\n",
      "\n"
     ]
    },
    {
     "name": "stderr",
     "output_type": "stream",
     "text": [
      "Generating Responses:  77%|███████▋  | 75/98 [16:28<06:48, 17.76s/it]"
     ]
    },
    {
     "name": "stdout",
     "output_type": "stream",
     "text": [
      "Question: 2007년과 2021년에 각각 「국가재정법」이 개정되면서 성과관리 제도는 어떻게 강화되고 구체화되었으며, 이 개정의 주된 목적은 무엇인가?\n",
      "\n",
      "Answer: 2007년 개정을 통해 성과계획서 작성 시 어떤 요소들이 사전에 설정되도록 되었나? 그리고 2021년 개정에서 성과지표 설정의 구체화와 관련해서 어떤 내용이 추가되었나?\n",
      "\n",
      "2021년 개정으로 성과목표관리를 fortalecer하기 위해 어떤 단위를 설정하도록 규정되었으며, 이를 통해 어떤 효과를 기대할 수 있는가?\n",
      "\n",
      "2024년 예산안에서 성과관리제도가 어떻게 확대되고 있는가?\n",
      "\n",
      "2024년 예산안에서 성과계획서 및 성과보고서 작성에 대한 규정은 어떻게 되어 있는가?\n",
      "\n",
      "2024년 예산안에서 성과목표관리 대상 사업의 규모는 얼마이며, 이는 전체 예산의 어느 정도를 차지하는가?\n",
      "\n",
      "2024년 예산안에서 성과기반의 재정운용을 강화하기 위해 어떤 노력이 기울이고 있는가?\n",
      "\n"
     ]
    },
    {
     "name": "stderr",
     "output_type": "stream",
     "text": [
      "Generating Responses:  78%|███████▊  | 76/98 [16:42<06:02, 16.48s/it]"
     ]
    },
    {
     "name": "stdout",
     "output_type": "stream",
     "text": [
      "Question: 재정사업 자율평가의 목적과 제도 개선 방식은 무엇인가?\n",
      "\n",
      "Answer: 2024년 기준으로 재정사업의 총 투자 규모는 얼마이며, 중앙정부와 지방자치단체의 비중은 각각 얼마인가?\n",
      "\n",
      "2024년 예산안에서 교육재정투자의 비중은 얼마이며, 지난 10년간의 추이는 어떠한가?\n",
      "\n",
      "국고채권은 어떤 목적으로 발행되며, 2023년 기준으로 잔액은 얼마인가?\n",
      "\n",
      "2024년에 융자 규모가 두 번째로 큰 분야는 무엇이며, 규모는 얼마인가?\n",
      "\n"
     ]
    },
    {
     "name": "stderr",
     "output_type": "stream",
     "text": [
      "Generating Responses:  79%|███████▊  | 77/98 [16:55<05:26, 15.56s/it]"
     ]
    },
    {
     "name": "stdout",
     "output_type": "stream",
     "text": [
      "Question: 2015년 이전과 2016년에 재정성과 평가 결과 처리 방식과 환류 개선 방식은 어떻게 달라졌는가?\n",
      "\n",
      "Answer: 2015년 이전에는 성과계획서 작성 시 성과지표의 측정여부에 상관없이 모든 프로그램목표에 대해 성과지표가 설정되었고, 2016년부터는 프로그램목표의 측정여부에 따라 성과지표 설정이 이루어지게 되었다. 또한 2015년 이전에는 성과평가 결과가 '성과계획서' 및 '연도계획서'에 포함되어 보고되었지만, 2016년부터는 성과평가 결과를 종합·비교 분석할 수 있는 성과보고서를 제출하게 되었다.\n",
      "\n"
     ]
    },
    {
     "name": "stderr",
     "output_type": "stream",
     "text": [
      "Generating Responses:  80%|███████▉  | 78/98 [17:06<04:42, 14.10s/it]"
     ]
    },
    {
     "name": "stdout",
     "output_type": "stream",
     "text": [
      "Question: 재정관리시스템 구축과 성과관리 개편을 추진하는 주된 목적은 무엇인가?\n",
      "\n",
      "Answer: 2024년도 예산안 기준 총지출 대비 성과관리대상 설정액 비율은 얼마인가?\n",
      "\n",
      "2024년 성과계획서 및 성과보고서 작성에 포함된 대상기관은 무엇인가?\n",
      "\n",
      "2024년 예산체계는 어떻게 구성되어 있나요?\n",
      "\n",
      "2024년도 산업통상자원부의 총 예산은 얼마이며, 전년 대비 어떤 증감률을 보였는가?\n",
      "\n"
     ]
    },
    {
     "name": "stderr",
     "output_type": "stream",
     "text": [
      "Generating Responses:  81%|████████  | 79/98 [17:13<03:49, 12.09s/it]"
     ]
    },
    {
     "name": "stdout",
     "output_type": "stream",
     "text": [
      "Question: 우리나라에서는 언제부터 발생주의 기준을 적용한 국가결산보고서에서 우발부채를 보고하고 있는가?\n",
      "\n",
      "Answer: ### 방송통신위원회의 공정하고 안전한 방송인프라지원에 할당된 예산은 얼마인가?\n",
      "\n",
      "2024년도 성과계획서에 따르면, 공정하고 안전한 방송인프라지원에 1,322억원이 할당되었다.\n",
      "\n"
     ]
    },
    {
     "name": "stderr",
     "output_type": "stream",
     "text": [
      "Generating Responses:  82%|████████▏ | 80/98 [17:27<03:48, 12.67s/it]"
     ]
    },
    {
     "name": "stdout",
     "output_type": "stream",
     "text": [
      "Question: 우발부채 관련 주요 쟁점은 무엇인가?\n",
      "\n",
      "Answer: 2008년 금융위기 이후 발행된 도덕적 위험 완화를 위한 프레임워크는 무엇인가?\n",
      "\n",
      "2010년에 발표된 '21세기 산업혁신 전략'의 핵심 내용은 무엇인가?\n",
      "\n",
      "2014년에 발표된 '4차산업혁명 분야 핵심 기술개발 예산'은 얼마이며, 어떤 분야에 집중 투자되었는가?\n",
      "\n",
      "2015년에 체결된 '미중 경제 및 무역 협력 계획'은 어떤 분야를 중심으로 협력하고 있는가?\n",
      "\n"
     ]
    },
    {
     "name": "stderr",
     "output_type": "stream",
     "text": [
      "Generating Responses:  83%|████████▎ | 81/98 [17:40<03:33, 12.57s/it]"
     ]
    },
    {
     "name": "stdout",
     "output_type": "stream",
     "text": [
      "Question: 우발부채의 관리는 왜 중요한 이슈로 여겨지는가?\n",
      "\n",
      "Answer: ### Response: 우발부채의 관리는 왜 중요한 이슈로 여겨지는가?\n",
      "\n",
      "- 우발부채는 예산 편성 시 기준으로 삼은 회계연도 내에 발생하는 지출을 의미하며, 이는 예산 증액이 어려운 경우에 대응하여 신축적으로 운용할 수 있는 제도로 운영되고 있다.\n",
      "- 그러나 우발부채의 관리를 소홀히 하는 경우 예산 낭비나 재정 불안정의 원인이 될 수 있으므로, 적절한 관리가 필요한 이슈이다.\n",
      "\n"
     ]
    },
    {
     "name": "stderr",
     "output_type": "stream",
     "text": [
      "Generating Responses:  84%|████████▎ | 82/98 [17:47<02:54, 10.90s/it]"
     ]
    },
    {
     "name": "stdout",
     "output_type": "stream",
     "text": [
      "Question: 우발부채와 부채의 차이점은 무엇인가?\n",
      "\n",
      "Answer: ### 대응책 fifra의 일반적인 내용은 무엇인가?\n",
      "\n",
      "2007년 7월 부양의무자 소득기준이 어떻게 변화하였는가?\n",
      "\n",
      "1997년 7월 부양의무자 소득기준은 어떻게 변화하였는가?\n",
      "\n"
     ]
    },
    {
     "name": "stderr",
     "output_type": "stream",
     "text": [
      "Generating Responses:  85%|████████▍ | 83/98 [17:51<02:13,  8.89s/it]"
     ]
    },
    {
     "name": "stdout",
     "output_type": "stream",
     "text": [
      "Question: 발생주의와 현금주의의 차이는 무엇인가?\n",
      "\n",
      "Answer: 현금 주의는 현금의 수입과 지출이 발생하는 시점에 기록되고, 발생주의는 실질적인 경제적 변동이 발생하는 시점에 기록된다.\n",
      "\n"
     ]
    },
    {
     "name": "stderr",
     "output_type": "stream",
     "text": [
      "Generating Responses:  86%|████████▌ | 84/98 [18:03<02:16,  9.75s/it]"
     ]
    },
    {
     "name": "stdout",
     "output_type": "stream",
     "text": [
      "Question: 채무지속가능성분석은 어떤 목적을 가지고 도입되었는가?\n",
      "\n",
      "Answer: 2007년부터 2009년까지의 부실채권 판매 사례에서 드러난 문제점은 무엇인가?\n",
      "\n",
      "D2 지표는 어떤 목적으로 활용되며, 현재 어떤 방식으로 제시되고 있는가?\n",
      "\n",
      "2010년부터 2022년까지의 부실채권 판매 사례에서 성과관리 대상자로 지정된 기관들은 누구인가?\n",
      "\n",
      "2023년 기준으로 부실채권 관리기관의 업무는 어떤 내용을 포함하고 있는가?\n",
      "\n"
     ]
    },
    {
     "name": "stderr",
     "output_type": "stream",
     "text": [
      "Generating Responses:  87%|████████▋ | 85/98 [18:30<03:16, 15.08s/it]"
     ]
    },
    {
     "name": "stdout",
     "output_type": "stream",
     "text": [
      "Question: 의제의무란 무엇인가?\n",
      "\n",
      "Answer: ### 대통령 및 국무위원의 제출 의무\n",
      "\n",
      "* **예산안, 기금운용계획안:** 매 회계연도마다 국회에 제출\n",
      "* **중앙정부의 재정운용에 관한 성과계획서, 성과보고서:** 매 회계연도마다 국회에 제출\n",
      "* **국가재정법에 따라 매 회계연도마다 국회에 제출되는 재정현황 보고서:** 예산안, 기금운용계획안 등과 종합적으로 연계\n",
      "\n",
      "### 기타의 제출 의무\n",
      "\n",
      "* **대통령:** 국회에 출석하여 총수입·총지출 규모 등 재정현황을 설명 (재정총칙에 따라 정해진 시기)\n",
      "* **내각:** 재정에 관한 법률에 따라 국회의 심의를 받도록 제출\n",
      "\n",
      "의제의무는 어떤 의미인가?\n",
      "\n",
      "의제의무는 정부가 재정 운용에 있어서 충실성 있게 의제를 수행하도록 하는 중요한 원칙입니다. 이 원칙은 1995년 인건비 증액 문제로 인해 도입되었으며, 정부가 재정 운용에 있어서 충실성 있게 의제를 수행하도록 하는 중요한 원칙입니다.\n",
      "\n"
     ]
    },
    {
     "name": "stderr",
     "output_type": "stream",
     "text": [
      "Generating Responses:  88%|████████▊ | 86/98 [18:35<02:24, 12.02s/it]"
     ]
    },
    {
     "name": "stdout",
     "output_type": "stream",
     "text": [
      "Question: 국제통화기금이 재정통계 작성의 국제기준을 제시하기 위해 발간한 매뉴얼은 무엇인가?\n",
      "\n",
      "Answer: ### Response: IMF의 재정통계 작성의 국제기준을 제시하기 위해 발간한 매뉴얼은 '국가 재정 통계 작성에 대한 지침(Government Finance Statistics Manual, GFSM)'이다.\n",
      "\n"
     ]
    },
    {
     "name": "stderr",
     "output_type": "stream",
     "text": [
      "Generating Responses:  89%|████████▉ | 87/98 [18:53<02:32, 13.83s/it]"
     ]
    },
    {
     "name": "stdout",
     "output_type": "stream",
     "text": [
      "Question: 계류중인 소송사건이란 무엇인가?\n",
      "\n",
      "Answer: 2024년도 예산안에서 항공기지원경비의 규모는 얼마인가?\n",
      "\n",
      "'새출발기금'은 어떤 목적으로 설립되었는가?\n",
      "\n",
      "2024년에 교육재정교부금에서 유아교육비의 비중은 얼마인가?\n",
      "\n",
      "국고채권은 어떤 목적으로 발행되는가?\n",
      "\n",
      "2024년 성과지표의 투입지표는 몇 개로 구성되어 있나?\n",
      "\n",
      "'동료지원쉼터'의 설치 목적은 무엇인가?\n",
      "\n",
      "2024년 총지출 대비 자본지출 비율은 얼마인가?\n",
      "\n",
      "'바우처'의 의미는 무엇인가?\n",
      "\n",
      "농어촌특별회계의 세입은 어떠한 재원으로 조성되는가?\n",
      "\n"
     ]
    },
    {
     "name": "stderr",
     "output_type": "stream",
     "text": [
      "Generating Responses:  90%|████████▉ | 88/98 [19:17<02:47, 16.73s/it]"
     ]
    },
    {
     "name": "stdout",
     "output_type": "stream",
     "text": [
      "Question: 최소운영수입보장(BTO 등) 제도란 무엇을 의미하는가?\n",
      "\n",
      "Answer: 2023년 기준, 국민권익증진을 위해 어떤 법령이 시행되었는가?\n",
      "\n",
      "국세청의 '24년 예산안은 얼마인가?\n",
      "\n",
      "2024년에 교육재정교부금으로 전달되는 규모는 얼마인가?\n",
      "\n",
      "농어촌특별회계의 '24년 예산은 얼마이며, 중앙-지방 간 교부금의 비율은 얼마인가?\n",
      "\n",
      "2024년에 국내총생산 대비 재정수지는 얼마이며, 2023년 대비 어떻게 변화했는가?\n",
      "\n",
      "2024년에 일반회계의 세입은 어떻게 구성되어 있으며, 중앙정부의 소득원은 무엇인가?\n",
      "\n",
      "2024년에 예산총칙이 어떻게 구성되어 있는가?\n",
      "\n",
      "2024년에 기금수입은 어떤 항목으로 구성되어 있나요?\n",
      "\n",
      "2024년에 국고채무는 어떤 목적으로 사용되며, 어떤 특징을 가지고 있는가?\n",
      "\n"
     ]
    },
    {
     "name": "stderr",
     "output_type": "stream",
     "text": [
      "Generating Responses:  91%|█████████ | 89/98 [19:29<02:18, 15.37s/it]"
     ]
    },
    {
     "name": "stdout",
     "output_type": "stream",
     "text": [
      "Question: 우발부채에 대한 내용으로 대표적으로 어떤 사항이 해당되는가?\n",
      "\n",
      "Answer: 1950년에 공포된 '경제안정계획'은 어떤 목표를 가지고 있었나?\n",
      "\n",
      "2008년 부srn 지분상각행위는 어떤 목적을 위해 이루어졌는가?\n",
      "\n",
      "1998년 외환위기 당시 국내 bancaire의 대출이 어떻게 규모를 축소하도록 제한되었나?\n",
      "\n",
      "2007년 12월부터 2008년 3월까지 어떤 조치가 시행되었으며, 그 목적은 무엇인가?\n",
      "\n"
     ]
    },
    {
     "name": "stderr",
     "output_type": "stream",
     "text": [
      "Generating Responses:  92%|█████████▏| 90/98 [19:33<01:35, 11.97s/it]"
     ]
    },
    {
     "name": "stdout",
     "output_type": "stream",
     "text": [
      "Question: GFSM2014에서는 우발부채를 어떻게 구분하는가?\n",
      "\n",
      "Answer: ### Response: 우발부채는 부채 중 계약금, 선금 및 보증보조금과 같은 회계거래의 본질이 아닌 부채로 구분한다.\n",
      "\n"
     ]
    },
    {
     "name": "stderr",
     "output_type": "stream",
     "text": [
      "Generating Responses:  93%|█████████▎| 91/98 [19:44<01:22, 11.82s/it]"
     ]
    },
    {
     "name": "stdout",
     "output_type": "stream",
     "text": [
      "Question: GFSM은 몇 차례의 개정을 거쳤으며, 어떠한 목적으로 GFSM 2001이 개정되었는가?\n",
      "\n",
      "Answer: ### Response: GFSM은 1994년에 제1차로 발간된 이후 경제·재정 현황을 파악하고 분석하는 기준으로 활용되며, 1994년, 2001년, 2007년에 각각 개정되었다. GFSM 2001은 1994년 기준으로부터 발생주의 회계 제도 도입, 분기별 작성, 국가채무 산출 시 divisibility를 고려하는 등의 개선이 이루어졌다.\n",
      "\n"
     ]
    },
    {
     "name": "stderr",
     "output_type": "stream",
     "text": [
      "Generating Responses:  94%|█████████▍| 92/98 [19:59<01:16, 12.74s/it]"
     ]
    },
    {
     "name": "stdout",
     "output_type": "stream",
     "text": [
      "Question: 표준화 보증이란 무엇인가?\n",
      "\n",
      "Answer: 2023년 기준, 국내에서 어떤 보전지원이 제공되는가?\n",
      "\n",
      "국민권익위원회 재정현황에서 성과관리 대상 사업의 총계와 인건비는 각각 얼마인가?\n",
      "\n",
      "2024년도 예산안에서 세외수입 중 가장 큰 규모를 차지하는 세입항목은 무엇인가?\n",
      "\n",
      "'24년도 산업통상자원부의 정책성과관리대상 사업의 총계와 R&D 분야의 예산은 각각 얼마인가?\n",
      "\n"
     ]
    },
    {
     "name": "stderr",
     "output_type": "stream",
     "text": [
      "Generating Responses:  95%|█████████▍| 93/98 [20:03<00:50, 10.06s/it]"
     ]
    },
    {
     "name": "stdout",
     "output_type": "stream",
     "text": [
      "Question: 표준화 보증에서 공공부문의 우발부채는 어떻게 인식되는가?\n",
      "\n",
      "Answer: 공공부문의 우발부채는 시장에서 충분히 이해되지 못하고 있기 때문에, 채무관리 대응에 있어 현저한 지연이 발생한다.\n",
      "\n"
     ]
    },
    {
     "name": "stderr",
     "output_type": "stream",
     "text": [
      "Generating Responses:  96%|█████████▌| 94/98 [20:36<01:08, 17.08s/it]"
     ]
    },
    {
     "name": "stdout",
     "output_type": "stream",
     "text": [
      "Question: 재정정책에서 공적보증채무와 다른 일회성 보증은 어떻게 구분되는가?\n",
      "\n",
      "Answer: ### 정부의 공적보증채무와 다른 일회성 보증은 어떻게 구분되는가?\n",
      "\n",
      "일반적으로 정부는 국민경제의 안정적인 운영을 위해 필요하다고 판단되는 사업에 대해 사업시행주체에게 금융상품을 판매하거나 서비스를 제공하는 방식으로 지원하고 있다. 그러나 2008년 외환위기 이후로는 위험관리를 강화하기 위해 정부의 지원 여부에 따라 사업을 구분하고 관리하고 있다.\n",
      "\n",
      "현재는 정부의 지원 여부에 따라 사업을 구분하여 관리하고 있으며, 정부가 지원하는 사업은 '국가 지원 사업'으로, 정부가 지원하지 않는 사업은 '일반 사업'으로 구분하고 있다. 국가 지원 사업은 더욱 신중하게 평가하고 관리하고 있으며, 투자 심사·평가 시에는 사업의 수익성, 위험성 등을 종합적으로 고려하여 점수를 매기고, 투자 가능성이 낮은 사업은 지원하지 않도록 하고 있다.\n",
      "\n",
      "이러한 노력에도 불구하고 여전히 일부 국가 지원 사업이 부실사업으로 전락할 수 있다는 우려가 제기되고 있다. 따라서 향후 개선 방안으로는 국가 지원 사업에 대한 감독·평가 체계를 강화하고, 부실사업 발생 시 책임자에 대한 강력한 처벌로 사전에 예방하고, 부실사업으로 인한 피해를 최소화하기 위한 대응체계를 구축하고 운영하고 있다.\n",
      "\n"
     ]
    },
    {
     "name": "stderr",
     "output_type": "stream",
     "text": [
      "Generating Responses:  97%|█████████▋| 95/98 [20:42<00:40, 13.61s/it]"
     ]
    },
    {
     "name": "stdout",
     "output_type": "stream",
     "text": [
      "Question: 미래사회보장급여에 대한 순의무란 무엇을 의미하는가?\n",
      "\n",
      "Answer: 순의무는 기초생활보장액과 부가급여를 모두 수급자에게 지급하는 경우의 비용을 말하며, 이는 국가가 국민에게 보장하는 급여의 최저 수준을 의미한다.\n",
      "\n"
     ]
    },
    {
     "name": "stderr",
     "output_type": "stream",
     "text": [
      "Generating Responses:  98%|█████████▊| 96/98 [20:50<00:24, 12.03s/it]"
     ]
    },
    {
     "name": "stdout",
     "output_type": "stream",
     "text": [
      "Question: 국가결산보고서와 지방자치단체 회계기준에서 우발부채에 대한 용어 및 회계처리가 어떻게 다른가요?\n",
      "\n",
      "Answer: ### 국가결산보고서\n",
      "\n",
      "* 우발부채는 '예산 증감내역'에서 '기타국세수입 감소' 항목으로 분류하여 보고합니다.\n",
      "\n",
      "### 지방자치단체 회계기준\n",
      "\n",
      "* 우발부채는 '회계변동내역'에서 '기타국세수입 감소' 항목으로 분류하여 보고합니다.\n",
      "\n"
     ]
    },
    {
     "name": "stderr",
     "output_type": "stream",
     "text": [
      "Generating Responses:  99%|█████████▉| 97/98 [20:59<00:10, 10.96s/it]"
     ]
    },
    {
     "name": "stdout",
     "output_type": "stream",
     "text": [
      "Question: 우발부채란 무엇이며, 그 관리가 왜 중요한가?\n",
      "\n",
      "Answer: ### 정의: 우발부채는 기업의 일반적인 경영활동에서 비롯되지 않고, 예상치 못한 사유로 발생하는 부채를 의미합니다.\n",
      "\n",
      "### 중요성: 우발부채는 기업의 재정안정성을 저해할 수 있는 주요 원인 중 하나이며, 적절한 관리를 통해 기업의 재정건전성을 유지하는 것이 중요합니다.\n",
      "\n"
     ]
    },
    {
     "name": "stderr",
     "output_type": "stream",
     "text": [
      "Generating Responses: 100%|██████████| 98/98 [21:12<00:00, 12.98s/it]"
     ]
    },
    {
     "name": "stdout",
     "output_type": "stream",
     "text": [
      "Question: 보증이란 무엇이며, 어떤 형태의 보증이 재정상태표에 부채로 기록되는가? 또한 표준화 보증이란 무엇이며, 어떤 목적으로 발행되는가?\n",
      "\n",
      "Answer: ### Response: 보증은 채무자가 채무를 이행하지 못할 경우, 보증자가 대신해서 갚아야 하는 약속을 의미합니다. 재정상태표에는 채무자가 채무를 이행하지 못할 경우 보증자가 대신해서 갚아야 하는 의무가 된 후에, 보증금액만큼의 채무로 기록됩니다. 표준화 보증은 국민권익위원회의 의결을 얻지 않으면 발행할 수 없는 보증이며, 중소기업 및 스타트업의 경영난 해소, 자금 조달 시설의 개선 등의 목적으로 발행됩니다.\n",
      "\n"
     ]
    },
    {
     "name": "stderr",
     "output_type": "stream",
     "text": [
      "\n"
     ]
    }
   ],
   "source": [
    "results = []\n",
    "\n",
    "# 각 질문에 대해 응답 생성\n",
    "for index, row in tqdm(df.iterrows(), total=df.shape[0], desc=\"Generating Responses\"):\n",
    "    prompt = row['Question']\n",
    "    \n",
    "    # 텍스트 생성\n",
    "    outputs = pipe_finetuned(\n",
    "        prompt,\n",
    "        do_sample=True,\n",
    "        temperature=0.2,\n",
    "        top_k=50,\n",
    "        top_p=0.95,\n",
    "        repetition_penalty=1.2,\n",
    "        add_special_tokens=True\n",
    "    )\n",
    "    \n",
    "    # 생성된 텍스트에서 프롬프트를 제외한 부분만 추출\n",
    "    generated_text = outputs[0]['generated_text']\n",
    "    response = generated_text[len(prompt):].strip()  # 프롬프트 부분을 제외하고 응답만 추출\n",
    "\n",
    "    # 결과를 출력하고 리스트에 저장\n",
    "    print(f\"Question: {prompt}\\n\")\n",
    "    print(f\"Answer: {response}\\n\")\n",
    "    \n",
    "    results.append({\n",
    "        'SAMPLE_ID': row['SAMPLE_ID'],\n",
    "        'Answer': response\n",
    "    })"
   ]
  },
  {
   "cell_type": "code",
   "execution_count": 20,
   "id": "d11edc26-9387-44af-8f0a-e8ba2d3f21f4",
   "metadata": {},
   "outputs": [],
   "source": [
    "df_results = pd.DataFrame(results)\n",
    "df_results.to_csv('gemma2_instruction_tuning_v1.csv', index=False)"
   ]
  },
  {
   "cell_type": "code",
   "execution_count": null,
   "id": "db67e1cf-04b6-4d28-87a8-ee96d69c2a78",
   "metadata": {},
   "outputs": [],
   "source": []
  }
 ],
 "metadata": {
  "kernelspec": {
   "display_name": "Python 3 (ipykernel)",
   "language": "python",
   "name": "python3"
  },
  "language_info": {
   "codemirror_mode": {
    "name": "ipython",
    "version": 3
   },
   "file_extension": ".py",
   "mimetype": "text/x-python",
   "name": "python",
   "nbconvert_exporter": "python",
   "pygments_lexer": "ipython3",
   "version": "3.12.3"
  }
 },
 "nbformat": 4,
 "nbformat_minor": 5
}
